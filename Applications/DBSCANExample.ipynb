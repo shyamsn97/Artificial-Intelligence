{
 "cells": [
  {
   "cell_type": "code",
   "execution_count": 1,
   "metadata": {},
   "outputs": [],
   "source": [
    "import numpy as np\n",
    "import pandas as pd\n",
    "import matplotlib.pyplot as plt\n",
    "import seaborn as sns\n",
    "from sklearn import datasets\n",
    "import sys\n",
    "sys.path.append('../tools')\n",
    "import tools"
   ]
  },
  {
   "cell_type": "markdown",
   "metadata": {},
   "source": [
    "# DBSCAN"
   ]
  },
  {
   "cell_type": "code",
   "execution_count": 2,
   "metadata": {},
   "outputs": [],
   "source": [
    "iris = datasets.load_iris()"
   ]
  },
  {
   "cell_type": "code",
   "execution_count": 3,
   "metadata": {},
   "outputs": [],
   "source": [
    "class DBSCAN():\n",
    "    \n",
    "    def __init__(self,X,epsilon,minPoints):\n",
    "        \n",
    "        self.X = X\n",
    "        self.epsilon = epsilon\n",
    "        self.minPoints = minPoints\n",
    "        self.cluster_assignements = {}\n",
    "        self.initialize()\n",
    "        \n",
    "    def initialize(self):\n",
    "        indices = np.arange(self.X.shape[0])\n",
    "        for i in indices:\n",
    "            self.cluster_assignements[i] = -1\n",
    "            \n",
    "    def findCore(self,index):\n",
    "        distances = tools.l2distance(point,self.X)\n",
    "        indices = np.where(distances < self.epsilon)[0]\n",
    "        indices = indices[np.where(indices != index)[0]]\n",
    "        if indices.shape[0] >=  minPoints:\n",
    "            return indices\n",
    "        return False\n",
    "    \n",
    "    def findNeighbors(self,point):\n",
    "        distances = tools.l2distance(point,self.X)\n",
    "        indices = np.where(distances < self.epsilon)[0]\n",
    "        \n",
    "        \n",
    "    "
   ]
  }
 ],
 "metadata": {
  "kernelspec": {
   "display_name": "Python [conda env:py36]",
   "language": "python",
   "name": "conda-env-py36-py"
  },
  "language_info": {
   "codemirror_mode": {
    "name": "ipython",
    "version": 3
   },
   "file_extension": ".py",
   "mimetype": "text/x-python",
   "name": "python",
   "nbconvert_exporter": "python",
   "pygments_lexer": "ipython3",
   "version": "3.6.5"
  }
 },
 "nbformat": 4,
 "nbformat_minor": 2
}
