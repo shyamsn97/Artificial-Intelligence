{
 "cells": [
  {
   "cell_type": "code",
   "execution_count": 2,
   "metadata": {},
   "outputs": [],
   "source": [
    "import numpy as np\n",
    "import pandas as pd\n",
    "import matplotlib.pyplot as plt\n",
    "import seaborn as sns\n",
    "from sklearn import datasets\n",
    "import sys\n",
    "sys.path.append('../tools')\n",
    "import tools"
   ]
  },
  {
   "cell_type": "markdown",
   "metadata": {},
   "source": [
    "# K Nearest Neighbors"
   ]
  },
  {
   "cell_type": "code",
   "execution_count": 3,
   "metadata": {},
   "outputs": [],
   "source": [
    "iris = datasets.load_iris()"
   ]
  },
  {
   "cell_type": "code",
   "execution_count": 4,
   "metadata": {},
   "outputs": [],
   "source": [
    "X = iris.data"
   ]
  },
  {
   "cell_type": "code",
   "execution_count": 5,
   "metadata": {},
   "outputs": [],
   "source": [
    "inds = np.random.randint(X.shape[0],size=10)"
   ]
  },
  {
   "cell_type": "code",
   "execution_count": 6,
   "metadata": {},
   "outputs": [
    {
     "data": {
      "text/plain": [
       "array([[5.1, 3.5, 1.4, 0.2],\n",
       "       [4.9, 3. , 1.4, 0.2],\n",
       "       [4.7, 3.2, 1.3, 0.2],\n",
       "       [4.6, 3.1, 1.5, 0.2],\n",
       "       [5. , 3.6, 1.4, 0.2],\n",
       "       [5.4, 3.9, 1.7, 0.4],\n",
       "       [4.6, 3.4, 1.4, 0.3],\n",
       "       [5. , 3.4, 1.5, 0.2],\n",
       "       [4.4, 2.9, 1.4, 0.2],\n",
       "       [4.9, 3.1, 1.5, 0.1]])"
      ]
     },
     "execution_count": 6,
     "metadata": {},
     "output_type": "execute_result"
    }
   ],
   "source": [
    "X[:10,:]"
   ]
  },
  {
   "cell_type": "code",
   "execution_count": 7,
   "metadata": {},
   "outputs": [],
   "source": [
    "y = iris.target"
   ]
  },
  {
   "cell_type": "code",
   "execution_count": 8,
   "metadata": {},
   "outputs": [],
   "source": [
    "class KNN(): \n",
    "    \"\"\"\n",
    "        K nearest neighbor classifier. Assign a given vector to a class based on l2 distance\n",
    "        Parameters:\n",
    "        numpy array X: data matrix\n",
    "        numpy array y: labels/classes\n",
    "    \"\"\"\n",
    "    def __init__(self,X,y):\n",
    "        \n",
    "        self.X = X\n",
    "        self.y = y\n",
    "    \n",
    "    def predict(self,k,pred):\n",
    "        \n",
    "        classes = []\n",
    "        for i in range(pred.shape[0]):\n",
    "            predic = pred[i,:]\n",
    "            predic = predic.reshape(1,predic.shape[0])\n",
    "            nvec = self.X[i,:]\n",
    "            yval = self.y[i]\n",
    "            dist = tools.l2distance(predic,self.X)\n",
    "            indices = dist.argsort()[:k]\n",
    "            classcounts = y[indices]\n",
    "            vals,counts = np.unique(classcounts,return_counts=True)\n",
    "            print(indices)\n",
    "            ind=np.argmax(counts)\n",
    "            classpick = vals[ind]\n",
    "            classes.append(classpick)\n",
    "            \n",
    "        return np.array(classes)   "
   ]
  },
  {
   "cell_type": "code",
   "execution_count": 14,
   "metadata": {},
   "outputs": [
    {
     "name": "stdout",
     "output_type": "stream",
     "text": [
      "[128 132]\n",
      "[121 101]\n",
      "[139 112]\n",
      "[101 142]\n",
      "[25 34]\n",
      "[11 29]\n",
      "[16 10]\n",
      "[128 132]\n",
      "[110 147]\n",
      "[21 19]\n"
     ]
    }
   ],
   "source": [
    "m = KNN(X,y)\n",
    "predict = m.predict(2,X[inds,:])"
   ]
  },
  {
   "cell_type": "markdown",
   "metadata": {},
   "source": [
    "### Accuracy:"
   ]
  },
  {
   "cell_type": "code",
   "execution_count": 17,
   "metadata": {},
   "outputs": [
    {
     "name": "stdout",
     "output_type": "stream",
     "text": [
      "[128 132 104 103 111 116 137 112 147 140]\n",
      "[121 101 142 113 149 114 138  70 127  83]\n",
      "[139 112 145 141 120 140 124 147 116 110]\n",
      "[101 142 113 121 149  83 127 138 114 126]\n",
      "[25 34 37  9  1 30 12 45 29 49]\n",
      "[11 29  7 26 30 24  6 49 39 34]\n",
      "[16 10 48 33 19  5 21 36 32 14]\n",
      "[128 132 104 103 111 116 137 112 147 140]\n",
      "[110 147 115  77 145 137 116 141 139 127]\n",
      "[21 19 46 17  4 48  0 27 43 40]\n"
     ]
    },
    {
     "data": {
      "text/plain": [
       "1.0"
      ]
     },
     "execution_count": 17,
     "metadata": {},
     "output_type": "execute_result"
    }
   ],
   "source": [
    "tools.calc_accuracy(m.predict(10,X[inds,:]),y[inds])"
   ]
  }
 ],
 "metadata": {
  "kernelspec": {
   "display_name": "Python 3",
   "language": "python",
   "name": "python3"
  },
  "language_info": {
   "codemirror_mode": {
    "name": "ipython",
    "version": 3
   },
   "file_extension": ".py",
   "mimetype": "text/x-python",
   "name": "python",
   "nbconvert_exporter": "python",
   "pygments_lexer": "ipython3",
   "version": "3.6.4"
  }
 },
 "nbformat": 4,
 "nbformat_minor": 2
}
