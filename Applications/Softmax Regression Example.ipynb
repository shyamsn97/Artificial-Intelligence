{
 "cells": [
  {
   "cell_type": "code",
   "execution_count": 1,
   "metadata": {},
   "outputs": [],
   "source": [
    "import numpy as np\n",
    "import pandas as pd\n",
    "import sys\n",
    "sys.path.append('../tools')\n",
    "import tools\n",
    "import iterative_methods\n",
    "from sklearn import datasets"
   ]
  },
  {
   "cell_type": "markdown",
   "metadata": {},
   "source": [
    "# Softmax Regression"
   ]
  },
  {
   "cell_type": "code",
   "execution_count": 2,
   "metadata": {},
   "outputs": [],
   "source": [
    "iris = datasets.load_iris()\n",
    "X = iris.data\n",
    "y = iris.target"
   ]
  },
  {
   "cell_type": "code",
   "execution_count": 3,
   "metadata": {},
   "outputs": [],
   "source": [
    "indices = np.arange(y.shape[0])\n",
    "np.random.shuffle(indices)"
   ]
  },
  {
   "cell_type": "code",
   "execution_count": 4,
   "metadata": {},
   "outputs": [],
   "source": [
    "X = X[indices]\n",
    "y = y[indices]\n",
    "X_train, X_test, y_train, y_test = tools.cross_val_split_set(X,0.1,y)\n",
    "ones = np.ones(X_train.shape[0]).reshape(X_train.shape[0],1).astype(float)\n",
    "X_train = np.column_stack((ones,X_train))\n",
    "ones = np.ones(X_test.shape[0]).reshape(X_test.shape[0],1)\n",
    "X_test = np.column_stack((ones,X_test))"
   ]
  },
  {
   "cell_type": "code",
   "execution_count": 5,
   "metadata": {},
   "outputs": [],
   "source": [
    "class SoftmaxRegression():\n",
    "    \n",
    "    \"\"\"\n",
    "    Softmax Regression class for multi-class classification\n",
    "    Parameters:\n",
    "        X: numpy array() data matrix\n",
    "        y: numpy array() class labels, must be numeric\n",
    "        weights: numpy array() weights for prediction\n",
    "    \"\"\"\n",
    "    def __init__(self,X,y):\n",
    "        \n",
    "        self.X = X\n",
    "        self.y = np.array(pd.get_dummies(y))\n",
    "        self.weights = np.random.uniform(10,size=(X.shape[1],self.y.shape[1]))\n",
    "        \n",
    "    def gradient_func(self,parameters,X,y):\n",
    "        \n",
    "        h = self.predict(X,parameters)\n",
    "        return (X.T.dot(h-y))\n",
    "        \n",
    "    def predict(self,X,parameters=None):\n",
    "        \n",
    "        if np.all(parameters == None):\n",
    "            parameters = self.weights\n",
    "            predictions = tools.softmax(X.dot(parameters)).astype(float)\n",
    "            predictions = np.argmax(predictions,axis=1)\n",
    "            return predictions\n",
    "        return tools.softmax(X.dot(parameters)).astype(float)\n",
    "    \n",
    "    def train(self,batch_size=1,epochs=10,learning_rate=0.001):\n",
    "        \n",
    "        self.weights = iterative_methods.Mini_Batch_Gradient_Descent(self.X,self.y,self.weights,self.gradient_func,self.predict,epochs=epochs,batch_size=batch_size,loss=\"cross_entropy\",learning_rate=learning_rate)\n",
    "        \n",
    "        print(\"Train Accuracy: %s\" % str(tools.calc_accuracy(self.predict(self.X),np.argmax(self.y,axis=1))))"
   ]
  },
  {
   "cell_type": "code",
   "execution_count": 6,
   "metadata": {},
   "outputs": [],
   "source": [
    "sf = SoftmaxRegression(X_train,y_train)"
   ]
  },
  {
   "cell_type": "code",
   "execution_count": 7,
   "metadata": {},
   "outputs": [
    {
     "name": "stderr",
     "output_type": "stream",
     "text": [
      "Cross Entropy 0.11918595171949237: 100%|██████████| 1000/1000 [00:35<00:00, 28.31it/s]"
     ]
    },
    {
     "name": "stdout",
     "output_type": "stream",
     "text": [
      "Train Accuracy: 0.9703703703703703\n"
     ]
    },
    {
     "name": "stderr",
     "output_type": "stream",
     "text": [
      "\n"
     ]
    }
   ],
   "source": [
    "sf.train(epochs=1000)"
   ]
  },
  {
   "cell_type": "code",
   "execution_count": 8,
   "metadata": {},
   "outputs": [
    {
     "name": "stdout",
     "output_type": "stream",
     "text": [
      "Test Accuracy: 1.0\n"
     ]
    }
   ],
   "source": [
    "print(\"Test Accuracy: %s\" % str(tools.calc_accuracy(sf.predict(X_test),y_test)))"
   ]
  }
 ],
 "metadata": {
  "kernelspec": {
   "display_name": "Python [conda env:py36]",
   "language": "python",
   "name": "conda-env-py36-py"
  },
  "language_info": {
   "codemirror_mode": {
    "name": "ipython",
    "version": 3
   },
   "file_extension": ".py",
   "mimetype": "text/x-python",
   "name": "python",
   "nbconvert_exporter": "python",
   "pygments_lexer": "ipython3",
   "version": "3.6.5"
  }
 },
 "nbformat": 4,
 "nbformat_minor": 2
}
