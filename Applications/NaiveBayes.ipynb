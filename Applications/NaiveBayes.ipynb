{
 "cells": [
  {
   "cell_type": "code",
   "execution_count": 146,
   "metadata": {},
   "outputs": [],
   "source": [
    "import numpy as np\n",
    "import pandas as pd\n",
    "import matplotlib.pyplot as plt\n",
    "import seaborn as sns\n",
    "from sklearn import datasets"
   ]
  },
  {
   "cell_type": "code",
   "execution_count": 147,
   "metadata": {},
   "outputs": [],
   "source": [
    "iris = datasets.load_iris()"
   ]
  },
  {
   "cell_type": "code",
   "execution_count": 148,
   "metadata": {},
   "outputs": [],
   "source": [
    "X = iris.data"
   ]
  },
  {
   "cell_type": "code",
   "execution_count": 149,
   "metadata": {},
   "outputs": [
    {
     "data": {
      "text/plain": [
       "array([[5.1, 3.5, 1.4, 0.2],\n",
       "       [4.9, 3. , 1.4, 0.2],\n",
       "       [4.7, 3.2, 1.3, 0.2],\n",
       "       [4.6, 3.1, 1.5, 0.2],\n",
       "       [5. , 3.6, 1.4, 0.2],\n",
       "       [5.4, 3.9, 1.7, 0.4],\n",
       "       [4.6, 3.4, 1.4, 0.3],\n",
       "       [5. , 3.4, 1.5, 0.2],\n",
       "       [4.4, 2.9, 1.4, 0.2],\n",
       "       [4.9, 3.1, 1.5, 0.1]])"
      ]
     },
     "execution_count": 149,
     "metadata": {},
     "output_type": "execute_result"
    }
   ],
   "source": [
    "X[:10,:]"
   ]
  },
  {
   "cell_type": "code",
   "execution_count": 80,
   "metadata": {},
   "outputs": [
    {
     "data": {
      "text/plain": [
       "array([0., 1., 2., 3.])"
      ]
     },
     "execution_count": 80,
     "metadata": {},
     "output_type": "execute_result"
    }
   ],
   "source": [
    "y = iris.target"
   ]
  },
  {
   "cell_type": "code",
   "execution_count": 6,
   "metadata": {},
   "outputs": [
    {
     "data": {
      "text/plain": [
       "array([0, 0, 0, 0, 0, 0, 0, 0, 0, 0])"
      ]
     },
     "execution_count": 6,
     "metadata": {},
     "output_type": "execute_result"
    }
   ],
   "source": [
    "y[:10]"
   ]
  },
  {
   "cell_type": "code",
   "execution_count": 7,
   "metadata": {},
   "outputs": [],
   "source": [
    "df = pd.DataFrame({\"SepalLength\":iris.data[:,0],\"SepalWidth\":iris.data[:,1],\"PetalLength\":iris.data[:,2],\"PetalWidth\":iris.data[:,3],\"FlowerClass\":iris.target})"
   ]
  },
  {
   "cell_type": "code",
   "execution_count": 73,
   "metadata": {},
   "outputs": [
    {
     "data": {
      "text/html": [
       "<div>\n",
       "<style scoped>\n",
       "    .dataframe tbody tr th:only-of-type {\n",
       "        vertical-align: middle;\n",
       "    }\n",
       "\n",
       "    .dataframe tbody tr th {\n",
       "        vertical-align: top;\n",
       "    }\n",
       "\n",
       "    .dataframe thead th {\n",
       "        text-align: right;\n",
       "    }\n",
       "</style>\n",
       "<table border=\"1\" class=\"dataframe\">\n",
       "  <thead>\n",
       "    <tr style=\"text-align: right;\">\n",
       "      <th></th>\n",
       "      <th>FlowerClass</th>\n",
       "      <th>PetalLength</th>\n",
       "      <th>PetalWidth</th>\n",
       "      <th>SepalLength</th>\n",
       "      <th>SepalWidth</th>\n",
       "    </tr>\n",
       "  </thead>\n",
       "  <tbody>\n",
       "    <tr>\n",
       "      <th>0</th>\n",
       "      <td>0</td>\n",
       "      <td>1.4</td>\n",
       "      <td>0.2</td>\n",
       "      <td>5.1</td>\n",
       "      <td>3.5</td>\n",
       "    </tr>\n",
       "    <tr>\n",
       "      <th>1</th>\n",
       "      <td>0</td>\n",
       "      <td>1.4</td>\n",
       "      <td>0.2</td>\n",
       "      <td>4.9</td>\n",
       "      <td>3.0</td>\n",
       "    </tr>\n",
       "    <tr>\n",
       "      <th>2</th>\n",
       "      <td>0</td>\n",
       "      <td>1.3</td>\n",
       "      <td>0.2</td>\n",
       "      <td>4.7</td>\n",
       "      <td>3.2</td>\n",
       "    </tr>\n",
       "    <tr>\n",
       "      <th>3</th>\n",
       "      <td>0</td>\n",
       "      <td>1.5</td>\n",
       "      <td>0.2</td>\n",
       "      <td>4.6</td>\n",
       "      <td>3.1</td>\n",
       "    </tr>\n",
       "    <tr>\n",
       "      <th>4</th>\n",
       "      <td>0</td>\n",
       "      <td>1.4</td>\n",
       "      <td>0.2</td>\n",
       "      <td>5.0</td>\n",
       "      <td>3.6</td>\n",
       "    </tr>\n",
       "    <tr>\n",
       "      <th>5</th>\n",
       "      <td>0</td>\n",
       "      <td>1.7</td>\n",
       "      <td>0.4</td>\n",
       "      <td>5.4</td>\n",
       "      <td>3.9</td>\n",
       "    </tr>\n",
       "    <tr>\n",
       "      <th>6</th>\n",
       "      <td>0</td>\n",
       "      <td>1.4</td>\n",
       "      <td>0.3</td>\n",
       "      <td>4.6</td>\n",
       "      <td>3.4</td>\n",
       "    </tr>\n",
       "    <tr>\n",
       "      <th>7</th>\n",
       "      <td>0</td>\n",
       "      <td>1.5</td>\n",
       "      <td>0.2</td>\n",
       "      <td>5.0</td>\n",
       "      <td>3.4</td>\n",
       "    </tr>\n",
       "    <tr>\n",
       "      <th>8</th>\n",
       "      <td>0</td>\n",
       "      <td>1.4</td>\n",
       "      <td>0.2</td>\n",
       "      <td>4.4</td>\n",
       "      <td>2.9</td>\n",
       "    </tr>\n",
       "    <tr>\n",
       "      <th>9</th>\n",
       "      <td>0</td>\n",
       "      <td>1.5</td>\n",
       "      <td>0.1</td>\n",
       "      <td>4.9</td>\n",
       "      <td>3.1</td>\n",
       "    </tr>\n",
       "  </tbody>\n",
       "</table>\n",
       "</div>"
      ],
      "text/plain": [
       "   FlowerClass  PetalLength  PetalWidth  SepalLength  SepalWidth\n",
       "0            0          1.4         0.2          5.1         3.5\n",
       "1            0          1.4         0.2          4.9         3.0\n",
       "2            0          1.3         0.2          4.7         3.2\n",
       "3            0          1.5         0.2          4.6         3.1\n",
       "4            0          1.4         0.2          5.0         3.6\n",
       "5            0          1.7         0.4          5.4         3.9\n",
       "6            0          1.4         0.3          4.6         3.4\n",
       "7            0          1.5         0.2          5.0         3.4\n",
       "8            0          1.4         0.2          4.4         2.9\n",
       "9            0          1.5         0.1          4.9         3.1"
      ]
     },
     "execution_count": 73,
     "metadata": {},
     "output_type": "execute_result"
    }
   ],
   "source": [
    "df.head(10)"
   ]
  },
  {
   "cell_type": "code",
   "execution_count": 113,
   "metadata": {},
   "outputs": [
    {
     "data": {
      "text/plain": [
       "array([3, 1, 2, 2, 3, 3, 3, 3, 1, 2, 3, 3, 1, 1, 3, 3, 3, 3, 3, 3, 3, 3,\n",
       "       3, 2, 3, 1, 3, 3, 3, 2, 2, 3, 3, 3, 2, 2, 3, 2, 1, 3, 3, 0, 2, 3,\n",
       "       3, 1, 3, 2, 3, 2, 2, 2, 2, 0, 0, 0, 2, 0, 1, 0, 0, 1, 0, 1, 1, 2,\n",
       "       1, 0, 0, 0, 2, 0, 0, 0, 1, 1, 0, 1, 1, 0, 0, 0, 0, 0, 1, 3, 2, 0,\n",
       "       1, 0, 0, 1, 0, 0, 0, 1, 1, 1, 0, 0, 2, 0, 1, 1, 1, 1, 0, 1, 0, 3,\n",
       "       2, 0, 1, 0, 0, 2, 1, 3, 0, 0, 2, 0, 0, 0, 2, 2, 0, 1, 0, 1, 0, 3,\n",
       "       0, 0, 0, 1, 3, 2, 1, 2, 2, 2, 0, 2, 2, 1, 0, 1, 3, 1])"
      ]
     },
     "execution_count": 113,
     "metadata": {},
     "output_type": "execute_result"
    }
   ],
   "source": [
    "pd.qcut(X[:,1],4,labels=False)"
   ]
  },
  {
   "cell_type": "code",
   "execution_count": 82,
   "metadata": {},
   "outputs": [
    {
     "data": {
      "text/plain": [
       "array([0., 1., 2., 3.])"
      ]
     },
     "execution_count": 82,
     "metadata": {},
     "output_type": "execute_result"
    }
   ],
   "source": [
    "np.unique()"
   ]
  },
  {
   "cell_type": "code",
   "execution_count": 41,
   "metadata": {},
   "outputs": [],
   "source": [
    "xy = np.column_stack((X,y))"
   ]
  },
  {
   "cell_type": "code",
   "execution_count": 42,
   "metadata": {},
   "outputs": [
    {
     "data": {
      "text/plain": [
       "array([[5.1, 3.5, 1.4, 0.2, 0. ],\n",
       "       [4.9, 3. , 1.4, 0.2, 0. ],\n",
       "       [4.7, 3.2, 1.3, 0.2, 0. ],\n",
       "       [4.6, 3.1, 1.5, 0.2, 0. ]])"
      ]
     },
     "execution_count": 42,
     "metadata": {},
     "output_type": "execute_result"
    }
   ],
   "source": [
    "xy[:4]"
   ]
  },
  {
   "cell_type": "code",
   "execution_count": 47,
   "metadata": {},
   "outputs": [
    {
     "data": {
      "text/plain": [
       "0.23333333333333334"
      ]
     },
     "execution_count": 47,
     "metadata": {},
     "output_type": "execute_result"
    }
   ],
   "source": [
    "np.unique(xy[:,0]).shape[0]/xy.shape[0]"
   ]
  },
  {
   "cell_type": "code",
   "execution_count": 25,
   "metadata": {},
   "outputs": [],
   "source": [
    "l = np.unique((np.where(xy[:,4]==0) and np.where(xy[:3]==3)))"
   ]
  },
  {
   "cell_type": "code",
   "execution_count": 26,
   "metadata": {},
   "outputs": [
    {
     "data": {
      "text/plain": [
       "array([1])"
      ]
     },
     "execution_count": 26,
     "metadata": {},
     "output_type": "execute_result"
    }
   ],
   "source": [
    "l"
   ]
  },
  {
   "cell_type": "code",
   "execution_count": 15,
   "metadata": {},
   "outputs": [
    {
     "data": {
      "text/plain": [
       "(4,)"
      ]
     },
     "execution_count": 15,
     "metadata": {},
     "output_type": "execute_result"
    }
   ],
   "source": [
    "X[l,:][0].shape"
   ]
  },
  {
   "cell_type": "code",
   "execution_count": 145,
   "metadata": {},
   "outputs": [],
   "source": [
    "class NaiveBayesClassifier():\n",
    "    \"\"\"\n",
    "    Naive bayes classifier that utilized the unique property of conditional independence to approximate probabilities\n",
    "    Parameters:\n",
    "        X: numpy array() with n x p columns, p generally < n\n",
    "        y: numpy array() of labels(classes)\n",
    "        priors: numpy array() of prior probabilities\n",
    "        binning: boolean that determines whether to quantile bin continuous values, default is true.\n",
    "       \n",
    "    \"\"\"\n",
    "    def __init__(self,X,y):\n",
    "\n",
    "        self.X = X\n",
    "        self.y = y\n",
    "        self.datamatrix = np.column_stack((X,y))\n",
    "        self.classvals = {}\n",
    "\n",
    "    def get_data(self,binning):\n",
    "        \n",
    "        \"\"\"\n",
    "        Prior prob P(Y) is the value at index 1 in data\n",
    "        \n",
    "        \"\"\"\n",
    "        if self.binning == True:\n",
    "            for i in range(self.X.shape[1]):\n",
    "                if (np.unique(self.X[:,i]).shape[0]/self.X.shape[0]) > 0.1:\n",
    "                    self.X[:,i] = pd.qcut(self.X[:,i],4,labels=False)\n",
    "                    \n",
    "        self.classvals = {}\n",
    "        classes = np.unique(self.y)\n",
    "        for i in classes:\n",
    "            classx = self.X[np.where(self.y == i),:][0]\n",
    "            data = [classx,classx.shape[0]/self.y.shape[0]]\n",
    "            self.classvals[i] = data\n",
    "            \n",
    "    def generate_probabilites(self):\n",
    "        \"\"\"\n",
    "        generate posterior probabilities P(X|Y)\n",
    "        \"\"\"\n",
    "        \n",
    "    \n",
    "        "
   ]
  },
  {
   "cell_type": "code",
   "execution_count": 141,
   "metadata": {},
   "outputs": [],
   "source": [
    "m = NaiveBayesClassifier(X,y,True)"
   ]
  },
  {
   "cell_type": "code",
   "execution_count": 142,
   "metadata": {},
   "outputs": [
    {
     "data": {
      "text/plain": [
       "array([[0., 3., 0., 0.],\n",
       "       [0., 1., 0., 0.],\n",
       "       [0., 2., 0., 0.],\n",
       "       [0., 2., 0., 0.],\n",
       "       [0., 3., 0., 0.],\n",
       "       [1., 3., 1., 1.],\n",
       "       [0., 3., 0., 0.],\n",
       "       [0., 3., 0., 0.],\n",
       "       [0., 1., 0., 0.],\n",
       "       [0., 2., 0., 0.],\n",
       "       [1., 3., 0., 0.],\n",
       "       [0., 3., 0., 0.],\n",
       "       [0., 1., 0., 0.],\n",
       "       [0., 1., 0., 0.],\n",
       "       [1., 3., 0., 0.],\n",
       "       [1., 3., 0., 1.],\n",
       "       [1., 3., 0., 1.],\n",
       "       [0., 3., 0., 0.],\n",
       "       [1., 3., 1., 0.],\n",
       "       [0., 3., 0., 0.],\n",
       "       [1., 3., 1., 0.],\n",
       "       [0., 3., 0., 1.],\n",
       "       [0., 3., 0., 0.],\n",
       "       [0., 2., 1., 1.],\n",
       "       [0., 3., 1., 0.],\n",
       "       [0., 1., 0., 0.],\n",
       "       [0., 3., 0., 1.],\n",
       "       [1., 3., 0., 0.],\n",
       "       [1., 3., 0., 0.],\n",
       "       [0., 2., 0., 0.],\n",
       "       [0., 2., 0., 0.],\n",
       "       [1., 3., 0., 1.],\n",
       "       [1., 3., 0., 0.],\n",
       "       [1., 3., 0., 0.],\n",
       "       [0., 2., 0., 0.],\n",
       "       [0., 2., 0., 0.],\n",
       "       [1., 3., 0., 0.],\n",
       "       [0., 2., 0., 0.],\n",
       "       [0., 1., 0., 0.],\n",
       "       [0., 3., 0., 0.],\n",
       "       [0., 3., 0., 0.],\n",
       "       [0., 0., 0., 0.],\n",
       "       [0., 2., 0., 0.],\n",
       "       [0., 3., 0., 1.],\n",
       "       [0., 3., 1., 1.],\n",
       "       [0., 1., 0., 0.],\n",
       "       [0., 3., 0., 0.],\n",
       "       [0., 2., 0., 0.],\n",
       "       [1., 3., 0., 0.],\n",
       "       [0., 2., 0., 0.],\n",
       "       [3., 2., 2., 2.],\n",
       "       [2., 2., 2., 2.],\n",
       "       [3., 2., 2., 2.],\n",
       "       [1., 0., 1., 1.],\n",
       "       [3., 0., 2., 2.],\n",
       "       [1., 0., 2., 1.],\n",
       "       [2., 2., 2., 2.],\n",
       "       [0., 0., 1., 1.],\n",
       "       [3., 1., 2., 1.],\n",
       "       [1., 0., 1., 2.],\n",
       "       [0., 0., 1., 1.],\n",
       "       [2., 1., 1., 2.],\n",
       "       [2., 0., 1., 1.],\n",
       "       [2., 1., 2., 2.],\n",
       "       [1., 1., 1., 1.],\n",
       "       [3., 2., 2., 2.],\n",
       "       [1., 1., 2., 2.],\n",
       "       [1., 0., 1., 1.],\n",
       "       [2., 0., 2., 2.],\n",
       "       [1., 0., 1., 1.],\n",
       "       [2., 2., 2., 2.],\n",
       "       [2., 0., 1., 1.],\n",
       "       [2., 0., 2., 2.],\n",
       "       [2., 0., 2., 1.],\n",
       "       [2., 1., 1., 1.],\n",
       "       [3., 1., 2., 2.],\n",
       "       [3., 0., 2., 2.],\n",
       "       [3., 1., 2., 2.],\n",
       "       [2., 1., 2., 2.],\n",
       "       [1., 0., 1., 1.],\n",
       "       [1., 0., 1., 1.],\n",
       "       [1., 0., 1., 1.],\n",
       "       [1., 0., 1., 1.],\n",
       "       [2., 0., 2., 2.],\n",
       "       [1., 1., 2., 2.],\n",
       "       [2., 3., 2., 2.],\n",
       "       [3., 2., 2., 2.],\n",
       "       [2., 0., 2., 1.],\n",
       "       [1., 1., 1., 1.],\n",
       "       [1., 0., 1., 1.],\n",
       "       [1., 0., 2., 1.],\n",
       "       [2., 1., 2., 2.],\n",
       "       [1., 0., 1., 1.],\n",
       "       [0., 0., 1., 1.],\n",
       "       [1., 0., 1., 1.],\n",
       "       [1., 1., 1., 1.],\n",
       "       [1., 1., 1., 1.],\n",
       "       [2., 1., 1., 1.],\n",
       "       [0., 0., 1., 1.],\n",
       "       [1., 0., 1., 1.],\n",
       "       [2., 2., 3., 3.],\n",
       "       [1., 0., 2., 3.],\n",
       "       [3., 1., 3., 3.],\n",
       "       [2., 1., 3., 2.],\n",
       "       [3., 1., 3., 3.],\n",
       "       [3., 1., 3., 3.],\n",
       "       [0., 0., 2., 2.],\n",
       "       [3., 1., 3., 2.],\n",
       "       [3., 0., 3., 2.],\n",
       "       [3., 3., 3., 3.],\n",
       "       [3., 2., 2., 3.],\n",
       "       [2., 0., 3., 3.],\n",
       "       [3., 1., 3., 3.],\n",
       "       [1., 0., 2., 3.],\n",
       "       [1., 0., 2., 3.],\n",
       "       [2., 2., 3., 3.],\n",
       "       [3., 1., 3., 2.],\n",
       "       [3., 3., 3., 3.],\n",
       "       [3., 0., 3., 3.],\n",
       "       [2., 0., 2., 2.],\n",
       "       [3., 2., 3., 3.],\n",
       "       [1., 0., 2., 3.],\n",
       "       [3., 0., 3., 3.],\n",
       "       [2., 0., 2., 2.],\n",
       "       [3., 2., 3., 3.],\n",
       "       [3., 2., 3., 2.],\n",
       "       [2., 0., 2., 2.],\n",
       "       [2., 1., 2., 2.],\n",
       "       [2., 0., 3., 3.],\n",
       "       [3., 1., 3., 2.],\n",
       "       [3., 0., 3., 3.],\n",
       "       [3., 3., 3., 3.],\n",
       "       [2., 0., 3., 3.],\n",
       "       [2., 0., 2., 2.],\n",
       "       [2., 0., 3., 2.],\n",
       "       [3., 1., 3., 3.],\n",
       "       [2., 3., 3., 3.],\n",
       "       [2., 2., 3., 2.],\n",
       "       [2., 1., 2., 2.],\n",
       "       [3., 2., 3., 3.],\n",
       "       [3., 2., 3., 3.],\n",
       "       [3., 2., 2., 3.],\n",
       "       [1., 0., 2., 3.],\n",
       "       [3., 2., 3., 3.],\n",
       "       [3., 2., 3., 3.],\n",
       "       [3., 1., 3., 3.],\n",
       "       [2., 0., 2., 3.],\n",
       "       [3., 1., 3., 3.],\n",
       "       [2., 3., 3., 3.],\n",
       "       [2., 1., 2., 2.]])"
      ]
     },
     "execution_count": 142,
     "metadata": {},
     "output_type": "execute_result"
    }
   ],
   "source": [
    "m.X"
   ]
  },
  {
   "cell_type": "code",
   "execution_count": null,
   "metadata": {},
   "outputs": [],
   "source": [
    "m.classvals[0]"
   ]
  },
  {
   "cell_type": "code",
   "execution_count": null,
   "metadata": {},
   "outputs": [],
   "source": []
  }
 ],
 "metadata": {
  "kernelspec": {
   "display_name": "Python 3",
   "language": "python",
   "name": "python3"
  },
  "language_info": {
   "codemirror_mode": {
    "name": "ipython",
    "version": 3
   },
   "file_extension": ".py",
   "mimetype": "text/x-python",
   "name": "python",
   "nbconvert_exporter": "python",
   "pygments_lexer": "ipython3",
   "version": "3.6.4"
  }
 },
 "nbformat": 4,
 "nbformat_minor": 2
}
