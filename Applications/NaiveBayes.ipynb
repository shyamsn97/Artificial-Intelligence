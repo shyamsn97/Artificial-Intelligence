{
 "cells": [
  {
   "cell_type": "code",
   "execution_count": 193,
   "metadata": {},
   "outputs": [],
   "source": [
    "import numpy as np\n",
    "import pandas as pd\n",
    "import matplotlib.pyplot as plt\n",
    "import seaborn as sns\n",
    "from sklearn import datasets\n",
    "import sys\n",
    "sys.path.append('../tools')\n",
    "import tools"
   ]
  },
  {
   "cell_type": "markdown",
   "metadata": {},
   "source": [
    "# Naive Bayes using Iris Data"
   ]
  },
  {
   "cell_type": "code",
   "execution_count": 59,
   "metadata": {},
   "outputs": [],
   "source": [
    "iris = datasets.load_iris()"
   ]
  },
  {
   "cell_type": "code",
   "execution_count": 60,
   "metadata": {},
   "outputs": [],
   "source": [
    "X = iris.data"
   ]
  },
  {
   "cell_type": "code",
   "execution_count": 58,
   "metadata": {},
   "outputs": [
    {
     "data": {
      "text/plain": [
       "array([[0., 3., 0., 0.],\n",
       "       [0., 1., 0., 0.],\n",
       "       [0., 2., 0., 0.],\n",
       "       [0., 2., 0., 0.],\n",
       "       [0., 3., 0., 0.],\n",
       "       [1., 3., 1., 1.],\n",
       "       [0., 3., 0., 0.],\n",
       "       [0., 3., 0., 0.],\n",
       "       [0., 1., 0., 0.],\n",
       "       [0., 2., 0., 0.]])"
      ]
     },
     "execution_count": 58,
     "metadata": {},
     "output_type": "execute_result"
    }
   ],
   "source": [
    "X[:10,:]"
   ]
  },
  {
   "cell_type": "code",
   "execution_count": 15,
   "metadata": {},
   "outputs": [],
   "source": [
    "y = iris.target"
   ]
  },
  {
   "cell_type": "code",
   "execution_count": 7,
   "metadata": {},
   "outputs": [
    {
     "data": {
      "text/plain": [
       "array([0, 0, 0, 0, 0, 0, 0, 0, 0, 0])"
      ]
     },
     "execution_count": 7,
     "metadata": {},
     "output_type": "execute_result"
    }
   ],
   "source": [
    "y[:10]"
   ]
  },
  {
   "cell_type": "code",
   "execution_count": 8,
   "metadata": {},
   "outputs": [],
   "source": [
    "df = pd.DataFrame({\"SepalLength\":iris.data[:,0],\"SepalWidth\":iris.data[:,1],\"PetalLength\":iris.data[:,2],\"PetalWidth\":iris.data[:,3],\"FlowerClass\":iris.target})"
   ]
  },
  {
   "cell_type": "code",
   "execution_count": 9,
   "metadata": {},
   "outputs": [
    {
     "data": {
      "text/html": [
       "<div>\n",
       "<style scoped>\n",
       "    .dataframe tbody tr th:only-of-type {\n",
       "        vertical-align: middle;\n",
       "    }\n",
       "\n",
       "    .dataframe tbody tr th {\n",
       "        vertical-align: top;\n",
       "    }\n",
       "\n",
       "    .dataframe thead th {\n",
       "        text-align: right;\n",
       "    }\n",
       "</style>\n",
       "<table border=\"1\" class=\"dataframe\">\n",
       "  <thead>\n",
       "    <tr style=\"text-align: right;\">\n",
       "      <th></th>\n",
       "      <th>FlowerClass</th>\n",
       "      <th>PetalLength</th>\n",
       "      <th>PetalWidth</th>\n",
       "      <th>SepalLength</th>\n",
       "      <th>SepalWidth</th>\n",
       "    </tr>\n",
       "  </thead>\n",
       "  <tbody>\n",
       "    <tr>\n",
       "      <th>0</th>\n",
       "      <td>0</td>\n",
       "      <td>1.4</td>\n",
       "      <td>0.2</td>\n",
       "      <td>5.1</td>\n",
       "      <td>3.5</td>\n",
       "    </tr>\n",
       "    <tr>\n",
       "      <th>1</th>\n",
       "      <td>0</td>\n",
       "      <td>1.4</td>\n",
       "      <td>0.2</td>\n",
       "      <td>4.9</td>\n",
       "      <td>3.0</td>\n",
       "    </tr>\n",
       "    <tr>\n",
       "      <th>2</th>\n",
       "      <td>0</td>\n",
       "      <td>1.3</td>\n",
       "      <td>0.2</td>\n",
       "      <td>4.7</td>\n",
       "      <td>3.2</td>\n",
       "    </tr>\n",
       "    <tr>\n",
       "      <th>3</th>\n",
       "      <td>0</td>\n",
       "      <td>1.5</td>\n",
       "      <td>0.2</td>\n",
       "      <td>4.6</td>\n",
       "      <td>3.1</td>\n",
       "    </tr>\n",
       "    <tr>\n",
       "      <th>4</th>\n",
       "      <td>0</td>\n",
       "      <td>1.4</td>\n",
       "      <td>0.2</td>\n",
       "      <td>5.0</td>\n",
       "      <td>3.6</td>\n",
       "    </tr>\n",
       "    <tr>\n",
       "      <th>5</th>\n",
       "      <td>0</td>\n",
       "      <td>1.7</td>\n",
       "      <td>0.4</td>\n",
       "      <td>5.4</td>\n",
       "      <td>3.9</td>\n",
       "    </tr>\n",
       "    <tr>\n",
       "      <th>6</th>\n",
       "      <td>0</td>\n",
       "      <td>1.4</td>\n",
       "      <td>0.3</td>\n",
       "      <td>4.6</td>\n",
       "      <td>3.4</td>\n",
       "    </tr>\n",
       "    <tr>\n",
       "      <th>7</th>\n",
       "      <td>0</td>\n",
       "      <td>1.5</td>\n",
       "      <td>0.2</td>\n",
       "      <td>5.0</td>\n",
       "      <td>3.4</td>\n",
       "    </tr>\n",
       "    <tr>\n",
       "      <th>8</th>\n",
       "      <td>0</td>\n",
       "      <td>1.4</td>\n",
       "      <td>0.2</td>\n",
       "      <td>4.4</td>\n",
       "      <td>2.9</td>\n",
       "    </tr>\n",
       "    <tr>\n",
       "      <th>9</th>\n",
       "      <td>0</td>\n",
       "      <td>1.5</td>\n",
       "      <td>0.1</td>\n",
       "      <td>4.9</td>\n",
       "      <td>3.1</td>\n",
       "    </tr>\n",
       "  </tbody>\n",
       "</table>\n",
       "</div>"
      ],
      "text/plain": [
       "   FlowerClass  PetalLength  PetalWidth  SepalLength  SepalWidth\n",
       "0            0          1.4         0.2          5.1         3.5\n",
       "1            0          1.4         0.2          4.9         3.0\n",
       "2            0          1.3         0.2          4.7         3.2\n",
       "3            0          1.5         0.2          4.6         3.1\n",
       "4            0          1.4         0.2          5.0         3.6\n",
       "5            0          1.7         0.4          5.4         3.9\n",
       "6            0          1.4         0.3          4.6         3.4\n",
       "7            0          1.5         0.2          5.0         3.4\n",
       "8            0          1.4         0.2          4.4         2.9\n",
       "9            0          1.5         0.1          4.9         3.1"
      ]
     },
     "execution_count": 9,
     "metadata": {},
     "output_type": "execute_result"
    }
   ],
   "source": [
    "df.head(10)"
   ]
  },
  {
   "cell_type": "code",
   "execution_count": 31,
   "metadata": {},
   "outputs": [
    {
     "data": {
      "text/plain": [
       "array([3, 1, 2, 2, 3, 3, 3, 3, 1, 2, 3, 3, 1, 1, 3, 3, 3, 3, 3, 3, 3, 3,\n",
       "       3, 2, 3, 1, 3, 3, 3, 2, 2, 3, 3, 3, 2, 2, 3, 2, 1, 3, 3, 0, 2, 3,\n",
       "       3, 1, 3, 2, 3, 2, 2, 2, 2, 0, 0, 0, 2, 0, 1, 0, 0, 1, 0, 1, 1, 2,\n",
       "       1, 0, 0, 0, 2, 0, 0, 0, 1, 1, 0, 1, 1, 0, 0, 0, 0, 0, 1, 3, 2, 0,\n",
       "       1, 0, 0, 1, 0, 0, 0, 1, 1, 1, 0, 0, 2, 0, 1, 1, 1, 1, 0, 1, 0, 3,\n",
       "       2, 0, 1, 0, 0, 2, 1, 3, 0, 0, 2, 0, 0, 0, 2, 2, 0, 1, 0, 1, 0, 3,\n",
       "       0, 0, 0, 1, 3, 2, 1, 2, 2, 2, 0, 2, 2, 1, 0, 1, 3, 1])"
      ]
     },
     "execution_count": 31,
     "metadata": {},
     "output_type": "execute_result"
    }
   ],
   "source": [
    "pd.qcut(X[:,1],4,labels=False)"
   ]
  },
  {
   "cell_type": "code",
   "execution_count": 180,
   "metadata": {},
   "outputs": [],
   "source": [
    "class NaiveBayes():\n",
    "    \"\"\"\n",
    "    Naive bayes classifier that utilized the unique property of conditional independence to approximate probabilities\n",
    "    Parameters:\n",
    "        X: numpy array() with n x p columns, p generally < n\n",
    "        y: numpy array() of labels(classes)\n",
    "        binning: set to true if dealing with continuous variables, where values are binned into four quantiles\n",
    "        conditionals: dictionary with numpy arrays() of conditional bayesian probs\n",
    "        priors: dictionary with numpy arrays() of prior probabilities      \n",
    "        prior_indices: lookup table for the indices where y vals are located\n",
    "    \"\"\"\n",
    "    def __init__(self,X,y,binning=False):\n",
    "\n",
    "        self.X = X.copy()\n",
    "        self.y = y.copy()\n",
    "        self.bins = {}\n",
    "        if binning == True:\n",
    "            self.binvals(self.X)\n",
    "        self.binning = binning\n",
    "        self.conditionals = {}\n",
    "        self.priors = {}\n",
    "        self.prior_indices = {}\n",
    "        self.get_priors()\n",
    "    \n",
    "    def binvals(self,values):\n",
    "        for i in range(values.shape[1]):\n",
    "            self.bins[i] = pd.qcut(values[:,i],4,retbins=True)[1]\n",
    "            values[:,i] = pd.cut(values[:,i], self.bins[i], labels=False, include_lowest=True)\n",
    "            \n",
    "    def get_priors(self):\n",
    "        \"\"\"\n",
    "        Prior probs for each class y, P(Y=y)\n",
    "        \"\"\"\n",
    "        uniquevals = np.unique(self.y)\n",
    "        for i in uniquevals:\n",
    "            indices = np.where(self.y == i)[0]\n",
    "            self.prior_indices[i] = indices\n",
    "            self.priors[i] = indices.shape[0]/self.y.shape[0]\n",
    "            \n",
    "    def get_conditionals(self,observation,y_val):\n",
    "        \n",
    "        indices = self.prior_indices[y_val]\n",
    "        size = self.X.shape[0]\n",
    "        prob = 1\n",
    "        for i in range(observation.shape[1]):\n",
    "            values = self.X[indices,i]\n",
    "            values = np.where(values == observation[:,i])[0]\n",
    "            prob = prob*((values.shape[0]/size))\n",
    "        return prob\n",
    "            \n",
    "    def predict(self,observations):\n",
    "        \"\"\"\n",
    "            observations must be either vectors of shape 1xp or matrices where rows = observations\n",
    "        \"\"\"\n",
    "        if self.binning == True:\n",
    "            observations = observations.copy()\n",
    "            for i in range(observations.shape[1]):\n",
    "                observations[:,i] = pd.cut(observations[:,i], self.bins[i], labels=False, include_lowest=True)\n",
    "        if observations.shape[1] != self.X.shape[1]:\n",
    "            print(\"Error: observation columns not the same rank as data X\")\n",
    "            return None\n",
    "        \n",
    "        prediction = []\n",
    "        columns = self.X.shape[1]\n",
    "        for obs in range(observations.shape[0]):\n",
    "            obs_prediction = []\n",
    "            for key in list(self.priors.keys()):\n",
    "                val = self.get_conditionals(observations[obs].reshape(1,columns),key)\n",
    "                obs_prediction.append(val)\n",
    "            prediction.append(np.argmax(obs_prediction))\n",
    "        return np.array(prediction).reshape(len(prediction),)\n",
    "                \n",
    "                \n",
    "                \n",
    "                \n",
    "            \n",
    "        \n",
    "        \n",
    "    \n",
    "        "
   ]
  },
  {
   "cell_type": "code",
   "execution_count": 189,
   "metadata": {},
   "outputs": [],
   "source": [
    "nb = NaiveBayes(X,y,True)\n",
    "obs = X.reshape(150,4)"
   ]
  },
  {
   "cell_type": "code",
   "execution_count": 190,
   "metadata": {},
   "outputs": [],
   "source": [
    "predictions = nb.predict(obs)"
   ]
  },
  {
   "cell_type": "code",
   "execution_count": 192,
   "metadata": {},
   "outputs": [
    {
     "data": {
      "text/plain": [
       "array([0, 0, 0, 0, 0, 0, 0, 0, 0, 0, 0, 0, 0, 0, 0, 0, 0, 0, 0, 0, 0, 0,\n",
       "       0, 0, 0, 0, 0, 0, 0, 0, 0, 0, 0, 0, 0, 0, 0, 0, 0, 0, 0, 0, 0, 0,\n",
       "       0, 0, 0, 0, 0, 0, 2, 1, 2, 1, 1, 1, 1, 1, 1, 1, 1, 1, 1, 1, 1, 2,\n",
       "       1, 1, 1, 1, 1, 1, 1, 1, 1, 2, 1, 2, 1, 1, 1, 1, 1, 1, 1, 2, 2, 1,\n",
       "       1, 1, 1, 1, 1, 1, 1, 1, 1, 1, 1, 1, 2, 2, 2, 2, 2, 2, 1, 2, 2, 2,\n",
       "       2, 2, 2, 2, 2, 2, 2, 2, 2, 1, 2, 2, 2, 1, 2, 2, 1, 1, 2, 2, 2, 2,\n",
       "       2, 1, 2, 2, 2, 2, 1, 2, 2, 2, 2, 2, 2, 2, 2, 2, 2, 1])"
      ]
     },
     "execution_count": 192,
     "metadata": {},
     "output_type": "execute_result"
    }
   ],
   "source": [
    "predictions"
   ]
  },
  {
   "cell_type": "code",
   "execution_count": 201,
   "metadata": {},
   "outputs": [
    {
     "name": "stdout",
     "output_type": "stream",
     "text": [
      "Accuracy: 0.900000\n"
     ]
    }
   ],
   "source": [
    "print(\"Accuracy: %f\" % tools.calc_accuracy(predictions,y))"
   ]
  }
 ],
 "metadata": {
  "kernelspec": {
   "display_name": "Python [default]",
   "language": "python",
   "name": "python3"
  },
  "language_info": {
   "codemirror_mode": {
    "name": "ipython",
    "version": 3
   },
   "file_extension": ".py",
   "mimetype": "text/x-python",
   "name": "python",
   "nbconvert_exporter": "python",
   "pygments_lexer": "ipython3",
   "version": "3.6.5"
  }
 },
 "nbformat": 4,
 "nbformat_minor": 2
}
