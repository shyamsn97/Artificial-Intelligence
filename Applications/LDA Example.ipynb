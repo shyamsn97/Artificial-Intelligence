{
 "cells": [
  {
   "cell_type": "code",
   "execution_count": 1,
   "metadata": {},
   "outputs": [],
   "source": [
    "import numpy as np\n",
    "import pandas as pd\n",
    "import matplotlib.pyplot as plt\n",
    "import seaborn as sns\n",
    "from sklearn import datasets\n",
    "import sys\n",
    "sys.path.append('../tools')\n",
    "import tools"
   ]
  },
  {
   "cell_type": "markdown",
   "metadata": {},
   "source": [
    "# Linear Discriminant Analysis"
   ]
  },
  {
   "cell_type": "code",
   "execution_count": 2,
   "metadata": {},
   "outputs": [],
   "source": [
    "iris = datasets.load_iris()"
   ]
  },
  {
   "cell_type": "code",
   "execution_count": 3,
   "metadata": {},
   "outputs": [],
   "source": [
    "def split_set(X,portion,y=None):\n",
    "    X = np.array(X)\n",
    "    y = np.array(y)\n",
    "    size = int(X.shape[0]*portion)\n",
    "    indexlist = np.arange(X.shape[0])\n",
    "    testinds = np.random.choice(indexlist, size, replace=False)\n",
    "    traininds = np.array([x for x in range(X.shape[0]) if x not in testinds])  \n",
    "    if np.all(y == None):\n",
    "        return X[traininds],X[testinds]\n",
    "    else:\n",
    "        return X[traininds],X[testinds],y[traininds],y[testinds]"
   ]
  },
  {
   "cell_type": "code",
   "execution_count": 4,
   "metadata": {},
   "outputs": [],
   "source": [
    "X = iris.data\n",
    "y = iris.target\n",
    "X_train, X_test, y_train, y_test = split_set(X,0.1,y)"
   ]
  },
  {
   "cell_type": "code",
   "execution_count": 11,
   "metadata": {},
   "outputs": [],
   "source": [
    "class LDA():\n",
    "    \"\"\"\n",
    "    Linear Discriminant Analysis Classifier using Gaussian assumptions\n",
    "    Parameters:\n",
    "    numpy array X: data matrix, must have shape of length two (for vectors, reshape with column = 1)\n",
    "    numpy array y: class labels, must be numeric\n",
    "    \"\"\"\n",
    "    def __init__(self,X,y):\n",
    "        self.X = X\n",
    "        self.y = y\n",
    "        self.priors = self.generate_priors()\n",
    "        self.params = {\"mu\":[],\"sigma\":[]}\n",
    "        self.predict = None\n",
    "        self.initialize()\n",
    "        \n",
    "    def initialize(self):\n",
    "        X = self.X\n",
    "        self.generate_mu()\n",
    "        self.generate_sigma()\n",
    "        if X.shape[1] == 1:\n",
    "            self.predict = self.oned\n",
    "        else:\n",
    "            self.predict = self.multd\n",
    "    \n",
    "    def generate_priors(self):\n",
    "        return np.log((np.unique(self.y,return_counts=True)[1]/self.y.shape[0]).reshape(1,np.unique(self.y).shape[0]))\n",
    "    \n",
    "    def generate_mu(self):\n",
    "        self.params[\"mu\"] = []\n",
    "        X = self.X\n",
    "        y = self.y\n",
    "        indices = np.arange(y.shape[0])\n",
    "        uniquevals = np.unique(y)\n",
    "        if X.shape[1] == 1:\n",
    "            for i in uniquevals:\n",
    "                find = np.where(y == i)[0]\n",
    "                self.params[\"mu\"].append(np.mean(X[find]))\n",
    "            self.params[\"mu\"] = np.array(self.params[\"mu\"]).reshape(1,uniquevals.shape[0])\n",
    "        else:\n",
    "            for i in uniquevals:\n",
    "                find = np.where(y == i)[0]\n",
    "                self.params[\"mu\"].append(np.mean(X[find],axis=0))\n",
    "            \n",
    "    def generate_sigma(self):\n",
    "        self.params[\"sigma\"] = []\n",
    "        X = self.X\n",
    "        y = self.y\n",
    "        indices = np.arange(y.shape[0])\n",
    "        uniquevals = np.unique(y)\n",
    "        if X.shape[1] == 1:\n",
    "            var = 0\n",
    "            for i in uniquevals:\n",
    "                find = np.where(y == i)[0]\n",
    "                var += np.var(X[find])\n",
    "            self.params[\"sigma\"] = var/(X.shape[0]-uniquevals.shape[0])\n",
    "        else:\n",
    "            self.params[\"sigma\"] = tools.compute_covariance(X)\n",
    "                \n",
    "    def oned(self,predictors):\n",
    "        y = self.y\n",
    "        ones = np.ones(predictors.shape[0]).reshape(predictors.shape[0],1)\n",
    "        return np.argmax(predictors *ones.dot(self.params[\"mu\"]/self.params[\"sigma\"]) - \n",
    "                         ones.dot((self.params[\"mu\"])**2/(2*self.params[\"sigma\"])) + \n",
    "                         ones.dot(self.priors),axis=1)\n",
    "    \n",
    "    def multd(self,predictors):\n",
    "        y = self.y\n",
    "        mu = self.params[\"mu\"]\n",
    "        sigma = self.params[\"sigma\"]\n",
    "        ones = np.ones(predictors.shape[0]).reshape(predictors.shape[0],1)\n",
    "        probs = ones\n",
    "        priors = self.priors[0]\n",
    "        for i in np.unique(y):\n",
    "            mureshaped = mu[i].reshape(1,predictors.shape[1])\n",
    "            first = predictors.dot(np.linalg.inv(sigma)).dot(mureshaped.T) \n",
    "            second = (ones.dot((mureshaped/2).dot(np.linalg.inv(sigma)).dot(mureshaped.T)))\n",
    "            prob = first - second + ones*priors[i]\n",
    "            probs = np.column_stack((probs,prob))\n",
    "        probs = probs[:,1:]\n",
    "        return np.argmax(probs,axis=1)"
   ]
  },
  {
   "cell_type": "code",
   "execution_count": 6,
   "metadata": {},
   "outputs": [],
   "source": [
    "l = LDA(X_train,y_train)"
   ]
  },
  {
   "cell_type": "code",
   "execution_count": 7,
   "metadata": {},
   "outputs": [],
   "source": [
    "p = l.predict(X_test)"
   ]
  },
  {
   "cell_type": "code",
   "execution_count": 8,
   "metadata": {},
   "outputs": [
    {
     "data": {
      "text/plain": [
       "array([2, 1, 0, 2, 0, 1, 1, 1, 2, 0, 2, 0, 0, 0, 1])"
      ]
     },
     "execution_count": 8,
     "metadata": {},
     "output_type": "execute_result"
    }
   ],
   "source": [
    "p"
   ]
  },
  {
   "cell_type": "code",
   "execution_count": 9,
   "metadata": {},
   "outputs": [
    {
     "data": {
      "text/plain": [
       "array([2, 1, 0, 2, 0, 1, 2, 1, 2, 0, 2, 0, 0, 0, 1])"
      ]
     },
     "execution_count": 9,
     "metadata": {},
     "output_type": "execute_result"
    }
   ],
   "source": [
    "y_test"
   ]
  },
  {
   "cell_type": "code",
   "execution_count": 10,
   "metadata": {},
   "outputs": [
    {
     "data": {
      "text/plain": [
       "0.9333333333333333"
      ]
     },
     "execution_count": 10,
     "metadata": {},
     "output_type": "execute_result"
    }
   ],
   "source": [
    "tools.calc_accuracy(l,X_test,y_test)"
   ]
  }
 ],
 "metadata": {
  "kernelspec": {
   "display_name": "Python [default]",
   "language": "python",
   "name": "python3"
  },
  "language_info": {
   "codemirror_mode": {
    "name": "ipython",
    "version": 3
   },
   "file_extension": ".py",
   "mimetype": "text/x-python",
   "name": "python",
   "nbconvert_exporter": "python",
   "pygments_lexer": "ipython3",
   "version": "3.6.5"
  }
 },
 "nbformat": 4,
 "nbformat_minor": 2
}
