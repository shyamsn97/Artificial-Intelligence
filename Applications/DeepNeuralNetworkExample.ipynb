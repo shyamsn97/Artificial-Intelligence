{
 "cells": [
  {
   "cell_type": "code",
   "execution_count": 1,
   "metadata": {},
   "outputs": [],
   "source": [
    "import numpy as np\n",
    "import matplotlib.pyplot as plt\n",
    "from sklearn import datasets\n",
    "import seaborn as sns\n",
    "import pandas as pd\n",
    "import sys\n",
    "from tqdm import tqdm\n",
    "sys.path.append('../Deep_Learning/')\n",
    "from nn_optimization_methods import SGD\n",
    "from layers.Dense import Dense\n",
    "from layers.Input import Input\n",
    "from layers.Softmax import Softmax\n",
    "sys.path.append('../tools/')\n",
    "import tools\n",
    "\n",
    "%matplotlib inline"
   ]
  },
  {
   "cell_type": "markdown",
   "metadata": {},
   "source": [
    "# DeepNeuralNetwork "
   ]
  },
  {
   "cell_type": "markdown",
   "metadata": {},
   "source": [
    "## Regression"
   ]
  },
  {
   "cell_type": "markdown",
   "metadata": {},
   "source": [
    "### approximate sin function from random values."
   ]
  },
  {
   "cell_type": "code",
   "execution_count": 2,
   "metadata": {},
   "outputs": [],
   "source": [
    "x = np.linspace(-1, 1, 1000)"
   ]
  },
  {
   "cell_type": "code",
   "execution_count": 3,
   "metadata": {},
   "outputs": [],
   "source": [
    "y = np.sin(x)**2"
   ]
  },
  {
   "cell_type": "code",
   "execution_count": 4,
   "metadata": {},
   "outputs": [],
   "source": [
    "df = pd.DataFrame({'x':x,'y':y})"
   ]
  },
  {
   "cell_type": "code",
   "execution_count": 5,
   "metadata": {},
   "outputs": [],
   "source": [
    "class DNN():\n",
    "    \"\"\"\n",
    "    Deep Neural Network Template for regression and classification tasks\n",
    "    Parameters:\n",
    "        output: numpy array() outputs\n",
    "        outlayer: output layer\n",
    "        head: input layer\n",
    "        loss: loss function str\n",
    "    \n",
    "    Use like sequential model from Keras:\n",
    "        Ex: add a dense layer with 200 neurons and a sigmoid activation function:\n",
    "                dnn.add(\"dense\",\"sigmoid\",200)\n",
    "    \"\"\"\n",
    "    def __init__(self):\n",
    "            \n",
    "        self.output = 0\n",
    "        self.outlayer = None\n",
    "        self.head = None\n",
    "        self.loss = \"MSE\"\n",
    "    \n",
    "    def add(self,layer):\n",
    "        if np.all(self.head == None):\n",
    "            if layer.type == \"Input\":\n",
    "                self.head = layer\n",
    "                self.outlayer = self.head\n",
    "            else:\n",
    "                print(\"Must start with an Input Layer!\")\n",
    "        else:\n",
    "            layer.initialize(self.outlayer)\n",
    "            self.outlayer.setNext(layer)\n",
    "            self.outlayer = layer\n",
    "            \n",
    "    def forward(self,inputs=None):\n",
    "        \n",
    "        if np.all(inputs != None):\n",
    "            \n",
    "            self.head.update(inputs)\n",
    "            \n",
    "        layer = self.head\n",
    "        \n",
    "        while np.all(layer.next != None):\n",
    "            \n",
    "            layer.forward()\n",
    "            layer = layer.getNext()\n",
    "        \n",
    "        layer.forward()\n",
    "        return layer.output\n",
    "        \n",
    "    def backward_pass(self,predictions,y):\n",
    "        \n",
    "        cache = 0\n",
    "        gradients = []\n",
    "                    \n",
    "        layer = self.outlayer\n",
    "        cache = np.array((predictions - y))\n",
    "        w_derivative = layer.getPrev().dot(cache*(layer.deriv),True)\n",
    "        b_derivative = cache*(layer.deriv)\n",
    "        gradients.append([w_derivative,b_derivative])\n",
    "        layer = layer.getPrev()\n",
    "        while np.all(layer.getPrev() != None):\n",
    "            cache = (cache.dot(layer.getNext().getWeights()[0].T))*layer.deriv\n",
    "            w_derivative = layer.getPrev().dot(cache,True)\n",
    "            b_derivative = cache\n",
    "            gradients.append([w_derivative,b_derivative])\n",
    "            layer = layer.getPrev()\n",
    "\n",
    "        return gradients[::-1]\n",
    "        \n",
    "    def train(self,X,y,optimizer=SGD,lr=0.0001,epochs=100,batch_size=1,loss=\"mse\"):\n",
    "        self.loss = loss\n",
    "        optimizer(self,X,y,learning_rate=lr,epochs=epochs,batch_size=batch_size,loss=loss)\n",
    "        \n",
    "    def predict(self,X):\n",
    "        if self.loss == \"cross_entropy\":\n",
    "            return np.argmax(self.forward(X),axis=1)\n",
    "        return self.forward(X)\n",
    "        \n",
    "    def __str__(self):\n",
    "        \n",
    "        string = \"----------------------------- Model -----------------------------\" + '\\n'\n",
    "        layer = self.head\n",
    "        \n",
    "        while np.all(layer != None):\n",
    "            string += layer.__str__()\n",
    "            layer = layer.getNext()\n",
    "            \n",
    "        return string"
   ]
  },
  {
   "cell_type": "code",
   "execution_count": 6,
   "metadata": {
    "scrolled": true
   },
   "outputs": [
    {
     "name": "stdout",
     "output_type": "stream",
     "text": [
      "----------------------------- Model -----------------------------\n",
      "Input: shape: (None, 1)\n",
      "-----------------------------------------------------------------\n",
      "Dense: activation: sigmoid, weight shape: (1, 24), output shape: (None, 24), parameters: 24\n",
      "-----------------------------------------------------------------\n",
      "Dense: activation: sigmoid, weight shape: (24, 48), output shape: (None, 48), parameters: 1152\n",
      "-----------------------------------------------------------------\n",
      "Dense: activation: sigmoid, weight shape: (48, 24), output shape: (None, 24), parameters: 1152\n",
      "-----------------------------------------------------------------\n",
      "Dense: activation: sigmoid, weight shape: (24, 12), output shape: (None, 12), parameters: 288\n",
      "-----------------------------------------------------------------\n",
      "Dense: activation: linear, weight shape: (12, 1), output shape: (None, 1), parameters: 12\n",
      "-----------------------------------------------------------------\n",
      "\n"
     ]
    }
   ],
   "source": [
    "x = x.reshape(x.shape[0],1)\n",
    "dnn = DNN()\n",
    "dnn.add(Input(x))\n",
    "dnn.add(Dense(24,activation=\"sigmoid\"))\n",
    "dnn.add(Dense(48,activation=\"sigmoid\"))\n",
    "dnn.add(Dense(24,activation=\"sigmoid\"))\n",
    "dnn.add(Dense(12,activation=\"sigmoid\"))\n",
    "dnn.add(Dense(1,activation=\"linear\"))\n",
    "print(dnn)"
   ]
  },
  {
   "cell_type": "code",
   "execution_count": 7,
   "metadata": {},
   "outputs": [
    {
     "name": "stderr",
     "output_type": "stream",
     "text": [
      "MSE 99.56995306093806: 100%|██████████| 1000/1000 [15:59<00:00,  1.04it/s]\n"
     ]
    }
   ],
   "source": [
    "dnn.train(x,y,lr=0.001,epochs=1000)"
   ]
  },
  {
   "cell_type": "code",
   "execution_count": 8,
   "metadata": {},
   "outputs": [],
   "source": [
    "predictions = dnn.predict(x)"
   ]
  },
  {
   "cell_type": "code",
   "execution_count": 9,
   "metadata": {},
   "outputs": [],
   "source": [
    "predictions = predictions.reshape(predictions.shape[0],)"
   ]
  },
  {
   "cell_type": "code",
   "execution_count": 10,
   "metadata": {},
   "outputs": [],
   "source": [
    "newd = pd.DataFrame({'x':df[\"x\"],'y':predictions})"
   ]
  },
  {
   "cell_type": "code",
   "execution_count": 11,
   "metadata": {},
   "outputs": [
    {
     "data": {
      "text/plain": [
       "0     0.708073\n",
       "1     0.706251\n",
       "2     0.704426\n",
       "3     0.702597\n",
       "4     0.700765\n",
       "5     0.698930\n",
       "6     0.697092\n",
       "7     0.695250\n",
       "8     0.693406\n",
       "9     0.691558\n",
       "10    0.689707\n",
       "11    0.687854\n",
       "12    0.685997\n",
       "13    0.684137\n",
       "14    0.682274\n",
       "15    0.680408\n",
       "16    0.678540\n",
       "17    0.676668\n",
       "18    0.674794\n",
       "19    0.672917\n",
       "Name: y, dtype: float64"
      ]
     },
     "execution_count": 11,
     "metadata": {},
     "output_type": "execute_result"
    }
   ],
   "source": [
    "df[\"y\"][:20]"
   ]
  },
  {
   "cell_type": "code",
   "execution_count": 12,
   "metadata": {},
   "outputs": [
    {
     "data": {
      "text/plain": [
       "0     0.701606\n",
       "1     0.699862\n",
       "2     0.698115\n",
       "3     0.696366\n",
       "4     0.694614\n",
       "5     0.692859\n",
       "6     0.691102\n",
       "7     0.689343\n",
       "8     0.687580\n",
       "9     0.685816\n",
       "10    0.684048\n",
       "11    0.682278\n",
       "12    0.680506\n",
       "13    0.678731\n",
       "14    0.676954\n",
       "15    0.675174\n",
       "16    0.673391\n",
       "17    0.671606\n",
       "18    0.669819\n",
       "19    0.668029\n",
       "Name: y, dtype: float64"
      ]
     },
     "execution_count": 12,
     "metadata": {},
     "output_type": "execute_result"
    }
   ],
   "source": [
    "newd[\"y\"][:20]"
   ]
  },
  {
   "cell_type": "markdown",
   "metadata": {},
   "source": [
    "Predicted after 1000 epochs"
   ]
  },
  {
   "cell_type": "code",
   "execution_count": 13,
   "metadata": {},
   "outputs": [
    {
     "data": {
      "text/plain": [
       "<seaborn.axisgrid.FacetGrid at 0x7f95fda36940>"
      ]
     },
     "execution_count": 13,
     "metadata": {},
     "output_type": "execute_result"
    },
    {
     "data": {
      "image/png": "[encoded data removed]",
      "text/plain": [
       "<Figure size 360x360 with 1 Axes>"
      ]
     },
     "metadata": {},
     "output_type": "display_data"
    }
   ],
   "source": [
    "sns.lmplot(x='x', y='y',data=newd,\n",
    "           fit_reg=False, # No regression line\n",
    "          )  "
   ]
  },
  {
   "cell_type": "markdown",
   "metadata": {},
   "source": [
    "Original sin wave"
   ]
  },
  {
   "cell_type": "code",
   "execution_count": 14,
   "metadata": {
    "scrolled": true
   },
   "outputs": [
    {
     "data": {
      "text/plain": [
       "<seaborn.axisgrid.FacetGrid at 0x7f95fcabfd68>"
      ]
     },
     "execution_count": 14,
     "metadata": {},
     "output_type": "execute_result"
    },
    {
     "data": {
      "image/png": "[encoded data removed]",
      "text/plain": [
       "<Figure size 360x360 with 1 Axes>"
      ]
     },
     "metadata": {},
     "output_type": "display_data"
    }
   ],
   "source": [
    "sns.lmplot(x='x', y='y',data=df,\n",
    "           fit_reg=False, # No regression line\n",
    "          )   "
   ]
  },
  {
   "cell_type": "markdown",
   "metadata": {},
   "source": [
    "## Classification"
   ]
  },
  {
   "cell_type": "markdown",
   "metadata": {},
   "source": [
    "## Iris"
   ]
  },
  {
   "cell_type": "code",
   "execution_count": 15,
   "metadata": {},
   "outputs": [],
   "source": [
    "iris = datasets.load_iris()\n",
    "X = iris.data\n",
    "y = iris.target\n",
    "indices = np.arange(y.shape[0])\n",
    "np.random.shuffle(indices)"
   ]
  },
  {
   "cell_type": "code",
   "execution_count": 16,
   "metadata": {},
   "outputs": [],
   "source": [
    "X = X[indices]\n",
    "y = y[indices]\n",
    "X_train, X_test, y_train, y_test = tools.cross_val_split_set(X,0.1,y)\n",
    "y_train = np.array(pd.get_dummies(y_train))"
   ]
  },
  {
   "cell_type": "code",
   "execution_count": 17,
   "metadata": {},
   "outputs": [
    {
     "name": "stdout",
     "output_type": "stream",
     "text": [
      "----------------------------- Model -----------------------------\n",
      "Input: shape: (None, 4)\n",
      "-----------------------------------------------------------------\n",
      "Dense: activation: sigmoid, weight shape: (4, 24), output shape: (None, 24), parameters: 96\n",
      "-----------------------------------------------------------------\n",
      "Dense: activation: sigmoid, weight shape: (24, 48), output shape: (None, 48), parameters: 1152\n",
      "-----------------------------------------------------------------\n",
      "Dense: activation: sigmoid, weight shape: (48, 16), output shape: (None, 16), parameters: 768\n",
      "-----------------------------------------------------------------\n",
      "Dense: activation: softmax, weight shape: (16, 3), output shape: (None, 3), parameters: 48\n",
      "-----------------------------------------------------------------\n",
      "\n"
     ]
    }
   ],
   "source": [
    "dnn = DNN()\n",
    "dnn.add(Input(X_train))\n",
    "dnn.add(Dense(24,activation=\"sigmoid\"))\n",
    "dnn.add(Dense(48,activation=\"sigmoid\"))\n",
    "dnn.add(Dense(16,activation=\"sigmoid\"))\n",
    "dnn.add(Dense(3,activation=\"softmax\"))\n",
    "print(dnn)"
   ]
  },
  {
   "cell_type": "code",
   "execution_count": 18,
   "metadata": {
    "scrolled": true
   },
   "outputs": [
    {
     "name": "stderr",
     "output_type": "stream",
     "text": [
      "Cross Entropy 0.12657019242579562: 100%|██████████| 1000/1000 [02:48<00:00,  5.94it/s]\n"
     ]
    }
   ],
   "source": [
    "dnn.train(X_train,y_train,lr=0.001,epochs=1000,loss=\"cross_entropy\")"
   ]
  },
  {
   "cell_type": "markdown",
   "metadata": {},
   "source": [
    "### Train Acc"
   ]
  },
  {
   "cell_type": "code",
   "execution_count": 19,
   "metadata": {},
   "outputs": [
    {
     "data": {
      "text/plain": [
       "0.9777777777777777"
      ]
     },
     "execution_count": 19,
     "metadata": {},
     "output_type": "execute_result"
    }
   ],
   "source": [
    "tools.calc_accuracy(dnn.predict(X_train),y_train)"
   ]
  },
  {
   "cell_type": "markdown",
   "metadata": {},
   "source": [
    "### Test Acc"
   ]
  },
  {
   "cell_type": "code",
   "execution_count": 20,
   "metadata": {},
   "outputs": [
    {
     "data": {
      "text/plain": [
       "1.0"
      ]
     },
     "execution_count": 20,
     "metadata": {},
     "output_type": "execute_result"
    }
   ],
   "source": [
    "tools.calc_accuracy(dnn.predict(X_test),y_test)"
   ]
  },
  {
   "cell_type": "markdown",
   "metadata": {},
   "source": [
    "## MNIST"
   ]
  },
  {
   "cell_type": "code",
   "execution_count": 21,
   "metadata": {},
   "outputs": [],
   "source": [
    "mnist = datasets.load_digits()"
   ]
  },
  {
   "cell_type": "code",
   "execution_count": 22,
   "metadata": {},
   "outputs": [],
   "source": [
    "X = mnist.data\n",
    "y = mnist.target\n",
    "indices = np.arange(y.shape[0])\n",
    "np.random.shuffle(indices)\n",
    "X = X[indices]\n",
    "y = y[indices]\n",
    "X_train, X_test, y_train, y_test = tools.cross_val_split_set(X,0.1,y)\n",
    "y_train = np.array(pd.get_dummies(y_train))"
   ]
  },
  {
   "cell_type": "code",
   "execution_count": 23,
   "metadata": {},
   "outputs": [
    {
     "name": "stdout",
     "output_type": "stream",
     "text": [
      "----------------------------- Model -----------------------------\n",
      "Input: shape: (None, 64)\n",
      "-----------------------------------------------------------------\n",
      "Dense: activation: sigmoid, weight shape: (64, 24), output shape: (None, 24), parameters: 1536\n",
      "-----------------------------------------------------------------\n",
      "Dense: activation: sigmoid, weight shape: (24, 48), output shape: (None, 48), parameters: 1152\n",
      "-----------------------------------------------------------------\n",
      "Dense: activation: sigmoid, weight shape: (48, 16), output shape: (None, 16), parameters: 768\n",
      "-----------------------------------------------------------------\n",
      "Softmax: activation: softmax, weight shape: (16, 10), output shape: (None, 10), parameters: 160\n",
      "-----------------------------------------------------------------\n",
      "\n"
     ]
    }
   ],
   "source": [
    "dnn = DNN()\n",
    "dnn.add(Input(X_train))\n",
    "dnn.add(Dense(24,activation=\"sigmoid\"))\n",
    "dnn.add(Dense(48,activation=\"sigmoid\"))\n",
    "dnn.add(Dense(16,activation=\"sigmoid\"))\n",
    "dnn.add(Softmax(10))\n",
    "print(dnn)"
   ]
  },
  {
   "cell_type": "code",
   "execution_count": 24,
   "metadata": {},
   "outputs": [
    {
     "name": "stderr",
     "output_type": "stream",
     "text": [
      "Cross Entropy 0.21670418131422786: 100%|██████████| 250/250 [06:05<00:00,  1.46s/it]\n"
     ]
    }
   ],
   "source": [
    "dnn.train(X_train,y_train,lr=0.001,epochs=250,loss=\"cross_entropy\")"
   ]
  },
  {
   "cell_type": "markdown",
   "metadata": {},
   "source": [
    "### Train Acc"
   ]
  },
  {
   "cell_type": "code",
   "execution_count": 25,
   "metadata": {},
   "outputs": [
    {
     "data": {
      "text/plain": [
       "0.9752781211372065"
      ]
     },
     "execution_count": 25,
     "metadata": {},
     "output_type": "execute_result"
    }
   ],
   "source": [
    "tools.calc_accuracy(dnn.predict(X_train),y_train)"
   ]
  },
  {
   "cell_type": "markdown",
   "metadata": {},
   "source": [
    "### Test Acc"
   ]
  },
  {
   "cell_type": "code",
   "execution_count": 26,
   "metadata": {},
   "outputs": [
    {
     "data": {
      "text/plain": [
       "0.9273743016759777"
      ]
     },
     "execution_count": 26,
     "metadata": {},
     "output_type": "execute_result"
    }
   ],
   "source": [
    "tools.calc_accuracy(dnn.predict(X_test),y_test)"
   ]
  }
 ],
 "metadata": {
  "kernelspec": {
   "display_name": "Python [conda env:py36]",
   "language": "python",
   "name": "conda-env-py36-py"
  },
  "language_info": {
   "codemirror_mode": {
    "name": "ipython",
    "version": 3
   },
   "file_extension": ".py",
   "mimetype": "text/x-python",
   "name": "python",
   "nbconvert_exporter": "python",
   "pygments_lexer": "ipython3",
   "version": "3.6.5"
  }
 },
 "nbformat": 4,
 "nbformat_minor": 2
}
