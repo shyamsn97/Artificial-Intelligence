{
 "cells": [
  {
   "cell_type": "code",
   "execution_count": 1,
   "metadata": {},
   "outputs": [],
   "source": [
    "import numpy as np\n",
    "import matplotlib.pyplot as plt\n",
    "from sklearn import datasets\n",
    "import seaborn as sns\n",
    "import pandas as pd\n",
    "import sys\n",
    "from tqdm import tqdm\n",
    "sys.path.append('../Deep_Learning/')\n",
    "from nn_optimization_methods import SGD\n",
    "from layers.Dense import Dense\n",
    "from layers.Input import Input\n",
    "from layers.Softmax import Softmax\n",
    "sys.path.append('../tools/')\n",
    "import tools\n",
    "\n",
    "%matplotlib inline"
   ]
  },
  {
   "cell_type": "markdown",
   "metadata": {},
   "source": [
    "# DeepNeuralNetwork "
   ]
  },
  {
   "cell_type": "markdown",
   "metadata": {},
   "source": [
    "## Regression"
   ]
  },
  {
   "cell_type": "markdown",
   "metadata": {},
   "source": [
    "### approximate sin function from random values."
   ]
  },
  {
   "cell_type": "code",
   "execution_count": 2,
   "metadata": {},
   "outputs": [],
   "source": [
    "x = np.linspace(-1, 1, 1000)"
   ]
  },
  {
   "cell_type": "code",
   "execution_count": 3,
   "metadata": {},
   "outputs": [],
   "source": [
    "y = np.sin(x)**2"
   ]
  },
  {
   "cell_type": "code",
   "execution_count": 4,
   "metadata": {},
   "outputs": [],
   "source": [
    "df = pd.DataFrame({'x':x,'y':y})"
   ]
  },
  {
   "cell_type": "code",
   "execution_count": 5,
   "metadata": {},
   "outputs": [],
   "source": [
    "class DNN():\n",
    "    \"\"\"\n",
    "    Deep Neural Network Template for regression and classification tasks\n",
    "    Parameters:\n",
    "        output: numpy array() outputs\n",
    "        outlayer: output layer\n",
    "        head: input layer\n",
    "        loss: loss function str\n",
    "    \n",
    "    Use like sequential model from Keras:\n",
    "        Ex: add a dense layer with 200 neurons and a sigmoid activation function:\n",
    "                dnn.add(\"dense\",\"sigmoid\",200)\n",
    "    \"\"\"\n",
    "    def __init__(self):\n",
    "            \n",
    "        self.output = 0\n",
    "        self.outlayer = None\n",
    "        self.head = None\n",
    "        self.loss = \"MSE\"\n",
    "    \n",
    "    def add(self,layer):\n",
    "        if np.all(self.head == None):\n",
    "            if layer.type == \"Input\":\n",
    "                self.head = layer\n",
    "                self.outlayer = self.head\n",
    "            else:\n",
    "                print(\"Must start with an Input Layer!\")\n",
    "        else:\n",
    "            layer.initialize(self.outlayer)\n",
    "            self.outlayer.setNext(layer)\n",
    "            self.outlayer = layer\n",
    "            \n",
    "    def forward(self,inputs=None):\n",
    "        \n",
    "        if np.all(inputs != None):\n",
    "            \n",
    "            self.head.update(inputs)\n",
    "            \n",
    "        layer = self.head\n",
    "        \n",
    "        while np.all(layer.next != None):\n",
    "            \n",
    "            layer.forward()\n",
    "            layer = layer.getNext()\n",
    "        \n",
    "        layer.forward()\n",
    "        return layer.output\n",
    "        \n",
    "    def backward_pass(self,predictions,y):\n",
    "        \n",
    "        cache = 0\n",
    "        gradients = []\n",
    "                    \n",
    "        layer = self.outlayer\n",
    "        cache = np.array((predictions - y))\n",
    "        w_derivative = layer.getPrev().dot(cache*(layer.deriv),True)\n",
    "        b_derivative = cache*(layer.deriv)\n",
    "        gradients.append([w_derivative,b_derivative])\n",
    "        layer = layer.getPrev()\n",
    "        while np.all(layer.getPrev() != None):\n",
    "            cache = (cache.dot(layer.getNext().getWeights()[0].T))*layer.deriv\n",
    "            w_derivative = layer.getPrev().dot(cache,True)\n",
    "            b_derivative = cache\n",
    "            gradients.append([w_derivative,b_derivative])\n",
    "            layer = layer.getPrev()\n",
    "\n",
    "        return gradients[::-1]\n",
    "        \n",
    "    def train(self,X,y,optimizer=SGD,lr=0.0001,epochs=100,batch_size=1,loss=\"mse\"):\n",
    "        self.loss = loss\n",
    "        optimizer(self,X,y,learning_rate=lr,epochs=epochs,batch_size=batch_size,loss=loss)\n",
    "        \n",
    "    def predict(self,X):\n",
    "        if self.loss == \"cross_entropy\":\n",
    "            return np.argmax(self.forward(X),axis=1)\n",
    "        return self.forward(X)\n",
    "        \n",
    "    def __str__(self):\n",
    "        \n",
    "        string = \"----------------------------- Model -----------------------------\" + '\\n'\n",
    "        layer = self.head\n",
    "        \n",
    "        while np.all(layer != None):\n",
    "            string += layer.__str__()\n",
    "            layer = layer.getNext()\n",
    "            \n",
    "        return string"
   ]
  },
  {
   "cell_type": "code",
   "execution_count": 6,
   "metadata": {
    "scrolled": true
   },
   "outputs": [
    {
     "name": "stdout",
     "output_type": "stream",
     "text": [
      "----------------------------- Model -----------------------------\n",
      "Input: shape: (None, 1)\n",
      "-----------------------------------------------------------------\n",
      "Dense: activation: sigmoid, weight shape: (1, 24), output shape: (None, 24), parameters: 24\n",
      "-----------------------------------------------------------------\n",
      "Dense: activation: relu, weight shape: (24, 48), output shape: (None, 48), parameters: 1152\n",
      "-----------------------------------------------------------------\n",
      "Dense: activation: sigmoid, weight shape: (48, 24), output shape: (None, 24), parameters: 1152\n",
      "-----------------------------------------------------------------\n",
      "Dense: activation: relu, weight shape: (24, 12), output shape: (None, 12), parameters: 288\n",
      "-----------------------------------------------------------------\n",
      "Dense: activation: linear, weight shape: (12, 1), output shape: (None, 1), parameters: 12\n",
      "-----------------------------------------------------------------\n",
      "\n"
     ]
    }
   ],
   "source": [
    "x = x.reshape(x.shape[0],1)\n",
    "dnn = DNN()\n",
    "dnn.add(Input(x))\n",
    "dnn.add(Dense(24,activation=\"sigmoid\"))\n",
    "dnn.add(Dense(48,activation=\"relu\"))\n",
    "dnn.add(Dense(24,activation=\"sigmoid\"))\n",
    "dnn.add(Dense(12,activation=\"relu\"))\n",
    "dnn.add(Dense(1,activation=\"linear\"))\n",
    "print(dnn)"
   ]
  },
  {
   "cell_type": "code",
   "execution_count": 7,
   "metadata": {},
   "outputs": [
    {
     "name": "stderr",
     "output_type": "stream",
     "text": [
      "MSE 0.09958748635272369: 100%|██████████| 750/750 [13:14<00:00,  1.06s/it]\n"
     ]
    }
   ],
   "source": [
    "dnn.train(x,y,lr=0.001,epochs=750)"
   ]
  },
  {
   "cell_type": "code",
   "execution_count": 8,
   "metadata": {},
   "outputs": [],
   "source": [
    "predictions = dnn.predict(x)"
   ]
  },
  {
   "cell_type": "code",
   "execution_count": 9,
   "metadata": {},
   "outputs": [],
   "source": [
    "predictions = predictions.reshape(predictions.shape[0],)"
   ]
  },
  {
   "cell_type": "code",
   "execution_count": 10,
   "metadata": {},
   "outputs": [],
   "source": [
    "newd = pd.DataFrame({'x':df[\"x\"],'y':predictions})"
   ]
  },
  {
   "cell_type": "code",
   "execution_count": 11,
   "metadata": {},
   "outputs": [
    {
     "data": {
      "text/plain": [
       "0     0.708073\n",
       "1     0.706251\n",
       "2     0.704426\n",
       "3     0.702597\n",
       "4     0.700765\n",
       "5     0.698930\n",
       "6     0.697092\n",
       "7     0.695250\n",
       "8     0.693406\n",
       "9     0.691558\n",
       "10    0.689707\n",
       "11    0.687854\n",
       "12    0.685997\n",
       "13    0.684137\n",
       "14    0.682274\n",
       "15    0.680408\n",
       "16    0.678540\n",
       "17    0.676668\n",
       "18    0.674794\n",
       "19    0.672917\n",
       "Name: y, dtype: float64"
      ]
     },
     "execution_count": 11,
     "metadata": {},
     "output_type": "execute_result"
    }
   ],
   "source": [
    "df[\"y\"][:20]"
   ]
  },
  {
   "cell_type": "code",
   "execution_count": 12,
   "metadata": {},
   "outputs": [
    {
     "data": {
      "text/plain": [
       "0     0.708624\n",
       "1     0.706761\n",
       "2     0.704896\n",
       "3     0.703031\n",
       "4     0.701165\n",
       "5     0.699299\n",
       "6     0.697431\n",
       "7     0.695563\n",
       "8     0.693694\n",
       "9     0.691825\n",
       "10    0.689954\n",
       "11    0.688083\n",
       "12    0.686174\n",
       "13    0.684191\n",
       "14    0.682206\n",
       "15    0.680222\n",
       "16    0.678237\n",
       "17    0.676252\n",
       "18    0.674266\n",
       "19    0.672280\n",
       "Name: y, dtype: float64"
      ]
     },
     "execution_count": 12,
     "metadata": {},
     "output_type": "execute_result"
    }
   ],
   "source": [
    "newd[\"y\"][:20]"
   ]
  },
  {
   "cell_type": "markdown",
   "metadata": {},
   "source": [
    "Predicted after 1000 epochs"
   ]
  },
  {
   "cell_type": "code",
   "execution_count": 13,
   "metadata": {},
   "outputs": [
    {
     "data": {
      "text/plain": [
       "<seaborn.axisgrid.FacetGrid at 0x7f2a804099e8>"
      ]
     },
     "execution_count": 13,
     "metadata": {},
     "output_type": "execute_result"
    },
    {
     "data": {
      "image/png": "[encoded data removed]",
      "text/plain": [
       "<Figure size 360x360 with 1 Axes>"
      ]
     },
     "metadata": {},
     "output_type": "display_data"
    }
   ],
   "source": [
    "sns.lmplot(x='x', y='y',data=newd,\n",
    "           fit_reg=False, # No regression line\n",
    "          )  "
   ]
  },
  {
   "cell_type": "markdown",
   "metadata": {},
   "source": [
    "Original sin wave"
   ]
  },
  {
   "cell_type": "code",
   "execution_count": 14,
   "metadata": {
    "scrolled": true
   },
   "outputs": [
    {
     "data": {
      "text/plain": [
       "<seaborn.axisgrid.FacetGrid at 0x7f2a489dca20>"
      ]
     },
     "execution_count": 14,
     "metadata": {},
     "output_type": "execute_result"
    },
    {
     "data": {
      "image/png": "[encoded data removed]",
      "text/plain": [
       "<Figure size 360x360 with 1 Axes>"
      ]
     },
     "metadata": {},
     "output_type": "display_data"
    }
   ],
   "source": [
    "sns.lmplot(x='x', y='y',data=df,\n",
    "           fit_reg=False, # No regression line\n",
    "          )   "
   ]
  },
  {
   "cell_type": "markdown",
   "metadata": {},
   "source": [
    "## Classification"
   ]
  },
  {
   "cell_type": "markdown",
   "metadata": {},
   "source": [
    "## Iris"
   ]
  },
  {
   "cell_type": "code",
   "execution_count": 15,
   "metadata": {},
   "outputs": [],
   "source": [
    "iris = datasets.load_iris()\n",
    "X = iris.data\n",
    "y = iris.target\n",
    "indices = np.arange(y.shape[0])\n",
    "np.random.shuffle(indices)"
   ]
  },
  {
   "cell_type": "code",
   "execution_count": 16,
   "metadata": {},
   "outputs": [],
   "source": [
    "X = X[indices]\n",
    "y = y[indices]\n",
    "X_train, X_test, y_train, y_test = tools.cross_val_split_set(X,0.1,y)\n",
    "y_train = np.array(pd.get_dummies(y_train))"
   ]
  },
  {
   "cell_type": "code",
   "execution_count": 17,
   "metadata": {},
   "outputs": [
    {
     "name": "stdout",
     "output_type": "stream",
     "text": [
      "----------------------------- Model -----------------------------\n",
      "Input: shape: (None, 4)\n",
      "-----------------------------------------------------------------\n",
      "Dense: activation: relu, weight shape: (4, 24), output shape: (None, 24), parameters: 96\n",
      "-----------------------------------------------------------------\n",
      "Dense: activation: relu, weight shape: (24, 48), output shape: (None, 48), parameters: 1152\n",
      "-----------------------------------------------------------------\n",
      "Dense: activation: sigmoid, weight shape: (48, 16), output shape: (None, 16), parameters: 768\n",
      "-----------------------------------------------------------------\n",
      "Dense: activation: softmax, weight shape: (16, 3), output shape: (None, 3), parameters: 48\n",
      "-----------------------------------------------------------------\n",
      "\n"
     ]
    }
   ],
   "source": [
    "dnn = DNN()\n",
    "dnn.add(Input(X_train))\n",
    "dnn.add(Dense(24,activation=\"relu\"))\n",
    "dnn.add(Dense(48,activation=\"relu\"))\n",
    "dnn.add(Dense(16,activation=\"sigmoid\"))\n",
    "dnn.add(Dense(3,activation=\"softmax\"))\n",
    "print(dnn)"
   ]
  },
  {
   "cell_type": "code",
   "execution_count": 18,
   "metadata": {
    "scrolled": true
   },
   "outputs": [
    {
     "name": "stderr",
     "output_type": "stream",
     "text": [
      "Cross Entropy 0.2313956121944627: 100%|██████████| 250/250 [00:44<00:00,  5.60it/s] \n"
     ]
    }
   ],
   "source": [
    "dnn.train(X_train,y_train,lr=0.001,epochs=250,loss=\"cross_entropy\")"
   ]
  },
  {
   "cell_type": "markdown",
   "metadata": {},
   "source": [
    "### Train Acc"
   ]
  },
  {
   "cell_type": "code",
   "execution_count": 19,
   "metadata": {},
   "outputs": [
    {
     "data": {
      "text/plain": [
       "0.9629629629629629"
      ]
     },
     "execution_count": 19,
     "metadata": {},
     "output_type": "execute_result"
    }
   ],
   "source": [
    "tools.calc_accuracy(dnn.predict(X_train),y_train)"
   ]
  },
  {
   "cell_type": "markdown",
   "metadata": {},
   "source": [
    "### Test Acc"
   ]
  },
  {
   "cell_type": "code",
   "execution_count": 20,
   "metadata": {},
   "outputs": [
    {
     "data": {
      "text/plain": [
       "1.0"
      ]
     },
     "execution_count": 20,
     "metadata": {},
     "output_type": "execute_result"
    }
   ],
   "source": [
    "tools.calc_accuracy(dnn.predict(X_test),y_test)"
   ]
  },
  {
   "cell_type": "markdown",
   "metadata": {},
   "source": [
    "## MNIST"
   ]
  },
  {
   "cell_type": "code",
   "execution_count": 33,
   "metadata": {},
   "outputs": [],
   "source": [
    "mnist = datasets.load_digits()"
   ]
  },
  {
   "cell_type": "code",
   "execution_count": 34,
   "metadata": {},
   "outputs": [],
   "source": [
    "X = mnist.data\n",
    "y = mnist.target\n",
    "indices = np.arange(y.shape[0])\n",
    "np.random.shuffle(indices)\n",
    "X = X[indices]\n",
    "y = y[indices]\n",
    "X_train, X_test, y_train, y_test = tools.cross_val_split_set(X,0.1,y)\n",
    "y_train = np.array(pd.get_dummies(y_train))"
   ]
  },
  {
   "cell_type": "code",
   "execution_count": 39,
   "metadata": {},
   "outputs": [
    {
     "name": "stdout",
     "output_type": "stream",
     "text": [
      "----------------------------- Model -----------------------------\n",
      "Input: shape: (None, 64)\n",
      "-----------------------------------------------------------------\n",
      "Dense: activation: relu, weight shape: (64, 24), output shape: (None, 24), parameters: 1536\n",
      "-----------------------------------------------------------------\n",
      "Dense: activation: relu, weight shape: (24, 48), output shape: (None, 48), parameters: 1152\n",
      "-----------------------------------------------------------------\n",
      "Dense: activation: sigmoid, weight shape: (48, 16), output shape: (None, 16), parameters: 768\n",
      "-----------------------------------------------------------------\n",
      "Softmax: activation: softmax, weight shape: (16, 10), output shape: (None, 10), parameters: 160\n",
      "-----------------------------------------------------------------\n",
      "\n"
     ]
    }
   ],
   "source": [
    "dnn = DNN()\n",
    "dnn.add(Input(X_train))\n",
    "dnn.add(Dense(24,activation=\"relu\"))\n",
    "dnn.add(Dense(48,activation=\"relu\"))\n",
    "dnn.add(Dense(16,activation=\"sigmoid\"))\n",
    "dnn.add(Softmax(10))\n",
    "print(dnn)"
   ]
  },
  {
   "cell_type": "code",
   "execution_count": 40,
   "metadata": {},
   "outputs": [
    {
     "name": "stderr",
     "output_type": "stream",
     "text": [
      "\n",
      "\n",
      "  0%|          | 0/250 [00:00<?, ?it/s]\u001b[A\u001b[A\n",
      "\n",
      "Cross Entropy 2.44662723110738:   0%|          | 0/250 [00:01<?, ?it/s]\u001b[A\u001b[A\n",
      "\n",
      "Cross Entropy 2.44662723110738:   0%|          | 1/250 [00:01<05:48,  1.40s/it]\u001b[A\u001b[A\n",
      "\n",
      "Cross Entropy 2.1945092883929425:   0%|          | 1/250 [00:02<10:56,  2.64s/it]\u001b[A\u001b[A\n",
      "\n",
      "Cross Entropy 2.1945092883929425:   1%|          | 2/250 [00:02<05:28,  1.32s/it]\u001b[A\u001b[A\n",
      "\n",
      "Cross Entropy 2.1373969964091564:   1%|          | 2/250 [00:03<07:56,  1.92s/it]\u001b[A\u001b[A\n",
      "\n",
      "Cross Entropy 2.1373969964091564:   1%|          | 3/250 [00:03<05:17,  1.29s/it]\u001b[A\u001b[A\n",
      "\n",
      "Cross Entropy 2.105822248329997:   1%|          | 3/250 [00:05<06:57,  1.69s/it] \u001b[A\u001b[A\n",
      "\n",
      "Cross Entropy 2.105822248329997:   2%|▏         | 4/250 [00:05<05:12,  1.27s/it]\u001b[A\u001b[A\n",
      "\n",
      "Cross Entropy 2.0122438652216283:   2%|▏         | 4/250 [00:06<06:44,  1.65s/it]\u001b[A\u001b[A\n",
      "\n",
      "Cross Entropy 2.0122438652216283:   2%|▏         | 5/250 [00:06<05:22,  1.32s/it]\u001b[A\u001b[A\n",
      "\n",
      "Cross Entropy 1.9591514408452422:   2%|▏         | 5/250 [00:07<06:20,  1.55s/it]\u001b[A\u001b[A\n",
      "\n",
      "Cross Entropy 1.9591514408452422:   2%|▏         | 6/250 [00:07<05:16,  1.30s/it]\u001b[A\u001b[A\n",
      "\n",
      "Cross Entropy 1.8823868639399803:   2%|▏         | 6/250 [00:09<06:12,  1.53s/it]\u001b[A\u001b[A\n",
      "\n",
      "Cross Entropy 1.8823868639399803:   3%|▎         | 7/250 [00:09<05:18,  1.31s/it]\u001b[A\u001b[A\n",
      "\n",
      "Cross Entropy 1.851732208695748:   3%|▎         | 7/250 [00:10<06:21,  1.57s/it] \u001b[A\u001b[A\n",
      "\n",
      "Cross Entropy 1.851732208695748:   3%|▎         | 8/250 [00:11<05:32,  1.38s/it]\u001b[A\u001b[A\n",
      "\n",
      "Cross Entropy 1.7773975743006396:   3%|▎         | 8/250 [00:12<06:21,  1.57s/it]\u001b[A\u001b[A\n",
      "\n",
      "Cross Entropy 1.7773975743006396:   4%|▎         | 9/250 [00:12<05:37,  1.40s/it]\u001b[A\u001b[A\n",
      "\n",
      "Cross Entropy 1.8342854876497627:   4%|▎         | 9/250 [00:14<06:19,  1.57s/it]\u001b[A\u001b[A\n",
      "\n",
      "Cross Entropy 1.8342854876497627:   4%|▍         | 10/250 [00:14<05:40,  1.42s/it]\u001b[A\u001b[A\n",
      "\n",
      "Cross Entropy 1.702448078689493:   4%|▍         | 10/250 [00:15<06:17,  1.57s/it] \u001b[A\u001b[A\n",
      "\n",
      "Cross Entropy 1.702448078689493:   4%|▍         | 11/250 [00:15<05:41,  1.43s/it]\u001b[A\u001b[A\n",
      "\n",
      "Cross Entropy 1.6678852178489236:   4%|▍         | 11/250 [00:16<06:08,  1.54s/it]\u001b[A\u001b[A\n",
      "\n",
      "Cross Entropy 1.6678852178489236:   5%|▍         | 12/250 [00:16<05:36,  1.42s/it]\u001b[A\u001b[A\n",
      "\n",
      "Cross Entropy 1.6778090695937256:   5%|▍         | 12/250 [00:19<06:26,  1.62s/it]\u001b[A\u001b[A\n",
      "\n",
      "Cross Entropy 1.6778090695937256:   5%|▌         | 13/250 [00:19<05:55,  1.50s/it]\u001b[A\u001b[A\n",
      "\n",
      "Cross Entropy 1.6206895273711486:   5%|▌         | 13/250 [00:22<06:42,  1.70s/it]\u001b[A\u001b[A\n",
      "\n",
      "Cross Entropy 1.6206895273711486:   6%|▌         | 14/250 [00:22<06:12,  1.58s/it]\u001b[A\u001b[A\n",
      "\n",
      "Cross Entropy 1.5995101910495761:   6%|▌         | 14/250 [00:24<06:57,  1.77s/it]\u001b[A\u001b[A\n",
      "\n",
      "Cross Entropy 1.5995101910495761:   6%|▌         | 15/250 [00:24<06:28,  1.65s/it]\u001b[A\u001b[A\n",
      "\n",
      "Cross Entropy 1.5592215238889247:   6%|▌         | 15/250 [00:26<06:58,  1.78s/it]\u001b[A\u001b[A\n",
      "\n",
      "Cross Entropy 1.5592215238889247:   6%|▋         | 16/250 [00:26<06:30,  1.67s/it]\u001b[A\u001b[A\n",
      "\n",
      "Cross Entropy 1.527448699993303:   6%|▋         | 16/250 [00:28<06:53,  1.77s/it] \u001b[A\u001b[A\n",
      "\n",
      "Cross Entropy 1.527448699993303:   7%|▋         | 17/250 [00:28<06:28,  1.67s/it]\u001b[A\u001b[A\n",
      "\n",
      "Cross Entropy 1.4948070898336547:   7%|▋         | 17/250 [00:29<06:47,  1.75s/it]\u001b[A\u001b[A\n",
      "\n",
      "Cross Entropy 1.4948070898336547:   7%|▋         | 18/250 [00:29<06:23,  1.65s/it]\u001b[A\u001b[A\n",
      "\n",
      "Cross Entropy 1.5150382565605505:   7%|▋         | 18/250 [00:30<06:39,  1.72s/it]\u001b[A\u001b[A\n",
      "\n",
      "Cross Entropy 1.5150382565605505:   8%|▊         | 19/250 [00:30<06:16,  1.63s/it]\u001b[A\u001b[A\n",
      "\n",
      "Cross Entropy 1.5459445571293826:   8%|▊         | 19/250 [00:32<06:33,  1.70s/it]\u001b[A\u001b[A\n",
      "\n",
      "Cross Entropy 1.5459445571293826:   8%|▊         | 20/250 [00:32<06:12,  1.62s/it]\u001b[A\u001b[A\n",
      "\n",
      "Cross Entropy 1.4217031107437785:   8%|▊         | 20/250 [00:33<06:30,  1.70s/it]\u001b[A\u001b[A\n",
      "\n",
      "Cross Entropy 1.4217031107437785:   8%|▊         | 21/250 [00:33<06:10,  1.62s/it]\u001b[A\u001b[A\n",
      "\n",
      "Cross Entropy 1.3414448429719108:   8%|▊         | 21/250 [00:35<06:25,  1.68s/it]\u001b[A\u001b[A\n",
      "\n",
      "Cross Entropy 1.3414448429719108:   9%|▉         | 22/250 [00:35<06:06,  1.61s/it]\u001b[A\u001b[A\n",
      "\n",
      "Cross Entropy 1.3856727157210635:   9%|▉         | 22/250 [00:36<06:21,  1.67s/it]\u001b[A\u001b[A\n",
      "\n",
      "Cross Entropy 1.3856727157210635:   9%|▉         | 23/250 [00:36<06:03,  1.60s/it]\u001b[A\u001b[A../tools/tools.py:15: RuntimeWarning: overflow encountered in power\n",
      "  return 1/(1+np.e**-(x*1.0))\n",
      "../tools/tools.py:13: RuntimeWarning: overflow encountered in power\n",
      "  return 1/(1+np.e**-(x*1.0))*(1-(1/(1+np.e**-(x*1.0))))\n",
      "\n",
      "\n",
      "Cross Entropy 1.2546913654370437:   9%|▉         | 23/250 [00:38<06:18,  1.67s/it]\u001b[A\u001b[A\n",
      "\n",
      "Cross Entropy 1.2546913654370437:  10%|▉         | 24/250 [00:38<06:01,  1.60s/it]\u001b[A\u001b[A\n",
      "\n",
      "Cross Entropy 1.243539952116327:  10%|▉         | 24/250 [00:39<06:14,  1.66s/it] \u001b[A\u001b[A\n",
      "\n",
      "Cross Entropy 1.243539952116327:  10%|█         | 25/250 [00:39<05:57,  1.59s/it]\u001b[A\u001b[A\n",
      "\n",
      "Cross Entropy 1.1988548256676317:  10%|█         | 25/250 [00:41<06:14,  1.66s/it]\u001b[A\u001b[A\n",
      "\n",
      "Cross Entropy 1.1988548256676317:  10%|█         | 26/250 [00:41<05:58,  1.60s/it]\u001b[A\u001b[A\n",
      "\n",
      "Cross Entropy 1.3025712046290336:  10%|█         | 26/250 [00:44<06:23,  1.71s/it]\u001b[A\u001b[A\n",
      "\n",
      "Cross Entropy 1.3025712046290336:  11%|█         | 27/250 [00:44<06:07,  1.65s/it]\u001b[A\u001b[A\n",
      "\n",
      "Cross Entropy 1.174193312285027:  11%|█         | 27/250 [00:46<06:23,  1.72s/it] \u001b[A\u001b[A\n",
      "\n",
      "Cross Entropy 1.174193312285027:  11%|█         | 28/250 [00:46<06:08,  1.66s/it]\u001b[A\u001b[A\n",
      "\n",
      "Cross Entropy 1.1546433583342202:  11%|█         | 28/250 [00:47<06:18,  1.71s/it]\u001b[A\u001b[A\n",
      "\n",
      "Cross Entropy 1.1546433583342202:  12%|█▏        | 29/250 [00:47<06:04,  1.65s/it]\u001b[A\u001b[A\n",
      "\n",
      "Cross Entropy 1.1213666336629158:  12%|█▏        | 29/250 [00:49<06:14,  1.69s/it]\u001b[A\u001b[A\n",
      "\n",
      "Cross Entropy 1.1213666336629158:  12%|█▏        | 30/250 [00:49<06:00,  1.64s/it]\u001b[A\u001b[A\n",
      "\n",
      "Cross Entropy 1.1138391421363887:  12%|█▏        | 30/250 [00:51<06:14,  1.70s/it]\u001b[A\u001b[A\n",
      "\n",
      "Cross Entropy 1.1138391421363887:  12%|█▏        | 31/250 [00:51<06:01,  1.65s/it]\u001b[A\u001b[A\n",
      "\n",
      "Cross Entropy 1.1007117122467749:  12%|█▏        | 31/250 [00:53<06:14,  1.71s/it]\u001b[A\u001b[A\n",
      "\n",
      "Cross Entropy 1.1007117122467749:  13%|█▎        | 32/250 [00:53<06:01,  1.66s/it]\u001b[A\u001b[A\n",
      "\n",
      "Cross Entropy 1.067678875891219:  13%|█▎        | 32/250 [00:55<06:14,  1.72s/it] \u001b[A\u001b[A\n",
      "\n",
      "Cross Entropy 1.067678875891219:  13%|█▎        | 33/250 [00:55<06:01,  1.67s/it]\u001b[A\u001b[A\n",
      "\n",
      "Cross Entropy 1.037671486196982:  13%|█▎        | 33/250 [00:56<06:11,  1.71s/it]\u001b[A\u001b[A\n",
      "\n",
      "Cross Entropy 1.037671486196982:  14%|█▎        | 34/250 [00:56<05:59,  1.66s/it]\u001b[A\u001b[A\n",
      "\n",
      "Cross Entropy 1.0489906023851208:  14%|█▎        | 34/250 [00:58<06:10,  1.71s/it]\u001b[A\u001b[A\n",
      "\n",
      "Cross Entropy 1.0489906023851208:  14%|█▍        | 35/250 [00:58<05:57,  1.66s/it]\u001b[A\u001b[A\n",
      "\n",
      "Cross Entropy 1.0370629911679292:  14%|█▍        | 35/250 [01:00<06:11,  1.73s/it]\u001b[A\u001b[A\n",
      "\n",
      "Cross Entropy 1.0370629911679292:  14%|█▍        | 36/250 [01:00<05:59,  1.68s/it]\u001b[A\u001b[A\n",
      "\n",
      "Cross Entropy 1.0068134268361448:  14%|█▍        | 36/250 [01:01<06:08,  1.72s/it]\u001b[A\u001b[A\n",
      "\n",
      "Cross Entropy 1.0068134268361448:  15%|█▍        | 37/250 [01:01<05:56,  1.67s/it]\u001b[A\u001b[A\n",
      "\n",
      "Cross Entropy 0.9850104241394154:  15%|█▍        | 37/250 [01:04<06:08,  1.73s/it]\u001b[A\u001b[A\n",
      "\n",
      "Cross Entropy 0.9850104241394154:  15%|█▌        | 38/250 [01:04<05:57,  1.69s/it]\u001b[A\u001b[A\n",
      "\n",
      "Cross Entropy 0.9683900019013152:  15%|█▌        | 38/250 [01:06<06:09,  1.74s/it]\u001b[A\u001b[A\n",
      "\n",
      "Cross Entropy 0.9683900019013152:  16%|█▌        | 39/250 [01:06<05:58,  1.70s/it]\u001b[A\u001b[A\n",
      "\n",
      "Cross Entropy 0.9657433051821636:  16%|█▌        | 39/250 [01:07<06:07,  1.74s/it]\u001b[A\u001b[A\n",
      "\n",
      "Cross Entropy 0.9657433051821636:  16%|█▌        | 40/250 [01:07<05:56,  1.70s/it]\u001b[A\u001b[A\n",
      "\n",
      "Cross Entropy 0.9787950949131843:  16%|█▌        | 40/250 [01:09<06:07,  1.75s/it]\u001b[A\u001b[A\n",
      "\n",
      "Cross Entropy 0.9787950949131843:  16%|█▋        | 41/250 [01:09<05:56,  1.71s/it]\u001b[A\u001b[A\n",
      "\n",
      "Cross Entropy 0.9310517861801392:  16%|█▋        | 41/250 [01:11<06:03,  1.74s/it]\u001b[A\u001b[A\n",
      "\n",
      "Cross Entropy 0.9310517861801392:  17%|█▋        | 42/250 [01:11<05:53,  1.70s/it]\u001b[A\u001b[A\n",
      "\n",
      "Cross Entropy 0.9397500589140549:  17%|█▋        | 42/250 [01:13<06:02,  1.74s/it]\u001b[A\u001b[A\n",
      "\n",
      "Cross Entropy 0.9397500589140549:  17%|█▋        | 43/250 [01:13<05:52,  1.70s/it]\u001b[A\u001b[A\n",
      "\n",
      "Cross Entropy 0.9286636212113241:  17%|█▋        | 43/250 [01:14<06:00,  1.74s/it]\u001b[A\u001b[A\n",
      "\n",
      "Cross Entropy 0.9286636212113241:  18%|█▊        | 44/250 [01:14<05:50,  1.70s/it]\u001b[A\u001b[A"
     ]
    },
    {
     "ename": "KeyboardInterrupt",
     "evalue": "",
     "output_type": "error",
     "traceback": [
      "\u001b[0;31m---------------------------------------------------------------------------\u001b[0m",
      "\u001b[0;31mKeyboardInterrupt\u001b[0m                         Traceback (most recent call last)",
      "\u001b[0;32m<ipython-input-40-630d408864fa>\u001b[0m in \u001b[0;36m<module>\u001b[0;34m()\u001b[0m\n\u001b[0;32m----> 1\u001b[0;31m \u001b[0mdnn\u001b[0m\u001b[0;34m.\u001b[0m\u001b[0mtrain\u001b[0m\u001b[0;34m(\u001b[0m\u001b[0mX_train\u001b[0m\u001b[0;34m,\u001b[0m\u001b[0my_train\u001b[0m\u001b[0;34m,\u001b[0m\u001b[0mlr\u001b[0m\u001b[0;34m=\u001b[0m\u001b[0;36m0.001\u001b[0m\u001b[0;34m,\u001b[0m\u001b[0mepochs\u001b[0m\u001b[0;34m=\u001b[0m\u001b[0;36m250\u001b[0m\u001b[0;34m,\u001b[0m\u001b[0mloss\u001b[0m\u001b[0;34m=\u001b[0m\u001b[0;34m\"cross_entropy\"\u001b[0m\u001b[0;34m)\u001b[0m\u001b[0;34m\u001b[0m\u001b[0m\n\u001b[0m",
      "\u001b[0;32m<ipython-input-5-337859ae605e>\u001b[0m in \u001b[0;36mtrain\u001b[0;34m(self, X, y, optimizer, lr, epochs, batch_size, loss)\u001b[0m\n\u001b[1;32m     69\u001b[0m     \u001b[0;32mdef\u001b[0m \u001b[0mtrain\u001b[0m\u001b[0;34m(\u001b[0m\u001b[0mself\u001b[0m\u001b[0;34m,\u001b[0m\u001b[0mX\u001b[0m\u001b[0;34m,\u001b[0m\u001b[0my\u001b[0m\u001b[0;34m,\u001b[0m\u001b[0moptimizer\u001b[0m\u001b[0;34m=\u001b[0m\u001b[0mSGD\u001b[0m\u001b[0;34m,\u001b[0m\u001b[0mlr\u001b[0m\u001b[0;34m=\u001b[0m\u001b[0;36m0.0001\u001b[0m\u001b[0;34m,\u001b[0m\u001b[0mepochs\u001b[0m\u001b[0;34m=\u001b[0m\u001b[0;36m100\u001b[0m\u001b[0;34m,\u001b[0m\u001b[0mbatch_size\u001b[0m\u001b[0;34m=\u001b[0m\u001b[0;36m1\u001b[0m\u001b[0;34m,\u001b[0m\u001b[0mloss\u001b[0m\u001b[0;34m=\u001b[0m\u001b[0;34m\"mse\"\u001b[0m\u001b[0;34m)\u001b[0m\u001b[0;34m:\u001b[0m\u001b[0;34m\u001b[0m\u001b[0m\n\u001b[1;32m     70\u001b[0m         \u001b[0mself\u001b[0m\u001b[0;34m.\u001b[0m\u001b[0mloss\u001b[0m \u001b[0;34m=\u001b[0m \u001b[0mloss\u001b[0m\u001b[0;34m\u001b[0m\u001b[0m\n\u001b[0;32m---> 71\u001b[0;31m         \u001b[0moptimizer\u001b[0m\u001b[0;34m(\u001b[0m\u001b[0mself\u001b[0m\u001b[0;34m,\u001b[0m\u001b[0mX\u001b[0m\u001b[0;34m,\u001b[0m\u001b[0my\u001b[0m\u001b[0;34m,\u001b[0m\u001b[0mlearning_rate\u001b[0m\u001b[0;34m=\u001b[0m\u001b[0mlr\u001b[0m\u001b[0;34m,\u001b[0m\u001b[0mepochs\u001b[0m\u001b[0;34m=\u001b[0m\u001b[0mepochs\u001b[0m\u001b[0;34m,\u001b[0m\u001b[0mbatch_size\u001b[0m\u001b[0;34m=\u001b[0m\u001b[0mbatch_size\u001b[0m\u001b[0;34m,\u001b[0m\u001b[0mloss\u001b[0m\u001b[0;34m=\u001b[0m\u001b[0mloss\u001b[0m\u001b[0;34m)\u001b[0m\u001b[0;34m\u001b[0m\u001b[0m\n\u001b[0m\u001b[1;32m     72\u001b[0m \u001b[0;34m\u001b[0m\u001b[0m\n\u001b[1;32m     73\u001b[0m     \u001b[0;32mdef\u001b[0m \u001b[0mpredict\u001b[0m\u001b[0;34m(\u001b[0m\u001b[0mself\u001b[0m\u001b[0;34m,\u001b[0m\u001b[0mX\u001b[0m\u001b[0;34m)\u001b[0m\u001b[0;34m:\u001b[0m\u001b[0;34m\u001b[0m\u001b[0m\n",
      "\u001b[0;32m~/BareBonesAI/Deep_Learning/nn_optimization_methods.py\u001b[0m in \u001b[0;36mSGD\u001b[0;34m(dnn, X, y, learning_rate, epochs, batch_size, loss)\u001b[0m\n\u001b[1;32m     29\u001b[0m             \u001b[0mj\u001b[0m \u001b[0;34m=\u001b[0m \u001b[0;36m0\u001b[0m\u001b[0;34m\u001b[0m\u001b[0m\n\u001b[1;32m     30\u001b[0m \u001b[0;34m\u001b[0m\u001b[0m\n\u001b[0;32m---> 31\u001b[0;31m             \u001b[0;32mwhile\u001b[0m \u001b[0mnp\u001b[0m\u001b[0;34m.\u001b[0m\u001b[0mall\u001b[0m\u001b[0;34m(\u001b[0m\u001b[0mlayer\u001b[0m \u001b[0;34m!=\u001b[0m \u001b[0;32mNone\u001b[0m\u001b[0;34m)\u001b[0m\u001b[0;34m:\u001b[0m\u001b[0;34m\u001b[0m\u001b[0m\n\u001b[0m\u001b[1;32m     32\u001b[0m \u001b[0;34m\u001b[0m\u001b[0m\n\u001b[1;32m     33\u001b[0m                 \u001b[0mnew_weights\u001b[0m \u001b[0;34m=\u001b[0m \u001b[0mlayer\u001b[0m\u001b[0;34m.\u001b[0m\u001b[0mgetWeights\u001b[0m\u001b[0;34m(\u001b[0m\u001b[0;34m)\u001b[0m\u001b[0;34m\u001b[0m\u001b[0m\n",
      "\u001b[0;32m~/anaconda3/envs/py36/lib/python3.6/site-packages/numpy/core/fromnumeric.py\u001b[0m in \u001b[0;36mall\u001b[0;34m(a, axis, out, keepdims)\u001b[0m\n\u001b[1;32m   2096\u001b[0m     \u001b[0;32mif\u001b[0m \u001b[0mkeepdims\u001b[0m \u001b[0;32mis\u001b[0m \u001b[0;32mnot\u001b[0m \u001b[0mnp\u001b[0m\u001b[0;34m.\u001b[0m\u001b[0m_NoValue\u001b[0m\u001b[0;34m:\u001b[0m\u001b[0;34m\u001b[0m\u001b[0m\n\u001b[1;32m   2097\u001b[0m         \u001b[0mkwargs\u001b[0m\u001b[0;34m[\u001b[0m\u001b[0;34m'keepdims'\u001b[0m\u001b[0;34m]\u001b[0m \u001b[0;34m=\u001b[0m \u001b[0mkeepdims\u001b[0m\u001b[0;34m\u001b[0m\u001b[0m\n\u001b[0;32m-> 2098\u001b[0;31m     \u001b[0;32mreturn\u001b[0m \u001b[0marr\u001b[0m\u001b[0;34m.\u001b[0m\u001b[0mall\u001b[0m\u001b[0;34m(\u001b[0m\u001b[0maxis\u001b[0m\u001b[0;34m=\u001b[0m\u001b[0maxis\u001b[0m\u001b[0;34m,\u001b[0m \u001b[0mout\u001b[0m\u001b[0;34m=\u001b[0m\u001b[0mout\u001b[0m\u001b[0;34m,\u001b[0m \u001b[0;34m**\u001b[0m\u001b[0mkwargs\u001b[0m\u001b[0;34m)\u001b[0m\u001b[0;34m\u001b[0m\u001b[0m\n\u001b[0m\u001b[1;32m   2099\u001b[0m \u001b[0;34m\u001b[0m\u001b[0m\n\u001b[1;32m   2100\u001b[0m \u001b[0;34m\u001b[0m\u001b[0m\n",
      "\u001b[0;32m~/anaconda3/envs/py36/lib/python3.6/site-packages/numpy/core/_methods.py\u001b[0m in \u001b[0;36m_all\u001b[0;34m(a, axis, dtype, out, keepdims)\u001b[0m\n\u001b[1;32m     39\u001b[0m \u001b[0;34m\u001b[0m\u001b[0m\n\u001b[1;32m     40\u001b[0m \u001b[0;32mdef\u001b[0m \u001b[0m_all\u001b[0m\u001b[0;34m(\u001b[0m\u001b[0ma\u001b[0m\u001b[0;34m,\u001b[0m \u001b[0maxis\u001b[0m\u001b[0;34m=\u001b[0m\u001b[0;32mNone\u001b[0m\u001b[0;34m,\u001b[0m \u001b[0mdtype\u001b[0m\u001b[0;34m=\u001b[0m\u001b[0;32mNone\u001b[0m\u001b[0;34m,\u001b[0m \u001b[0mout\u001b[0m\u001b[0;34m=\u001b[0m\u001b[0;32mNone\u001b[0m\u001b[0;34m,\u001b[0m \u001b[0mkeepdims\u001b[0m\u001b[0;34m=\u001b[0m\u001b[0;32mFalse\u001b[0m\u001b[0;34m)\u001b[0m\u001b[0;34m:\u001b[0m\u001b[0;34m\u001b[0m\u001b[0m\n\u001b[0;32m---> 41\u001b[0;31m     \u001b[0;32mreturn\u001b[0m \u001b[0mumr_all\u001b[0m\u001b[0;34m(\u001b[0m\u001b[0ma\u001b[0m\u001b[0;34m,\u001b[0m \u001b[0maxis\u001b[0m\u001b[0;34m,\u001b[0m \u001b[0mdtype\u001b[0m\u001b[0;34m,\u001b[0m \u001b[0mout\u001b[0m\u001b[0;34m,\u001b[0m \u001b[0mkeepdims\u001b[0m\u001b[0;34m)\u001b[0m\u001b[0;34m\u001b[0m\u001b[0m\n\u001b[0m\u001b[1;32m     42\u001b[0m \u001b[0;34m\u001b[0m\u001b[0m\n\u001b[1;32m     43\u001b[0m \u001b[0;32mdef\u001b[0m \u001b[0m_count_reduce_items\u001b[0m\u001b[0;34m(\u001b[0m\u001b[0marr\u001b[0m\u001b[0;34m,\u001b[0m \u001b[0maxis\u001b[0m\u001b[0;34m)\u001b[0m\u001b[0;34m:\u001b[0m\u001b[0;34m\u001b[0m\u001b[0m\n",
      "\u001b[0;31mKeyboardInterrupt\u001b[0m: "
     ]
    }
   ],
   "source": [
    "dnn.train(X_train,y_train,lr=0.001,epochs=250,loss=\"cross_entropy\")"
   ]
  },
  {
   "cell_type": "markdown",
   "metadata": {},
   "source": [
    "### Train Acc"
   ]
  },
  {
   "cell_type": "code",
   "execution_count": 31,
   "metadata": {},
   "outputs": [
    {
     "data": {
      "text/plain": [
       "0.10444993819530285"
      ]
     },
     "execution_count": 31,
     "metadata": {},
     "output_type": "execute_result"
    }
   ],
   "source": [
    "tools.calc_accuracy(dnn.predict(X_train),y_train)"
   ]
  },
  {
   "cell_type": "markdown",
   "metadata": {},
   "source": [
    "### Test Acc"
   ]
  },
  {
   "cell_type": "code",
   "execution_count": 32,
   "metadata": {},
   "outputs": [
    {
     "data": {
      "text/plain": [
       "0.0782122905027933"
      ]
     },
     "execution_count": 32,
     "metadata": {},
     "output_type": "execute_result"
    }
   ],
   "source": [
    "tools.calc_accuracy(dnn.predict(X_test),y_test)"
   ]
  }
 ],
 "metadata": {
  "kernelspec": {
   "display_name": "Python [conda env:py36]",
   "language": "python",
   "name": "conda-env-py36-py"
  },
  "language_info": {
   "codemirror_mode": {
    "name": "ipython",
    "version": 3
   },
   "file_extension": ".py",
   "mimetype": "text/x-python",
   "name": "python",
   "nbconvert_exporter": "python",
   "pygments_lexer": "ipython3",
   "version": "3.6.5"
  }
 },
 "nbformat": 4,
 "nbformat_minor": 2
}
