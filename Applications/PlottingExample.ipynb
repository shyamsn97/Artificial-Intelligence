{
 "cells": [
  {
   "cell_type": "code",
   "execution_count": 24,
   "metadata": {},
   "outputs": [],
   "source": [
    "import numpy as np\n",
    "import pandas as pd\n",
    "import matplotlib as mpl\n",
    "import matplotlib.pyplot as plt\n",
    "import sys\n",
    "sys.path.append(\"../Unsupervised_Learning/\")\n",
    "from PCA import PCA\n",
    "from KMeans_Medians import KMeans_Medians\n",
    "from sklearn import datasets"
   ]
  },
  {
   "cell_type": "markdown",
   "metadata": {},
   "source": [
    "# Plotting Example"
   ]
  },
  {
   "cell_type": "code",
   "execution_count": 26,
   "metadata": {},
   "outputs": [],
   "source": [
    "iris = datasets.load_iris()\n",
    "X = iris.data\n",
    "y = iris.target\n",
    "pca = PCA(X)"
   ]
  },
  {
   "cell_type": "code",
   "execution_count": 28,
   "metadata": {},
   "outputs": [
    {
     "data": {
      "text/plain": [
       "array([5.1, 4.9, 4.7, 4.6, 5. , 5.4, 4.6, 5. , 4.4, 4.9, 5.4, 4.8, 4.8,\n",
       "       4.3, 5.8, 5.7, 5.4, 5.1, 5.7, 5.1, 5.4, 5.1, 4.6, 5.1, 4.8, 5. ,\n",
       "       5. , 5.2, 5.2, 4.7, 4.8, 5.4, 5.2, 5.5, 4.9, 5. , 5.5, 4.9, 4.4,\n",
       "       5.1, 5. , 4.5, 4.4, 5. , 5.1, 4.8, 5.1, 4.6, 5.3, 5. , 7. , 6.4,\n",
       "       6.9, 5.5, 6.5, 5.7, 6.3, 4.9, 6.6, 5.2, 5. , 5.9, 6. , 6.1, 5.6,\n",
       "       6.7, 5.6, 5.8, 6.2, 5.6, 5.9, 6.1, 6.3, 6.1, 6.4, 6.6, 6.8, 6.7,\n",
       "       6. , 5.7, 5.5, 5.5, 5.8, 6. , 5.4, 6. , 6.7, 6.3, 5.6, 5.5, 5.5,\n",
       "       6.1, 5.8, 5. , 5.6, 5.7, 5.7, 6.2, 5.1, 5.7, 6.3, 5.8, 7.1, 6.3,\n",
       "       6.5, 7.6, 4.9, 7.3, 6.7, 7.2, 6.5, 6.4, 6.8, 5.7, 5.8, 6.4, 6.5,\n",
       "       7.7, 7.7, 6. , 6.9, 5.6, 7.7, 6.3, 6.7, 7.2, 6.2, 6.1, 6.4, 7.2,\n",
       "       7.4, 7.9, 6.4, 6.3, 6.1, 7.7, 6.3, 6.4, 6. , 6.9, 6.7, 6.9, 5.8,\n",
       "       6.8, 6.7, 6.7, 6.3, 6.5, 6.2, 5.9])"
      ]
     },
     "execution_count": 28,
     "metadata": {},
     "output_type": "execute_result"
    }
   ],
   "source": [
    "X[:,0]"
   ]
  },
  {
   "cell_type": "code",
   "execution_count": 33,
   "metadata": {},
   "outputs": [
    {
     "data": {
      "text/plain": [
       "array([[ 2.82713597, -5.64133105],\n",
       "       [ 2.79595248, -5.14516688],\n",
       "       [ 2.62152356, -5.17737812],\n",
       "       [ 2.7649059 , -5.00359942],\n",
       "       [ 2.78275012, -5.64864829],\n",
       "       [ 3.23144574, -6.06250644],\n",
       "       [ 2.69045242, -5.23261922],\n",
       "       [ 2.8848611 , -5.48512908],\n",
       "       [ 2.62338453, -4.7439257 ],\n",
       "       [ 2.83749841, -5.20803203],\n",
       "       [ 3.00481631, -5.96665874],\n",
       "       [ 2.89820038, -5.33624436],\n",
       "       [ 2.72390912, -5.08698354],\n",
       "       [ 2.28614265, -4.81144382],\n",
       "       [ 2.86779988, -6.50091863],\n",
       "       [ 3.12747377, -6.65947808],\n",
       "       [ 2.88881689, -6.13281341],\n",
       "       [ 2.86302037, -5.6338604 ],\n",
       "       [ 3.31226514, -6.19396782],\n",
       "       [ 2.92399691, -5.83519737],\n",
       "       [ 3.2008114 , -5.71259155],\n",
       "       [ 2.96810819, -5.75475549],\n",
       "       [ 2.2954854 , -5.4563393 ],\n",
       "       [ 3.20821456, -5.42024641],\n",
       "       [ 3.15517201, -5.28351414],\n",
       "       [ 3.00342587, -5.17566739],\n",
       "       [ 3.0422871 , -5.45261105],\n",
       "       [ 2.94895215, -5.68940829],\n",
       "       [ 2.87152183, -5.6340138 ],\n",
       "       [ 2.87849519, -5.1246479 ],\n",
       "       [ 2.92288105, -5.11733065],\n",
       "       [ 3.10126576, -5.73280374],\n",
       "       [ 2.86370642, -6.13470636],\n",
       "       [ 2.91418362, -6.41474566],\n",
       "       [ 2.83749841, -5.20803203],\n",
       "       [ 2.64434325, -5.39191683],\n",
       "       [ 2.88611463, -5.92152374],\n",
       "       [ 2.83749841, -5.20803203],\n",
       "       [ 2.52950043, -4.83447368],\n",
       "       [ 2.92102007, -5.55078307],\n",
       "       [ 2.74120419, -5.58578315],\n",
       "       [ 2.65913202, -4.38185836],\n",
       "       [ 2.51304665, -4.98041616],\n",
       "       [ 3.105829  , -5.51064099],\n",
       "       [ 3.30251014, -5.75741976],\n",
       "       [ 2.79567791, -5.07204225],\n",
       "       [ 2.97376973, -5.82509128],\n",
       "       [ 2.6710218 , -5.09414739],\n",
       "       [ 2.96865734, -5.90100476],\n",
       "       [ 2.80743078, -5.42973458],\n",
       "       [ 6.79613769, -6.00016292],\n",
       "       [ 6.44375385, -5.63392182],\n",
       "       [ 6.97540442, -5.81891356],\n",
       "       [ 5.6923103 , -4.48911979],\n",
       "       [ 6.59847758, -5.39011412],\n",
       "       [ 6.15177985, -4.89740025],\n",
       "       [ 6.60656681, -5.59861494],\n",
       "       [ 4.75987596, -4.31361622],\n",
       "       [ 6.55464088, -5.54368064],\n",
       "       [ 5.50115303, -4.59414886],\n",
       "       [ 5.0002569 , -4.05223178],\n",
       "       [ 6.02244116, -5.21243963],\n",
       "       [ 5.77367885, -4.76683043],\n",
       "       [ 6.49538764, -5.19036331],\n",
       "       [ 5.3364791 , -5.06290816],\n",
       "       [ 6.43891604, -5.78295994],\n",
       "       [ 6.17093589, -4.96274744],\n",
       "       [ 5.74588368, -4.9828019 ],\n",
       "       [ 6.45370481, -4.77290147],\n",
       "       [ 5.5545895 , -4.73323428],\n",
       "       [ 6.62758382, -5.23050972],\n",
       "       [ 5.86812967, -5.2478999 ],\n",
       "       [ 6.80781195, -4.98716221],\n",
       "       [ 6.43184575, -5.13233337],\n",
       "       [ 6.22535131, -5.46510288],\n",
       "       [ 6.41098396, -5.64433471],\n",
       "       [ 6.84238452, -5.55939325],\n",
       "       [ 7.06873937, -5.58211632],\n",
       "       [ 6.32379865, -5.15239216],\n",
       "       [ 5.20400834, -4.94963712],\n",
       "       [ 5.44100021, -4.6121858 ],\n",
       "       [ 5.31945861, -4.63723319],\n",
       "       [ 5.64633805, -5.00301409],\n",
       "       [ 6.89008008, -4.89351859],\n",
       "       [ 6.09861795, -4.83143946],\n",
       "       [ 6.31854859, -5.50977769],\n",
       "       [ 6.73177206, -5.72275907],\n",
       "       [ 6.32421089, -4.94404473],\n",
       "       [ 5.75653826, -5.0479957 ],\n",
       "       [ 5.67585653, -4.63506226],\n",
       "       [ 5.97437409, -4.64519718],\n",
       "       [ 6.40150354, -5.28091129],\n",
       "       [ 5.74022215, -4.91246611],\n",
       "       [ 4.80426181, -4.30629897],\n",
       "       [ 5.86687614, -4.81150524],\n",
       "       [ 5.84247005, -5.10354359],\n",
       "       [ 5.88658133, -5.02310171],\n",
       "       [ 6.15303338, -5.33379491],\n",
       "       [ 4.60287976, -4.56315501],\n",
       "       [ 5.80915101, -4.96770721],\n",
       "       [ 8.04307008, -5.30288149],\n",
       "       [ 6.92541532, -4.73979867],\n",
       "       [ 8.12782771, -5.65665902],\n",
       "       [ 7.48215804, -5.13359804],\n",
       "       [ 7.86110108, -5.27284118],\n",
       "       [ 8.90822302, -5.86189178],\n",
       "       [ 6.03072634, -4.12337204],\n",
       "       [ 8.44334819, -5.66710074],\n",
       "       [ 7.83101589, -5.06917556],\n",
       "       [ 8.42947733, -6.09510436],\n",
       "       [ 7.17327804, -5.55676213],\n",
       "       [ 7.31368355, -5.09856912],\n",
       "       [ 7.67672196, -5.53000401],\n",
       "       [ 6.85593732, -4.53830831],\n",
       "       [ 7.0966104 , -4.77541668],\n",
       "       [ 7.41608668, -5.43354272],\n",
       "       [ 7.46059188, -5.35545399],\n",
       "       [ 9.00010848, -6.48626828],\n",
       "       [ 9.30602996, -5.5679893 ],\n",
       "       [ 6.80967292, -4.55370979],\n",
       "       [ 7.93951036, -5.6915057 ],\n",
       "       [ 6.70944047, -4.70914477],\n",
       "       [ 9.01060858, -5.7714972 ],\n",
       "       [ 6.89901135, -5.11069274],\n",
       "       [ 7.78719675, -5.64811026],\n",
       "       [ 8.12553693, -5.87309068],\n",
       "       [ 6.76896828, -5.13558673],\n",
       "       [ 6.80201275, -5.19829848],\n",
       "       [ 7.63419708, -5.10386885],\n",
       "       [ 7.8989075 , -5.77724298],\n",
       "       [ 8.35230402, -5.68746632],\n",
       "       [ 8.743686  , -6.68524777],\n",
       "       [ 7.67008147, -5.0963982 ],\n",
       "       [ 6.9544457 , -5.17092244],\n",
       "       [ 7.2909832 , -4.81325894],\n",
       "       [ 8.58786472, -6.00048817],\n",
       "       [ 7.65632995, -5.45363034],\n",
       "       [ 7.41620602, -5.36277124],\n",
       "       [ 6.68019657, -5.15022123],\n",
       "       [ 7.61899683, -5.68620598],\n",
       "       [ 7.82564649, -5.49733258],\n",
       "       [ 7.43379398, -5.72399491],\n",
       "       [ 6.92541532, -4.73979867],\n",
       "       [ 8.07466581, -5.59069823],\n",
       "       [ 7.93073432, -5.61822767],\n",
       "       [ 7.45536015, -5.50213895],\n",
       "       [ 7.03700673, -4.93970288],\n",
       "       [ 7.27538903, -5.39324292],\n",
       "       [ 7.41297217, -5.43060048],\n",
       "       [ 6.90100923, -5.03183702]])"
      ]
     },
     "execution_count": 33,
     "metadata": {},
     "output_type": "execute_result"
    }
   ],
   "source": [
    "pca.project(2)"
   ]
  },
  {
   "cell_type": "code",
   "execution_count": 25,
   "metadata": {},
   "outputs": [
    {
     "data": {
      "image/png": "[encoded data removed]",
      "text/plain": [
       "<Figure size 432x288 with 1 Axes>"
      ]
     },
     "metadata": {},
     "output_type": "display_data"
    }
   ],
   "source": [
    "def plot2D(X,y=None,classes=False):\n",
    "    \n",
    "    if len(X.shape) > 2 and np.all(y==None):\n",
    "        pca = PCA(X)\n",
    "        plotvals = pca.project(2)\n",
    "        if np.all(classes != False):\n",
    "            \n",
    "            \n",
    "            \n",
    "        \n",
    "    "
   ]
  }
 ],
 "metadata": {
  "kernelspec": {
   "display_name": "Python [conda env:py36]",
   "language": "python",
   "name": "conda-env-py36-py"
  },
  "language_info": {
   "codemirror_mode": {
    "name": "ipython",
    "version": 3
   },
   "file_extension": ".py",
   "mimetype": "text/x-python",
   "name": "python",
   "nbconvert_exporter": "python",
   "pygments_lexer": "ipython3",
   "version": "3.6.5"
  }
 },
 "nbformat": 4,
 "nbformat_minor": 2
}
