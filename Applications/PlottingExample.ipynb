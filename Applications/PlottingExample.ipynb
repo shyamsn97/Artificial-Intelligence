{
 "cells": [
  {
   "cell_type": "code",
   "execution_count": 2,
   "metadata": {},
   "outputs": [],
   "source": [
    "import numpy as np\n",
    "import pandas as pd\n",
    "import matplotlib as mpl\n",
    "import matplotlib.pyplot as plt\n",
    "import sys\n",
    "sys.path.append(\"../Unsupervised_Learning/\")\n",
    "from PCA import PCA\n",
    "from KMeans_Medians import KMeans_Medians\n",
    "from sklearn import datasets"
   ]
  },
  {
   "cell_type": "markdown",
   "metadata": {},
   "source": [
    "# Plotting Example"
   ]
  },
  {
   "cell_type": "code",
   "execution_count": 3,
   "metadata": {},
   "outputs": [],
   "source": [
    "iris = datasets.load_iris()\n",
    "X = iris.data\n",
    "y = iris.target\n",
    "pca = PCA(X[:,:2])"
   ]
  },
  {
   "cell_type": "code",
   "execution_count": 7,
   "metadata": {},
   "outputs": [
    {
     "data": {
      "text/plain": [
       "array([[4.81077444, 3.88798782],\n",
       "       [4.65047471, 3.37388277],\n",
       "       [4.43545153, 3.55763541],\n",
       "       [4.34357521, 3.45012382],\n",
       "       [4.70326285, 3.97986414],\n",
       "       [5.07858577, 4.31021654],\n",
       "       [4.32012231, 3.74920568],\n",
       "       [4.71889812, 3.78047623],\n",
       "       [4.15982257, 3.23510064],\n",
       "       [4.64265708, 3.47357673]])"
      ]
     },
     "execution_count": 7,
     "metadata": {},
     "output_type": "execute_result"
    }
   ],
   "source": [
    "pca.project(2)[:10]"
   ]
  },
  {
   "cell_type": "code",
   "execution_count": 22,
   "metadata": {},
   "outputs": [],
   "source": [
    "def plot2D(X,y=None,classes=False,title=\"Plotted Vals\"):\n",
    "    \n",
    "    fig, ax = plt.subplots()\n",
    "    if len(X.shape) >= 2:\n",
    "        pca = PCA(X)\n",
    "        if classes == True:\n",
    "            X = pca.project(2)\n",
    "            for class_val in np.unique(y):\n",
    "                i = np.where(y == class_val)[0]\n",
    "                ax.scatter(x=X[i,0],y=X[i,1], label=class_val)\n",
    "                plt.ylabel(\"PC 2\")\n",
    "                plt.xlabel(\"PC 1\")\n",
    "        else:\n",
    "            X = pca.project(1)\n",
    "            ax.scatter(X,y)\n",
    "            plt.ylabel(\"Y\")\n",
    "            plt.xlabel(\"X\")\n",
    "    else:\n",
    "        if classes == True:\n",
    "            for class_val in np.unique(y):\n",
    "                i = np.where(y == class_val)[0]\n",
    "                ax.scatter(x=X,y=y, label=class_val)\n",
    "                plt.ylabel(\"PC 2\")\n",
    "                plt.xlabel(\"PC 1\")\n",
    "        else:\n",
    "            ax.scatter(x=X,y=y)\n",
    "            plt.ylabel(\"Y\")\n",
    "            plt.xlabel(\"X\")\n",
    "            \n",
    "    ax.legend()\n",
    "    plt.title(title)\n",
    "    plt.figure(figsize=(20,20))\n",
    "    plt.show()  "
   ]
  },
  {
   "cell_type": "code",
   "execution_count": 23,
   "metadata": {},
   "outputs": [
    {
     "data": {
      "image/png": "[encoded data removed]",
      "text/plain": [
       "<Figure size 432x288 with 1 Axes>"
      ]
     },
     "metadata": {},
     "output_type": "display_data"
    },
    {
     "data": {
      "text/plain": [
       "<Figure size 2880x2880 with 0 Axes>"
      ]
     },
     "metadata": {},
     "output_type": "display_data"
    }
   ],
   "source": [
    "plot2D(X,y=y,classes=True)"
   ]
  },
  {
   "cell_type": "code",
   "execution_count": 8,
   "metadata": {},
   "outputs": [
    {
     "name": "stderr",
     "output_type": "stream",
     "text": [
      "No handles with labels found to put in legend.\n"
     ]
    },
    {
     "data": {
      "image/png": "[encoded data removed]",
      "text/plain": [
       "<Figure size 432x288 with 1 Axes>"
      ]
     },
     "metadata": {},
     "output_type": "display_data"
    }
   ],
   "source": [
    "fig, ax = plt.subplots()\n",
    "ax.scatter(X[:,0],y)\n",
    "ax.legend()\n",
    "plt.show()"
   ]
  }
 ],
 "metadata": {
  "kernelspec": {
   "display_name": "Python [conda env:py36]",
   "language": "python",
   "name": "conda-env-py36-py"
  },
  "language_info": {
   "codemirror_mode": {
    "name": "ipython",
    "version": 3
   },
   "file_extension": ".py",
   "mimetype": "text/x-python",
   "name": "python",
   "nbconvert_exporter": "python",
   "pygments_lexer": "ipython3",
   "version": "3.6.5"
  }
 },
 "nbformat": 4,
 "nbformat_minor": 2
}
