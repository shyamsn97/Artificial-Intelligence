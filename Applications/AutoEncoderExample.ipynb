{
 "cells": [
  {
   "cell_type": "code",
   "execution_count": 1,
   "metadata": {},
   "outputs": [
    {
     "name": "stderr",
     "output_type": "stream",
     "text": [
      "/home/shyam/anaconda3/envs/py36/lib/python3.6/site-packages/h5py/__init__.py:36: FutureWarning: Conversion of the second argument of issubdtype from `float` to `np.floating` is deprecated. In future, it will be treated as `np.float64 == np.dtype(float).type`.\n",
      "  from ._conv import register_converters as _register_converters\n",
      "Using TensorFlow backend.\n"
     ]
    }
   ],
   "source": [
    "import numpy as np\n",
    "import matplotlib.pyplot as plt\n",
    "from sklearn import datasets\n",
    "from keras.datasets import mnist\n",
    "import seaborn as sns\n",
    "import pandas as pd\n",
    "import sys\n",
    "from tqdm import tqdm\n",
    "sys.path.append('../Deep_Learning/')\n",
    "from DeepNeuralNetwork import DNN\n",
    "from nn_optimization_methods import SGD\n",
    "from layers.Dense import Dense\n",
    "from layers.Input import Input\n",
    "from layers.Softmax import Softmax\n",
    "sys.path.append('../tools/')\n",
    "import tools\n",
    "import copy\n",
    "\n",
    "%matplotlib inline"
   ]
  },
  {
   "cell_type": "markdown",
   "metadata": {},
   "source": [
    "# AutoEncoder Example using DNN"
   ]
  },
  {
   "cell_type": "markdown",
   "metadata": {},
   "source": [
    "## Demonstrated using mnist data"
   ]
  },
  {
   "cell_type": "code",
   "execution_count": 2,
   "metadata": {},
   "outputs": [],
   "source": [
    "(X_train_digits, y_train), (X_test_digits, y_test) = mnist.load_data()"
   ]
  },
  {
   "cell_type": "code",
   "execution_count": 3,
   "metadata": {},
   "outputs": [],
   "source": [
    "X_train = np.array(list(map(lambda x: x.flatten()/255,X_train_digits)))\n",
    "X_test = np.array(list(map(lambda x: x.flatten()/255,X_test_digits)))"
   ]
  },
  {
   "cell_type": "code",
   "execution_count": 4,
   "metadata": {},
   "outputs": [],
   "source": [
    "class AutoEncoder():\n",
    "    \"\"\"\n",
    "    An auto encoder is a semi supervised learning algorithm that attempts to reconstruct input using a smaller feature space\n",
    "    Parameters:\n",
    "        X: numpy array(): data matrix\n",
    "        encoder: DNN to reduce dimensions of matrix\n",
    "        decoder: DNN to recreate the original data from the encoded data\n",
    "        full_model: DNN that combines both the encoder and decoder objects, used to train both\n",
    "    \"\"\"\n",
    "    def __init__(self,X):\n",
    "        \n",
    "        self.X = X\n",
    "        self.encoder = None\n",
    "        self.decoder = None\n",
    "        self.full_model = DNN()\n",
    "        self.full_model.add(Input(X))\n",
    "        self.count = 0\n",
    "        \n",
    "    def create_encoder(self,layers=[Dense(32),Dense(512)],encoded_dims=2):\n",
    "        \n",
    "        self.count = 0\n",
    "        for layer in layers:\n",
    "            self.full_model.add(layer)\n",
    "            self.count += 1\n",
    "            \n",
    "        self.full_model.add(Dense(encoded_dims))\n",
    "        \n",
    "    def create_decoder(self,layers=[Dense(32)]):\n",
    "        \n",
    "        if len(layers) > 0:\n",
    "            for layer in layers:\n",
    "                self.full_model.add(layer)\n",
    "            \n",
    "        self.full_model.add(Dense(self.X.shape[-1]))\n",
    "    \n",
    "    def finalize_encoder_decoder(self):\n",
    "        \n",
    "        count = 0\n",
    "        layer = self.full_model.head.getNext()\n",
    "        self.encoder = DNN()\n",
    "        self.decoder = DNN()\n",
    "        self.encoder.add(Input(self.X))\n",
    "        \n",
    "        while layer != None:\n",
    "            print(layer)\n",
    "            newlay = copy.deepcopy(layer)\n",
    "            if count <= self.count:\n",
    "                self.encoder.add(newlay)\n",
    "                self.encoder.outlayer.update(newlay.getWeights())\n",
    "                if count == a.count:\n",
    "                    self.encoder.outlayer.next = None\n",
    "                    self.decoder.add(Input(self.encoder.outlayer.output))\n",
    "\n",
    "            else:\n",
    "                self.decoder.add(newlay)\n",
    "                self.decoder.outlayer.update(newlay.getWeights())\n",
    "            layer = layer.getNext()\n",
    "            count += 1\n",
    "            \n",
    "    def train(self,learning_rate=0.0001,epochs=100,loss=\"mse\"):\n",
    "        \n",
    "        self.full_model.fit(self.X,self.X,lr=learning_rate,epochs=epochs,loss=loss)\n",
    "        self.finalize_encoder_decoder()\n",
    "    \n",
    "    def predict(self,X):\n",
    "        \n",
    "        encoded = self.encoder.predict(X)\n",
    "        decoded = self.decoder.predict(encoded)\n",
    "        return encoded,decoded, self.full_model.predict(X)\n"
   ]
  },
  {
   "cell_type": "code",
   "execution_count": 5,
   "metadata": {},
   "outputs": [],
   "source": [
    "a = AutoEncoder(X_train[:200])\n",
    "a.create_encoder()\n",
    "a.create_decoder()"
   ]
  },
  {
   "cell_type": "code",
   "execution_count": 6,
   "metadata": {
    "scrolled": true
   },
   "outputs": [
    {
     "name": "stdout",
     "output_type": "stream",
     "text": [
      "[[0.14901965 0.84492062 0.49887636 0.74434196 0.31225788 0.18715236\n",
      "  0.32454996 0.06693336 0.0762862  0.83913118 0.80076477 0.87991632\n",
      "  0.82028012 0.87985192 0.4354582  0.31570469 0.32757859 0.30850491\n",
      "  0.29940336 0.09161459 0.90377815 0.26497399 0.48417159 0.34970786\n",
      "  0.47492708 0.10304024 0.05854851 0.48515971]\n",
      " [0.79833652 0.53672419 0.77188005 0.14734863 0.86494265 0.11957324\n",
      "  0.3226748  0.46203911 0.0285066  0.09804953 0.34580868 0.9340963\n",
      "  0.0870979  0.20413742 0.92452207 0.97604862 0.84150011 0.34396834\n",
      "  0.02887576 0.65212054 0.4249368  0.18301199 0.24390323 0.87735205\n",
      "  0.86508306 0.42763094 0.92520753 0.28142336]\n",
      " [0.39302366 0.18769433 0.89377549 0.14066157 0.849913   0.29808007\n",
      "  0.3059536  0.1203445  0.81544165 0.45301079 0.31541426 0.2696239\n",
      "  0.12729915 0.41253778 0.43602861 0.90739132 0.20063007 0.91209126\n",
      "  0.78390451 0.39572761 0.53365817 0.76292486 0.26842082 0.43568368\n",
      "  0.81756274 0.93402909 0.40463233 0.31076348]\n",
      " [0.62747795 0.74586549 0.13261361 0.91923833 0.72465623 0.59009402\n",
      "  0.8720746  0.49657868 0.97047356 0.30254599 0.79813139 0.18362572\n",
      "  0.03187317 0.08627655 0.20941452 0.25538364 0.30490714 0.15488234\n",
      "  0.37130879 0.41594887 0.11284507 0.89391621 0.49793531 0.68759169\n",
      "  0.64387511 0.21191531 0.3344037  0.50670535]\n",
      " [0.79039593 0.30630069 0.71729341 0.44260261 0.90512819 0.27985246\n",
      "  0.89815608 0.26390023 0.07826228 0.10085342 0.60623271 0.58167418\n",
      "  0.63600547 0.95673418 0.82018444 0.60378461 0.16105836 0.41044851\n",
      "  0.78188889 0.41206995 0.48094243 0.59958007 0.8862182  0.60967532\n",
      "  0.97817371 0.90353624 0.98139547 0.68621956]\n",
      " [0.92365128 0.20205691 0.79372425 0.00847638 0.61623646 0.96652093\n",
      "  0.9105535  0.75219746 0.9529704  0.2562867  0.09837519 0.70179407\n",
      "  0.81712479 0.2547407  0.72431137 0.05207527 0.84422807 0.73672919\n",
      "  0.51345502 0.9217902  0.02759426 0.19433538 0.03634641 0.20112335\n",
      "  0.25657458 0.03095475 0.01193188 0.56771387]\n",
      " [0.41722089 0.41857956 0.49146668 0.17451981 0.92761335 0.08405862\n",
      "  0.63415241 0.61247495 0.28540919 0.9697691  0.36943418 0.93300801\n",
      "  0.58140579 0.57782642 0.10685816 0.04919624 0.29118125 0.69721149\n",
      "  0.27006122 0.93738402 0.53429466 0.2487167  0.53791747 0.02759885\n",
      "  0.77398126 0.57023662 0.8686631  0.01801392]\n",
      " [0.07285966 0.10663386 0.61139816 0.23470462 0.80532447 0.01894004\n",
      "  0.64971321 0.0338897  0.41739875 0.23623557 0.92100613 0.37890922\n",
      "  0.09732832 0.22607082 0.62749135 0.19338989 0.62342213 0.04352531\n",
      "  0.77826276 0.89620075 0.76293898 0.78358124 0.75351086 0.97304703\n",
      "  0.28365605 0.26349975 0.69093734 0.01199233]\n",
      " [0.4944744  0.84764124 0.67222118 0.69847739 0.18773517 0.35223814\n",
      "  0.20957407 0.62453967 0.61541395 0.68609777 0.23690887 0.34653443\n",
      "  0.53086768 0.74303471 0.51938335 0.5393113  0.2530114  0.8121562\n",
      "  0.93486758 0.63768574 0.90436875 0.91026078 0.57196031 0.03463656\n",
      "  0.15304093 0.98970582 0.55840516 0.08548988]\n",
      " [0.4427601  0.59296862 0.48897389 0.10632237 0.05721603 0.73696088\n",
      "  0.41158268 0.50914514 0.20588698 0.35601794 0.16085434 0.14258896\n",
      "  0.77528677 0.92079289 0.14374288 0.12601873 0.35771969 0.60885304\n",
      "  0.60012964 0.72768628 0.27753541 0.20996643 0.83609238 0.09486663\n",
      "  0.72709481 0.08003504 0.5967363  0.52099823]\n",
      " [0.94797494 0.28548469 0.26822609 0.12188884 0.53997183 0.60642751\n",
      "  0.17036533 0.70686821 0.00934723 0.69923715 0.8331696  0.4932594\n",
      "  0.81852558 0.12182093 0.75807549 0.08205514 0.85249248 0.20905419\n",
      "  0.90393187 0.92135457 0.24303452 0.54888748 0.19978854 0.73333658\n",
      "  0.5150717  0.14565774 0.50305927 0.3263829 ]\n",
      " [0.01913675 0.51978452 0.35721353 0.15586189 0.63776275 0.95080458\n",
      "  0.45775443 0.38341953 0.69634616 0.03591419 0.00255027 0.69685095\n",
      "  0.8649867  0.58376813 0.82809987 0.36275319 0.24426761 0.55270386\n",
      "  0.83721882 0.27276949 0.08374841 0.79039962 0.30730331 0.44917922\n",
      "  0.19508247 0.75408271 0.4736207  0.37356452]\n",
      " [0.17822319 0.24638278 0.21229567 0.79193754 0.82658113 0.58055964\n",
      "  0.76923244 0.84436589 0.57286713 0.67962131 0.7398327  0.05286165\n",
      "  0.36415781 0.66253711 0.71825461 0.75239388 0.980198   0.54398536\n",
      "  0.22056274 0.99343569 0.86558632 0.19826559 0.86211376 0.85925971\n",
      "  0.79836493 0.64227225 0.93865281 0.15533976]\n",
      " [0.66922149 0.45974511 0.34564464 0.53851857 0.05348374 0.37358661\n",
      "  0.05911309 0.88172245 0.56493451 0.03506554 0.64583756 0.78292055\n",
      "  0.35811486 0.9521398  0.13909624 0.81580879 0.39221542 0.22934381\n",
      "  0.77651659 0.49746483 0.24714956 0.64738575 0.89756681 0.12058605\n",
      "  0.80748265 0.21238572 0.78415445 0.32045214]\n",
      " [0.68465782 0.37651607 0.83715376 0.70958314 0.98405963 0.16383291\n",
      "  0.54581508 0.73210714 0.05810704 0.27315656 0.7155157  0.88243614\n",
      "  0.16721428 0.25283004 0.75263597 0.31478837 0.47776254 0.50289122\n",
      "  0.42580078 0.23235122 0.30300249 0.33100036 0.17314379 0.49523331\n",
      "  0.10379154 0.04909734 0.3150967  0.33243465]\n",
      " [0.65093252 0.16953342 0.29219422 0.98889762 0.19951807 0.63066707\n",
      "  0.79322282 0.077944   0.45602189 0.9763553  0.73113026 0.81741617\n",
      "  0.20186881 0.9826683  0.94594653 0.19384021 0.87863971 0.93005166\n",
      "  0.72162051 0.09071215 0.05176359 0.03059262 0.87404424 0.74431469\n",
      "  0.91326914 0.0436802  0.75016487 0.48708666]\n",
      " [0.25859302 0.79892791 0.96591688 0.31280687 0.17510546 0.27982171\n",
      "  0.1161242  0.48068283 0.32310993 0.84021705 0.47009979 0.97537178\n",
      "  0.86896485 0.00568559 0.81454826 0.37969303 0.2972289  0.14464892\n",
      "  0.37308579 0.67700052 0.85638754 0.63666753 0.83446757 0.86842016\n",
      "  0.66789028 0.94794301 0.44054602 0.81180119]\n",
      " [0.33491774 0.38840423 0.45850313 0.96258018 0.96125203 0.93245555\n",
      "  0.8027837  0.12589261 0.93206045 0.01590882 0.13138002 0.06396592\n",
      "  0.00529258 0.73387942 0.10504631 0.81965736 0.37788518 0.28345111\n",
      "  0.58736364 0.88743743 0.44984398 0.84228948 0.8043844  0.95592687\n",
      "  0.42947924 0.50483689 0.81043943 0.33134797]\n",
      " [0.52890827 0.53586797 0.34860119 0.6808572  0.37276234 0.30944121\n",
      "  0.64219567 0.67221434 0.06245868 0.79682863 0.59757154 0.5935334\n",
      "  0.54938116 0.06360563 0.36220238 0.13572772 0.62986811 0.12395644\n",
      "  0.07186651 0.65453604 0.8892915  0.81561877 0.82717263 0.41317798\n",
      "  0.18779577 0.08587307 0.33784798 0.29020025]\n",
      " [0.03019571 0.02731722 0.64960497 0.99355169 0.92570501 0.28586748\n",
      "  0.19797185 0.73860267 0.29913101 0.5676397  0.65216021 0.55772437\n",
      "  0.88907518 0.65279877 0.20055795 0.17393279 0.40399684 0.49217273\n",
      "  0.671958   0.44334818 0.01443632 0.18929016 0.41308532 0.49781546\n",
      "  0.23110108 0.91236018 0.38604039 0.12873485]\n",
      " [0.51132768 0.57220191 0.0450758  0.30029166 0.98375324 0.59945201\n",
      "  0.84553924 0.56034954 0.49776483 0.50605783 0.96131103 0.88937934\n",
      "  0.31573916 0.10467868 0.10393425 0.92820272 0.64204328 0.38424913\n",
      "  0.45586509 0.34585065 0.72232435 0.56889301 0.4204427  0.5276141\n",
      "  0.47318115 0.29735323 0.01919248 0.14694275]\n",
      " [0.07700203 0.21755444 0.83833427 0.84054191 0.66852346 0.83038094\n",
      "  0.89854355 0.04876701 0.34727635 0.90594609 0.11992376 0.32012141\n",
      "  0.19158582 0.02113249 0.51847095 0.29970178 0.01147089 0.85079796\n",
      "  0.12012513 0.60058637 0.53760304 0.04072072 0.60798941 0.55602861\n",
      "  0.81970452 0.26627131 0.85796901 0.20580629]\n",
      " [0.53185218 0.61000753 0.16773075 0.63529183 0.85125716 0.04650578\n",
      "  0.90543316 0.64696389 0.12863888 0.93924885 0.55942315 0.56047288\n",
      "  0.9232558  0.36474009 0.29824728 0.22738287 0.74851571 0.98701406\n",
      "  0.33490346 0.58910114 0.92979698 0.61425002 0.32991031 0.17971878\n",
      "  0.85072604 0.23150959 0.94186903 0.10606312]\n",
      " [0.05959247 0.28781059 0.50404754 0.04562102 0.26068119 0.3207652\n",
      "  0.97504041 0.80369376 0.44533713 0.08219019 0.50729033 0.08651172\n",
      "  0.64017936 0.83246979 0.78071066 0.94900029 0.84135984 0.92142047\n",
      "  0.07683917 0.40098619 0.25270692 0.2316935  0.98970923 0.31435532\n",
      "  0.27220075 0.12780652 0.44317592 0.13010154]\n",
      " [0.29340748 0.17489669 0.12166063 0.6893849  0.77172651 0.1488451\n",
      "  0.09336866 0.56279027 0.25753587 0.6286686  0.18280324 0.63786901\n",
      "  0.5157819  0.10723064 0.69470641 0.05379585 0.22506335 0.23345271\n",
      "  0.00380677 0.35364252 0.0749026  0.96864557 0.01571112 0.88394869\n",
      "  0.81832322 0.50154489 0.02965756 0.01207586]\n",
      " [0.51206035 0.01694007 0.03514968 0.11296689 0.24825754 0.63889923\n",
      "  0.4510755  0.362237   0.21231331 0.46616518 0.67362759 0.32251552\n",
      "  0.84844361 0.70576448 0.09589835 0.1333552  0.63715919 0.20393797\n",
      "  0.43869721 0.50961953 0.40255895 0.74650322 0.38420888 0.8812185\n",
      "  0.47783226 0.77692206 0.24208775 0.96301332]\n",
      " [0.39432554 0.19977137 0.63257701 0.66183958 0.57929888 0.98871379\n",
      "  0.33861935 0.81977305 0.00361761 0.95453707 0.18638279 0.27961926\n",
      "  0.51924899 0.02580109 0.62987185 0.07393309 0.10439821 0.15480075\n",
      "  0.08334982 0.03034607 0.26489845 0.81413315 0.85325354 0.22247657\n",
      "  0.08868993 0.93300995 0.91324748 0.37658549]\n",
      " [0.35277345 0.39924817 0.63110885 0.93653329 0.28079256 0.42247429\n",
      "  0.49045095 0.79388053 0.32479445 0.4746101  0.32174382 0.79819667\n",
      "  0.69432458 0.38075386 0.43713487 0.2181325  0.93751473 0.54280398\n",
      "  0.7273041  0.457501   0.71199478 0.60092886 0.0326637  0.02724046\n",
      "  0.1878159  0.40442671 0.6048139  0.27568838]]\n"
     ]
    },
    {
     "data": {
      "text/plain": [
       "<matplotlib.image.AxesImage at 0x7f7a09298390>"
      ]
     },
     "execution_count": 6,
     "metadata": {},
     "output_type": "execute_result"
    },
    {
     "data": {
      "image/png": "[encoded data removed]",
      "text/plain": [
       "<Figure size 432x288 with 1 Axes>"
      ]
     },
     "metadata": {},
     "output_type": "display_data"
    }
   ],
   "source": [
    "prediction = a.full_model.predict(X_train[0].reshape(1,784)).reshape(28,28)\n",
    "print(prediction)\n",
    "plt.imshow(prediction)"
   ]
  },
  {
   "cell_type": "code",
   "execution_count": 7,
   "metadata": {},
   "outputs": [
    {
     "name": "stderr",
     "output_type": "stream",
     "text": [
      "MSE 160.0744324532548:   0%|          | 5/10000 [00:03<2:09:37,  1.29it/s] "
     ]
    },
    {
     "ename": "KeyboardInterrupt",
     "evalue": "",
     "output_type": "error",
     "traceback": [
      "\u001b[0;31m---------------------------------------------------------------------------\u001b[0m",
      "\u001b[0;31mKeyboardInterrupt\u001b[0m                         Traceback (most recent call last)",
      "\u001b[0;32m<ipython-input-7-8fbf23257905>\u001b[0m in \u001b[0;36m<module>\u001b[0;34m()\u001b[0m\n\u001b[0;32m----> 1\u001b[0;31m \u001b[0ma\u001b[0m\u001b[0;34m.\u001b[0m\u001b[0mtrain\u001b[0m\u001b[0;34m(\u001b[0m\u001b[0mepochs\u001b[0m\u001b[0;34m=\u001b[0m\u001b[0;36m10000\u001b[0m\u001b[0;34m,\u001b[0m\u001b[0mlearning_rate\u001b[0m\u001b[0;34m=\u001b[0m\u001b[0;36m0.001\u001b[0m\u001b[0;34m,\u001b[0m\u001b[0mloss\u001b[0m\u001b[0;34m=\u001b[0m\u001b[0;34m\"mse\"\u001b[0m\u001b[0;34m)\u001b[0m\u001b[0;34m\u001b[0m\u001b[0m\n\u001b[0m",
      "\u001b[0;32m<ipython-input-4-544828c3f352>\u001b[0m in \u001b[0;36mtrain\u001b[0;34m(self, learning_rate, epochs, loss)\u001b[0m\n\u001b[1;32m     60\u001b[0m     \u001b[0;32mdef\u001b[0m \u001b[0mtrain\u001b[0m\u001b[0;34m(\u001b[0m\u001b[0mself\u001b[0m\u001b[0;34m,\u001b[0m\u001b[0mlearning_rate\u001b[0m\u001b[0;34m=\u001b[0m\u001b[0;36m0.0001\u001b[0m\u001b[0;34m,\u001b[0m\u001b[0mepochs\u001b[0m\u001b[0;34m=\u001b[0m\u001b[0;36m100\u001b[0m\u001b[0;34m,\u001b[0m\u001b[0mloss\u001b[0m\u001b[0;34m=\u001b[0m\u001b[0;34m\"mse\"\u001b[0m\u001b[0;34m)\u001b[0m\u001b[0;34m:\u001b[0m\u001b[0;34m\u001b[0m\u001b[0m\n\u001b[1;32m     61\u001b[0m \u001b[0;34m\u001b[0m\u001b[0m\n\u001b[0;32m---> 62\u001b[0;31m         \u001b[0mself\u001b[0m\u001b[0;34m.\u001b[0m\u001b[0mfull_model\u001b[0m\u001b[0;34m.\u001b[0m\u001b[0mfit\u001b[0m\u001b[0;34m(\u001b[0m\u001b[0mself\u001b[0m\u001b[0;34m.\u001b[0m\u001b[0mX\u001b[0m\u001b[0;34m,\u001b[0m\u001b[0mself\u001b[0m\u001b[0;34m.\u001b[0m\u001b[0mX\u001b[0m\u001b[0;34m,\u001b[0m\u001b[0mlr\u001b[0m\u001b[0;34m=\u001b[0m\u001b[0mlearning_rate\u001b[0m\u001b[0;34m,\u001b[0m\u001b[0mepochs\u001b[0m\u001b[0;34m=\u001b[0m\u001b[0mepochs\u001b[0m\u001b[0;34m,\u001b[0m\u001b[0mloss\u001b[0m\u001b[0;34m=\u001b[0m\u001b[0mloss\u001b[0m\u001b[0;34m)\u001b[0m\u001b[0;34m\u001b[0m\u001b[0m\n\u001b[0m\u001b[1;32m     63\u001b[0m         \u001b[0mself\u001b[0m\u001b[0;34m.\u001b[0m\u001b[0mfinalize_encoder_decoder\u001b[0m\u001b[0;34m(\u001b[0m\u001b[0;34m)\u001b[0m\u001b[0;34m\u001b[0m\u001b[0m\n\u001b[1;32m     64\u001b[0m \u001b[0;34m\u001b[0m\u001b[0m\n",
      "\u001b[0;32m~/BareBonesAI/Deep_Learning/DeepNeuralNetwork.py\u001b[0m in \u001b[0;36mfit\u001b[0;34m(self, X, y, optimizer, lr, epochs, batch_size, loss)\u001b[0m\n\u001b[1;32m     81\u001b[0m \u001b[0;34m\u001b[0m\u001b[0m\n\u001b[1;32m     82\u001b[0m         \u001b[0mself\u001b[0m\u001b[0;34m.\u001b[0m\u001b[0mloss\u001b[0m \u001b[0;34m=\u001b[0m \u001b[0mloss\u001b[0m\u001b[0;34m\u001b[0m\u001b[0m\n\u001b[0;32m---> 83\u001b[0;31m         \u001b[0moptimizer\u001b[0m\u001b[0;34m(\u001b[0m\u001b[0mself\u001b[0m\u001b[0;34m,\u001b[0m\u001b[0mX\u001b[0m\u001b[0;34m,\u001b[0m\u001b[0my\u001b[0m\u001b[0;34m,\u001b[0m\u001b[0mlearning_rate\u001b[0m\u001b[0;34m=\u001b[0m\u001b[0mlr\u001b[0m\u001b[0;34m,\u001b[0m\u001b[0mepochs\u001b[0m\u001b[0;34m=\u001b[0m\u001b[0mepochs\u001b[0m\u001b[0;34m,\u001b[0m\u001b[0mbatch_size\u001b[0m\u001b[0;34m=\u001b[0m\u001b[0mbatch_size\u001b[0m\u001b[0;34m,\u001b[0m\u001b[0mloss\u001b[0m\u001b[0;34m=\u001b[0m\u001b[0mloss\u001b[0m\u001b[0;34m)\u001b[0m\u001b[0;34m\u001b[0m\u001b[0m\n\u001b[0m\u001b[1;32m     84\u001b[0m \u001b[0;34m\u001b[0m\u001b[0m\n\u001b[1;32m     85\u001b[0m     \u001b[0;32mdef\u001b[0m \u001b[0mpredict\u001b[0m\u001b[0;34m(\u001b[0m\u001b[0mself\u001b[0m\u001b[0;34m,\u001b[0m\u001b[0mX\u001b[0m\u001b[0;34m)\u001b[0m\u001b[0;34m:\u001b[0m\u001b[0;34m\u001b[0m\u001b[0m\n",
      "\u001b[0;32m~/BareBonesAI/Deep_Learning/nn_optimization_methods.py\u001b[0m in \u001b[0;36mSGD\u001b[0;34m(dnn, X, y, learning_rate, epochs, batch_size, loss)\u001b[0m\n\u001b[1;32m     22\u001b[0m             \u001b[0mbatch_X\u001b[0m \u001b[0;34m=\u001b[0m \u001b[0mX\u001b[0m\u001b[0;34m[\u001b[0m\u001b[0mindices\u001b[0m\u001b[0;34m[\u001b[0m\u001b[0msample\u001b[0m\u001b[0;34m:\u001b[0m\u001b[0;34m(\u001b[0m\u001b[0msample\u001b[0m\u001b[0;34m+\u001b[0m\u001b[0mbatch_size\u001b[0m\u001b[0;34m)\u001b[0m\u001b[0;34m]\u001b[0m\u001b[0;34m]\u001b[0m\u001b[0;34m\u001b[0m\u001b[0m\n\u001b[1;32m     23\u001b[0m             \u001b[0mbatch_y\u001b[0m \u001b[0;34m=\u001b[0m \u001b[0my\u001b[0m\u001b[0;34m[\u001b[0m\u001b[0mindices\u001b[0m\u001b[0;34m[\u001b[0m\u001b[0msample\u001b[0m\u001b[0;34m:\u001b[0m\u001b[0;34m(\u001b[0m\u001b[0msample\u001b[0m\u001b[0;34m+\u001b[0m\u001b[0mbatch_size\u001b[0m\u001b[0;34m)\u001b[0m\u001b[0;34m]\u001b[0m\u001b[0;34m]\u001b[0m\u001b[0;34m\u001b[0m\u001b[0m\n\u001b[0;32m---> 24\u001b[0;31m             \u001b[0mbatch_h\u001b[0m \u001b[0;34m=\u001b[0m \u001b[0mdnn\u001b[0m\u001b[0;34m.\u001b[0m\u001b[0mforward\u001b[0m\u001b[0;34m(\u001b[0m\u001b[0mbatch_X\u001b[0m\u001b[0;34m)\u001b[0m\u001b[0;34m\u001b[0m\u001b[0m\n\u001b[0m\u001b[1;32m     25\u001b[0m             \u001b[0msample\u001b[0m \u001b[0;34m+=\u001b[0m \u001b[0mbatch_size\u001b[0m\u001b[0;34m\u001b[0m\u001b[0m\n\u001b[1;32m     26\u001b[0m             \u001b[0mgradients\u001b[0m \u001b[0;34m=\u001b[0m \u001b[0mdnn\u001b[0m\u001b[0;34m.\u001b[0m\u001b[0mbackward_pass\u001b[0m\u001b[0;34m(\u001b[0m\u001b[0mbatch_h\u001b[0m\u001b[0;34m,\u001b[0m\u001b[0mbatch_y\u001b[0m\u001b[0;34m)\u001b[0m\u001b[0;34m\u001b[0m\u001b[0m\n",
      "\u001b[0;32m~/BareBonesAI/Deep_Learning/DeepNeuralNetwork.py\u001b[0m in \u001b[0;36mforward\u001b[0;34m(self, inputs)\u001b[0m\n\u001b[1;32m     52\u001b[0m         \u001b[0;32mwhile\u001b[0m \u001b[0mnp\u001b[0m\u001b[0;34m.\u001b[0m\u001b[0mall\u001b[0m\u001b[0;34m(\u001b[0m\u001b[0mlayer\u001b[0m\u001b[0;34m.\u001b[0m\u001b[0mnext\u001b[0m \u001b[0;34m!=\u001b[0m \u001b[0;32mNone\u001b[0m\u001b[0;34m)\u001b[0m\u001b[0;34m:\u001b[0m\u001b[0;34m\u001b[0m\u001b[0m\n\u001b[1;32m     53\u001b[0m \u001b[0;34m\u001b[0m\u001b[0m\n\u001b[0;32m---> 54\u001b[0;31m             \u001b[0mlayer\u001b[0m\u001b[0;34m.\u001b[0m\u001b[0mforward\u001b[0m\u001b[0;34m(\u001b[0m\u001b[0;34m)\u001b[0m\u001b[0;34m\u001b[0m\u001b[0m\n\u001b[0m\u001b[1;32m     55\u001b[0m             \u001b[0mlayer\u001b[0m \u001b[0;34m=\u001b[0m \u001b[0mlayer\u001b[0m\u001b[0;34m.\u001b[0m\u001b[0mgetNext\u001b[0m\u001b[0;34m(\u001b[0m\u001b[0;34m)\u001b[0m\u001b[0;34m\u001b[0m\u001b[0m\n\u001b[1;32m     56\u001b[0m \u001b[0;34m\u001b[0m\u001b[0m\n",
      "\u001b[0;32m~/BareBonesAI/Deep_Learning/layers/Dense.py\u001b[0m in \u001b[0;36mforward\u001b[0;34m(self)\u001b[0m\n\u001b[1;32m     73\u001b[0m \u001b[0;34m\u001b[0m\u001b[0m\n\u001b[1;32m     74\u001b[0m         \u001b[0mlayer_mul\u001b[0m \u001b[0;34m=\u001b[0m \u001b[0mself\u001b[0m\u001b[0;34m.\u001b[0m\u001b[0mprevlayer\u001b[0m\u001b[0;34m.\u001b[0m\u001b[0mdot\u001b[0m\u001b[0;34m(\u001b[0m\u001b[0mself\u001b[0m\u001b[0;34m.\u001b[0m\u001b[0mweights\u001b[0m\u001b[0;34m[\u001b[0m\u001b[0;36m0\u001b[0m\u001b[0;34m]\u001b[0m\u001b[0;34m)\u001b[0m \u001b[0;34m+\u001b[0m \u001b[0mself\u001b[0m\u001b[0;34m.\u001b[0m\u001b[0mweights\u001b[0m\u001b[0;34m[\u001b[0m\u001b[0;36m1\u001b[0m\u001b[0;34m]\u001b[0m\u001b[0;34m\u001b[0m\u001b[0m\n\u001b[0;32m---> 75\u001b[0;31m         \u001b[0mself\u001b[0m\u001b[0;34m.\u001b[0m\u001b[0moutput\u001b[0m \u001b[0;34m=\u001b[0m \u001b[0mself\u001b[0m\u001b[0;34m.\u001b[0m\u001b[0mactivation\u001b[0m\u001b[0;34m(\u001b[0m\u001b[0mlayer_mul\u001b[0m\u001b[0;34m)\u001b[0m\u001b[0;34m\u001b[0m\u001b[0m\n\u001b[0m\u001b[1;32m     76\u001b[0m         \u001b[0mself\u001b[0m\u001b[0;34m.\u001b[0m\u001b[0mderiv\u001b[0m \u001b[0;34m=\u001b[0m \u001b[0mself\u001b[0m\u001b[0;34m.\u001b[0m\u001b[0mactivation\u001b[0m\u001b[0;34m(\u001b[0m\u001b[0mlayer_mul\u001b[0m\u001b[0;34m,\u001b[0m\u001b[0;32mTrue\u001b[0m\u001b[0;34m)\u001b[0m\u001b[0;34m\u001b[0m\u001b[0m\n\u001b[1;32m     77\u001b[0m \u001b[0;34m\u001b[0m\u001b[0m\n",
      "\u001b[0;32m~/BareBonesAI/tools/tools.py\u001b[0m in \u001b[0;36msigmoid\u001b[0;34m(x, derivative)\u001b[0m\n\u001b[1;32m     13\u001b[0m                 \u001b[0;32mreturn\u001b[0m \u001b[0;36m1\u001b[0m\u001b[0;34m/\u001b[0m\u001b[0;34m(\u001b[0m\u001b[0;36m1\u001b[0m\u001b[0;34m+\u001b[0m\u001b[0mnp\u001b[0m\u001b[0;34m.\u001b[0m\u001b[0me\u001b[0m\u001b[0;34m**\u001b[0m\u001b[0;34m-\u001b[0m\u001b[0;34m(\u001b[0m\u001b[0mx\u001b[0m\u001b[0;34m*\u001b[0m\u001b[0;36m1.0\u001b[0m\u001b[0;34m)\u001b[0m\u001b[0;34m)\u001b[0m\u001b[0;34m*\u001b[0m\u001b[0;34m(\u001b[0m\u001b[0;36m1\u001b[0m\u001b[0;34m-\u001b[0m\u001b[0;34m(\u001b[0m\u001b[0;36m1\u001b[0m\u001b[0;34m/\u001b[0m\u001b[0;34m(\u001b[0m\u001b[0;36m1\u001b[0m\u001b[0;34m+\u001b[0m\u001b[0mnp\u001b[0m\u001b[0;34m.\u001b[0m\u001b[0me\u001b[0m\u001b[0;34m**\u001b[0m\u001b[0;34m-\u001b[0m\u001b[0;34m(\u001b[0m\u001b[0mx\u001b[0m\u001b[0;34m*\u001b[0m\u001b[0;36m1.0\u001b[0m\u001b[0;34m)\u001b[0m\u001b[0;34m)\u001b[0m\u001b[0;34m)\u001b[0m\u001b[0;34m)\u001b[0m\u001b[0;34m\u001b[0m\u001b[0m\n\u001b[1;32m     14\u001b[0m         \u001b[0;32melse\u001b[0m\u001b[0;34m:\u001b[0m\u001b[0;34m\u001b[0m\u001b[0m\n\u001b[0;32m---> 15\u001b[0;31m                 \u001b[0;32mreturn\u001b[0m \u001b[0;36m1\u001b[0m\u001b[0;34m/\u001b[0m\u001b[0;34m(\u001b[0m\u001b[0;36m1\u001b[0m\u001b[0;34m+\u001b[0m\u001b[0mnp\u001b[0m\u001b[0;34m.\u001b[0m\u001b[0me\u001b[0m\u001b[0;34m**\u001b[0m\u001b[0;34m-\u001b[0m\u001b[0;34m(\u001b[0m\u001b[0mx\u001b[0m\u001b[0;34m*\u001b[0m\u001b[0;36m1.0\u001b[0m\u001b[0;34m)\u001b[0m\u001b[0;34m)\u001b[0m\u001b[0;34m\u001b[0m\u001b[0m\n\u001b[0m\u001b[1;32m     16\u001b[0m \u001b[0;34m\u001b[0m\u001b[0m\n\u001b[1;32m     17\u001b[0m \u001b[0;32mdef\u001b[0m \u001b[0msoftmax\u001b[0m\u001b[0;34m(\u001b[0m\u001b[0mx\u001b[0m\u001b[0;34m,\u001b[0m\u001b[0mderivative\u001b[0m\u001b[0;34m=\u001b[0m\u001b[0;32mFalse\u001b[0m\u001b[0;34m)\u001b[0m\u001b[0;34m:\u001b[0m\u001b[0;34m\u001b[0m\u001b[0m\n",
      "\u001b[0;31mKeyboardInterrupt\u001b[0m: "
     ]
    }
   ],
   "source": [
    "a.train(epochs=10000,learning_rate=0.001,loss=\"mse\")"
   ]
  },
  {
   "cell_type": "code",
   "execution_count": null,
   "metadata": {},
   "outputs": [],
   "source": [
    "a.decoder.forward(a.encoder.forward(X_train[0]))"
   ]
  },
  {
   "cell_type": "code",
   "execution_count": null,
   "metadata": {},
   "outputs": [],
   "source": [
    "a.predict(X_train[0])[2]"
   ]
  },
  {
   "cell_type": "code",
   "execution_count": null,
   "metadata": {},
   "outputs": [],
   "source": [
    "plt.imshow(a.predict(X_train[0])[2].reshape(28,28))"
   ]
  },
  {
   "cell_type": "code",
   "execution_count": null,
   "metadata": {},
   "outputs": [],
   "source": [
    "plt.imshow(X_train[0].reshape(28,28))"
   ]
  }
 ],
 "metadata": {
  "kernelspec": {
   "display_name": "Python [conda env:py36]",
   "language": "python",
   "name": "conda-env-py36-py"
  },
  "language_info": {
   "codemirror_mode": {
    "name": "ipython",
    "version": 3
   },
   "file_extension": ".py",
   "mimetype": "text/x-python",
   "name": "python",
   "nbconvert_exporter": "python",
   "pygments_lexer": "ipython3",
   "version": "3.6.5"
  }
 },
 "nbformat": 4,
 "nbformat_minor": 2
}
