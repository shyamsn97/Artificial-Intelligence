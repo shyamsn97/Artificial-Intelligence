{
 "cells": [
  {
   "cell_type": "code",
   "execution_count": 1,
   "metadata": {},
   "outputs": [
    {
     "name": "stderr",
     "output_type": "stream",
     "text": [
      "/home/shyam/anaconda3/envs/py36/lib/python3.6/site-packages/h5py/__init__.py:36: FutureWarning: Conversion of the second argument of issubdtype from `float` to `np.floating` is deprecated. In future, it will be treated as `np.float64 == np.dtype(float).type`.\n",
      "  from ._conv import register_converters as _register_converters\n",
      "Using TensorFlow backend.\n"
     ]
    }
   ],
   "source": [
    "import numpy as np\n",
    "import matplotlib.pyplot as plt\n",
    "from sklearn import datasets\n",
    "from keras.datasets import mnist\n",
    "import seaborn as sns\n",
    "import pandas as pd\n",
    "import sys\n",
    "from tqdm import tqdm\n",
    "sys.path.append('../Deep_Learning/')\n",
    "from DeepNeuralNetwork import DNN\n",
    "from nn_optimization_methods import SGD\n",
    "from layers.Dense import Dense\n",
    "from layers.Input import Input\n",
    "from layers.Softmax import Softmax\n",
    "sys.path.append('../tools/')\n",
    "import tools\n",
    "import copy\n",
    "\n",
    "%matplotlib inline"
   ]
  },
  {
   "cell_type": "markdown",
   "metadata": {},
   "source": [
    "# AutoEncoder Example using DNN"
   ]
  },
  {
   "cell_type": "markdown",
   "metadata": {},
   "source": [
    "## Demonstrated using mnist data"
   ]
  },
  {
   "cell_type": "code",
   "execution_count": 2,
   "metadata": {},
   "outputs": [],
   "source": [
    "(X_train_digits, y_train), (X_test_digits, y_test) = mnist.load_data()"
   ]
  },
  {
   "cell_type": "code",
   "execution_count": 3,
   "metadata": {},
   "outputs": [],
   "source": [
    "X_train = np.array(list(map(lambda x: x.flatten()/255,X_train_digits)))\n",
    "X_test = np.array(list(map(lambda x: x.flatten()/255,X_test_digits)))"
   ]
  },
  {
   "cell_type": "code",
   "execution_count": 4,
   "metadata": {},
   "outputs": [],
   "source": [
    "class AutoEncoder():\n",
    "    \"\"\"\n",
    "    An auto encoder is a semi supervised learning algorithm that attempts to reconstruct input using a smaller feature space\n",
    "    Parameters:\n",
    "        X: numpy array(): data matrix\n",
    "        encoder: DNN to reduce dimensions of matrix\n",
    "        decoder: DNN to recreate the original data from the encoded data\n",
    "        full_model: DNN that combines both the encoder and decoder objects, used to train both\n",
    "    \"\"\"\n",
    "    def __init__(self,X):\n",
    "        \n",
    "        self.X = X\n",
    "        self.encoder = None\n",
    "        self.decoder = None\n",
    "        self.full_model = DNN()\n",
    "        self.full_model.add(Input(X))\n",
    "        self.count = 0\n",
    "        \n",
    "    def create_encoder(self,layers=[Dense(16)],encoded_dims=2):\n",
    "        \n",
    "        self.count = 0\n",
    "        for layer in layers:\n",
    "            self.full_model.add(layer)\n",
    "            self.count += 1\n",
    "            \n",
    "        self.full_model.add(Dense(encoded_dims))\n",
    "        \n",
    "    def create_decoder(self,layers=[]):\n",
    "        \n",
    "        if len(layers) > 0:\n",
    "            for layer in layers:\n",
    "                self.full_model.add(layer)\n",
    "            \n",
    "        self.full_model.add(Dense(self.X.shape[-1]))\n",
    "    \n",
    "    def finalize_encoder_decoder(self):\n",
    "        \n",
    "        count = 0\n",
    "        layer = self.full_model.head.getNext()\n",
    "        self.encoder = DNN()\n",
    "        self.decoder = DNN()\n",
    "        self.encoder.add(Input(self.X))\n",
    "        \n",
    "        while layer != None:\n",
    "            print(layer)\n",
    "            if count <= self.count:\n",
    "                self.encoder.add(copy.deepcopy(layer))\n",
    "                if count == a.count:\n",
    "                    self.encoder.outlayer.next = None\n",
    "                    self.decoder.add(Input(self.encoder.outlayer.output))\n",
    "            else:\n",
    "                self.decoder.add(layer)\n",
    "            layer = layer.getNext()\n",
    "            count += 1\n",
    "            \n",
    "    def train(self,learning_rate=0.001,epochs=100):\n",
    "        \n",
    "        self.full_model.train(self.X,self.X,lr=learning_rate,epochs=epochs)\n",
    "        self.finalize_encoder_decoder()\n",
    "    \n",
    "    def predict(self,X):\n",
    "        \n",
    "        encoded = self.encoder.predict(X)\n",
    "        decoded = self.decoder.predict(encoded)\n",
    "        return encoded,decoded\n"
   ]
  },
  {
   "cell_type": "code",
   "execution_count": 5,
   "metadata": {},
   "outputs": [],
   "source": [
    "a = AutoEncoder(X_train[:250])\n",
    "a.create_encoder()\n",
    "a.create_decoder()"
   ]
  },
  {
   "cell_type": "code",
   "execution_count": 6,
   "metadata": {},
   "outputs": [
    {
     "name": "stdout",
     "output_type": "stream",
     "text": [
      "----------------------------- Model -----------------------------\n",
      "Input: shape: (None, 784)\n",
      "-----------------------------------------------------------------\n",
      "Dense: activation: sigmoid, weight shape: (784, 16), output shape: (None, 16), parameters: 12544\n",
      "-----------------------------------------------------------------\n",
      "Dense: activation: sigmoid, weight shape: (16, 2), output shape: (None, 2), parameters: 32\n",
      "-----------------------------------------------------------------\n",
      "Dense: activation: sigmoid, weight shape: (2, 784), output shape: (None, 784), parameters: 1568\n",
      "-----------------------------------------------------------------\n",
      "\n"
     ]
    }
   ],
   "source": [
    "print(a.full_model)"
   ]
  },
  {
   "cell_type": "code",
   "execution_count": 7,
   "metadata": {},
   "outputs": [
    {
     "name": "stderr",
     "output_type": "stream",
     "text": [
      "MSE 190.0758798537329: 100%|██████████| 1/1 [00:00<00:00,  1.37it/s]"
     ]
    },
    {
     "name": "stdout",
     "output_type": "stream",
     "text": [
      "Dense: activation: sigmoid, weight shape: (784, 16), output shape: (None, 16), parameters: 12544\n",
      "-----------------------------------------------------------------\n",
      "\n",
      "Dense: activation: sigmoid, weight shape: (16, 2), output shape: (None, 2), parameters: 32\n",
      "-----------------------------------------------------------------\n",
      "\n",
      "Dense: activation: sigmoid, weight shape: (2, 784), output shape: (None, 784), parameters: 1568\n",
      "-----------------------------------------------------------------\n",
      "\n"
     ]
    },
    {
     "name": "stderr",
     "output_type": "stream",
     "text": [
      "\n"
     ]
    }
   ],
   "source": [
    "a.train(epochs=1)"
   ]
  },
  {
   "cell_type": "code",
   "execution_count": 8,
   "metadata": {},
   "outputs": [
    {
     "name": "stdout",
     "output_type": "stream",
     "text": [
      "----------------------------- Model -----------------------------\n",
      "Input: shape: (None, 784)\n",
      "-----------------------------------------------------------------\n",
      "Dense: activation: sigmoid, weight shape: (784, 16), output shape: (None, 16), parameters: 12544\n",
      "-----------------------------------------------------------------\n",
      "Dense: activation: sigmoid, weight shape: (16, 2), output shape: (None, 2), parameters: 32\n",
      "-----------------------------------------------------------------\n",
      "\n"
     ]
    }
   ],
   "source": [
    "print(a.encoder)"
   ]
  },
  {
   "cell_type": "code",
   "execution_count": 9,
   "metadata": {},
   "outputs": [
    {
     "name": "stdout",
     "output_type": "stream",
     "text": [
      "----------------------------- Model -----------------------------\n",
      "Input: shape: (None, 2)\n",
      "-----------------------------------------------------------------\n",
      "Dense: activation: sigmoid, weight shape: (2, 784), output shape: (None, 784), parameters: 1568\n",
      "-----------------------------------------------------------------\n",
      "\n"
     ]
    }
   ],
   "source": [
    "print(a.decoder)"
   ]
  }
 ],
 "metadata": {
  "kernelspec": {
   "display_name": "Python [conda env:py36]",
   "language": "python",
   "name": "conda-env-py36-py"
  },
  "language_info": {
   "codemirror_mode": {
    "name": "ipython",
    "version": 3
   },
   "file_extension": ".py",
   "mimetype": "text/x-python",
   "name": "python",
   "nbconvert_exporter": "python",
   "pygments_lexer": "ipython3",
   "version": "3.6.5"
  }
 },
 "nbformat": 4,
 "nbformat_minor": 2
}
