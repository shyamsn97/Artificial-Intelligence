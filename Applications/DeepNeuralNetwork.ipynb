{
 "cells": [
  {
   "cell_type": "code",
   "execution_count": 1,
   "metadata": {},
   "outputs": [],
   "source": [
    "import numpy as np\n",
    "import matplotlib.pyplot as plt\n",
    "import seaborn as sns\n",
    "import pandas as pd\n",
    "import sys\n",
    "from tqdm import tqdm\n",
    "sys.path.append('../Deep Learning/')\n",
    "from nn_optimization_methods import SGD\n",
    "from layers.Dense import Dense\n",
    "from layers.Input import Input\n",
    "sys.path.append('../tools/')\n",
    "import tools\n",
    "\n",
    "%matplotlib inline"
   ]
  },
  {
   "cell_type": "markdown",
   "metadata": {},
   "source": [
    "## DNN from scratch"
   ]
  },
  {
   "cell_type": "markdown",
   "metadata": {},
   "source": [
    "approximate sin function from random values."
   ]
  },
  {
   "cell_type": "code",
   "execution_count": 2,
   "metadata": {},
   "outputs": [],
   "source": [
    "x = np.linspace(-10, 10, 1000)"
   ]
  },
  {
   "cell_type": "code",
   "execution_count": 3,
   "metadata": {},
   "outputs": [],
   "source": [
    "y = np.sin(x)**2"
   ]
  },
  {
   "cell_type": "code",
   "execution_count": 4,
   "metadata": {},
   "outputs": [],
   "source": [
    "df = pd.DataFrame({'x':x,'y':y})"
   ]
  },
  {
   "cell_type": "code",
   "execution_count": 18,
   "metadata": {},
   "outputs": [],
   "source": [
    "class DNN():\n",
    "    \n",
    "    \"\"\"\n",
    "    Deep Neural Network Template for regression and classification tasks\n",
    "    Parameters:\n",
    "        X: numpy array() data matrix\n",
    "        y: numpy array() response variables, must be numeric\n",
    "        output: numpy array() outputs\n",
    "        outlayer = output layer\n",
    "        head = input layer\n",
    "    \n",
    "    Use like sequential model from Keras:\n",
    "        Ex: add a dense layer with 200 neurons and a sigmoid activation function:\n",
    "                dnn.add(\"dense\",\"sigmoid\",20)\n",
    "    \"\"\"\n",
    "    def __init__(self,X,y):\n",
    "            \n",
    "        self.X = X\n",
    "        self.y = y\n",
    "        self.output = 0\n",
    "        self.outlayer = Input(self.X)\n",
    "        self.head = self.outlayer\n",
    "    \n",
    "    def add(self,layertype,activation,neurons):\n",
    "        \n",
    "        if layertype == \"dense\":\n",
    "                layer = Dense(self.outlayer,neurons,activation)\n",
    "                self.outlayer.setNext(layer)\n",
    "                self.outlayer = layer\n",
    "            \n",
    "    def foward(self,inputs=None):\n",
    "        \n",
    "        if np.all(inputs != None):\n",
    "            \n",
    "            self.head.update(inputs)\n",
    "            \n",
    "        layer = self.head\n",
    "        \n",
    "        while np.all(layer.next != None):\n",
    "            \n",
    "            layer.foward()\n",
    "            layer = layer.getNext()\n",
    "        \n",
    "        layer.foward()\n",
    "        return layer.output\n",
    "        \n",
    "    def backward_pass(self,predictions,y,loss=\"MSE\"):\n",
    "        \n",
    "        cache = 0\n",
    "        gradients = []\n",
    "        \n",
    "        if loss == \"MSE\":\n",
    "            \n",
    "            layer = self.outlayer\n",
    "            cache = np.array(np.sum(predictions - y))\n",
    "            derivative = layer.getPrev().dot(cache*(layer.deriv),True)\n",
    "            gradients.append(derivative)\n",
    "            layer = layer.getPrev()\n",
    "            \n",
    "            while np.all(layer.getPrev() != None):\n",
    "                cache = (cache.dot(layer.getNext().getWeights().T))*layer.deriv\n",
    "                gradients.append(layer.getPrev().dot(cache,True))\n",
    "                layer = layer.getPrev()\n",
    "            \n",
    "            return gradients[::-1]\n",
    "        \n",
    "    def train(self,X,y,optimizer=SGD,lr=0.0001,epochs=100,batch_size=1):\n",
    "        \n",
    "        optimizer(self,X,y,learning_rate=lr,epochs=epochs,batch_size=batch_size)\n",
    "        \n",
    "    def predict(self,X):\n",
    "        \n",
    "        return self.foward(X)\n",
    "        \n",
    "    def __str__(self):\n",
    "        \n",
    "        string = \"----------------------------- Model -----------------------------\" + '\\n'\n",
    "        layer = self.head\n",
    "        \n",
    "        while np.all(layer != None):\n",
    "            string += layer.__str__()\n",
    "            layer = layer.getNext()\n",
    "            \n",
    "        return string\n",
    "    "
   ]
  },
  {
   "cell_type": "code",
   "execution_count": 19,
   "metadata": {},
   "outputs": [
    {
     "name": "stdout",
     "output_type": "stream",
     "text": [
      "----------------------------- Model -----------------------------\n",
      "Input: shape: (None, 1)\n",
      "-----------------------------------------------------------------\n",
      "Dense: activation: sigmoid, weight shape: (1, 24), output shape: (None, 24), parameters: 24\n",
      "-----------------------------------------------------------------\n",
      "Dense: activation: sigmoid, weight shape: (24, 48), output shape: (None, 48), parameters: 1152\n",
      "-----------------------------------------------------------------\n",
      "Dense: activation: sigmoid, weight shape: (48, 16), output shape: (None, 16), parameters: 768\n",
      "-----------------------------------------------------------------\n",
      "Dense: activation: linear, weight shape: (16, 1), output shape: (None, 1), parameters: 16\n",
      "-----------------------------------------------------------------\n",
      "\n"
     ]
    }
   ],
   "source": [
    "x = x.reshape(x.shape[0],1)\n",
    "dnn = DNN(x,y)\n",
    "dnn.add(\"dense\",\"sigmoid\",24)\n",
    "dnn.add(\"dense\",\"sigmoid\",48)\n",
    "dnn.add(\"dense\",\"sigmoid\",16)\n",
    "dnn.add(\"dense\",\"linear\",1)\n",
    "print(dnn)"
   ]
  },
  {
   "cell_type": "code",
   "execution_count": null,
   "metadata": {
    "scrolled": true
   },
   "outputs": [
    {
     "name": "stderr",
     "output_type": "stream",
     "text": [
      "\n",
      "\n",
      "\n",
      "  0%|          | 0/2500 [00:00<?, ?it/s]\u001b[A\u001b[A\u001b[A\n",
      "\n",
      "\n",
      "  0%|          | 1/2500 [00:00<33:17,  1.25it/s]\u001b[A\u001b[A\u001b[A"
     ]
    },
    {
     "name": "stdout",
     "output_type": "stream",
     "text": [
      "MSE: 1.4606785737472456\n"
     ]
    },
    {
     "name": "stderr",
     "output_type": "stream",
     "text": [
      "\n",
      "\n",
      "\n",
      "  0%|          | 2/2500 [00:01<35:41,  1.17it/s]\u001b[A\u001b[A\u001b[A"
     ]
    },
    {
     "name": "stdout",
     "output_type": "stream",
     "text": [
      "MSE: 0.6478635514836445\n"
     ]
    },
    {
     "name": "stderr",
     "output_type": "stream",
     "text": [
      "\n",
      "\n",
      "\n",
      "  0%|          | 3/2500 [00:02<36:19,  1.15it/s]\u001b[A\u001b[A\u001b[A"
     ]
    },
    {
     "name": "stdout",
     "output_type": "stream",
     "text": [
      "MSE: 0.3461528958652822\n"
     ]
    }
   ],
   "source": [
    "dnn.train(x,y,lr=0.0001,epochs=2500)"
   ]
  },
  {
   "cell_type": "code",
   "execution_count": null,
   "metadata": {},
   "outputs": [],
   "source": [
    "predictions = dnn.predict(x)"
   ]
  },
  {
   "cell_type": "code",
   "execution_count": null,
   "metadata": {},
   "outputs": [],
   "source": [
    "predictions = predictions.reshape(predictions.shape[0],)"
   ]
  },
  {
   "cell_type": "code",
   "execution_count": null,
   "metadata": {},
   "outputs": [],
   "source": [
    "newd = pd.DataFrame({'x':df[\"x\"],'y':predictions})"
   ]
  },
  {
   "cell_type": "markdown",
   "metadata": {},
   "source": [
    "Predicted after 10000 epochs"
   ]
  },
  {
   "cell_type": "code",
   "execution_count": null,
   "metadata": {},
   "outputs": [],
   "source": [
    "sns.lmplot(x='x', y='y',data=newd,\n",
    "           fit_reg=False, # No regression line\n",
    "          )  "
   ]
  },
  {
   "cell_type": "markdown",
   "metadata": {},
   "source": [
    "Original sin wave"
   ]
  },
  {
   "cell_type": "code",
   "execution_count": null,
   "metadata": {},
   "outputs": [],
   "source": [
    "sns.lmplot(x='x', y='y',data=df,\n",
    "           fit_reg=False, # No regression line\n",
    "          )   "
   ]
  }
 ],
 "metadata": {
  "kernelspec": {
   "display_name": "Python [conda env:py36]",
   "language": "python",
   "name": "conda-env-py36-py"
  },
  "language_info": {
   "codemirror_mode": {
    "name": "ipython",
    "version": 3
   },
   "file_extension": ".py",
   "mimetype": "text/x-python",
   "name": "python",
   "nbconvert_exporter": "python",
   "pygments_lexer": "ipython3",
   "version": "3.6.5"
  }
 },
 "nbformat": 4,
 "nbformat_minor": 2
}
