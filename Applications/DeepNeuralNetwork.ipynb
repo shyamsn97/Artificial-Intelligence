{
 "cells": [
  {
   "cell_type": "code",
   "execution_count": 2,
   "metadata": {},
   "outputs": [],
   "source": [
    "import numpy as np\n",
    "import matplotlib.pyplot as plt\n",
    "import seaborn as sns\n",
    "import pandas as pd\n",
    "import sys\n",
    "from tqdm import tqdm\n",
    "sys.path.append('../Deep_Learning/')\n",
    "from nn_optimization_methods import SGD\n",
    "# from layers.Dense import Dense\n",
    "from layers.Input import Input\n",
    "sys.path.append('../tools/')\n",
    "import tools\n",
    "\n",
    "%matplotlib inline"
   ]
  },
  {
   "cell_type": "markdown",
   "metadata": {},
   "source": [
    "## DNN from scratch"
   ]
  },
  {
   "cell_type": "markdown",
   "metadata": {},
   "source": [
    "approximate sin function from random values."
   ]
  },
  {
   "cell_type": "code",
   "execution_count": 3,
   "metadata": {},
   "outputs": [],
   "source": [
    "x = np.linspace(-1, 1, 1000)"
   ]
  },
  {
   "cell_type": "code",
   "execution_count": 4,
   "metadata": {},
   "outputs": [],
   "source": [
    "y = np.sin(x)**2"
   ]
  },
  {
   "cell_type": "code",
   "execution_count": 5,
   "metadata": {},
   "outputs": [],
   "source": [
    "df = pd.DataFrame({'x':x,'y':y})"
   ]
  },
  {
   "cell_type": "code",
   "execution_count": 6,
   "metadata": {},
   "outputs": [],
   "source": [
    "class Dense():\n",
    "    \"\"\"\n",
    "    Dense Layer used for the DNN object\n",
    "    Parameters:\n",
    "        weights: numpy array() weight matrix\n",
    "        output: output of the layer\n",
    "        deriv: derivative of activation\n",
    "        activation_name: name of activation, used to print\n",
    "        activation: activation functions\n",
    "        shape: output shape\n",
    "        prevlayer: previous layer\n",
    "        next: next layer\n",
    "    \"\"\"\n",
    "    \n",
    "    def __init__(self,prevlayer,outputdims,activation=\"sigmoid\"):\n",
    "        \n",
    "        self.weights = [np.random.uniform(-1,1,size=(prevlayer.shape[1],outputdims)),np.random.uniform(-1,1,size=(1,outputdims))]\n",
    "        self.output = 0\n",
    "        self.deriv = 1\n",
    "        self.activation_name = activation\n",
    "        self.activation = None\n",
    "        self.print_shape = (None,outputdims)\n",
    "        self.shape = (prevlayer.shape[1],outputdims)\n",
    "        self.prevlayer = prevlayer\n",
    "        self.next = None\n",
    "        \n",
    "        if activation == \"sigmoid\":\n",
    "            self.activation = tools.sigmoid\n",
    "            \n",
    "        elif activation == \"linear\":\n",
    "            self.activation = self.linear\n",
    "        \n",
    "    def getWeights(self):\n",
    "        \n",
    "        return self.weights\n",
    "    \n",
    "    def setNext(self,layer):\n",
    "        \n",
    "        self.next = layer\n",
    "        \n",
    "    def getNext(self):\n",
    "        \n",
    "        return self.next\n",
    "    \n",
    "    def getPrev(self):\n",
    "        \n",
    "        return self.prevlayer\n",
    "        \n",
    "    def dot(self,X,t=False):\n",
    "        \n",
    "        if t == True:\n",
    "            return self.output.T.dot(X)\n",
    "        return self.output.dot(X)\n",
    "        \n",
    "    def foward(self):\n",
    "        \n",
    "        layer_mul = self.prevlayer.dot(self.weights[0]) + self.weights[1]\n",
    "        self.output = self.activation(layer_mul)\n",
    "        self.deriv = self.activation(layer_mul,True)\n",
    "    \n",
    "    def predict(self,X):\n",
    "        \n",
    "        return self.activation(X.dot(self.weights[0]) + self.weights[1])\n",
    "        \n",
    "    def update(self,X):\n",
    "\n",
    "        self.weights = X\n",
    "        \n",
    "    def linear(self,X,deriv=False):\n",
    "        \n",
    "        if deriv == True:\n",
    "            return 1\n",
    "        else:\n",
    "            return X\n",
    "        \n",
    "    def __repr__(self):\n",
    "        \n",
    "        string = \"Dense: \" + \"activation: \" + self.activation_name +  \", weight shape: \" + str(self.weights[0].shape) + \", output shape: \" + str(self.print_shape)\n",
    "        string = string + \", parameters: \" + str(self.weights[0].shape[0]*self.weights[0].shape[1])\n",
    "        string = string + '\\n' + \"-----------------------------------------------------------------\" + '\\n'\n",
    "        return string  \n",
    "    \n",
    "    def __str__(self):\n",
    "        \n",
    "        string = \"Dense: \" + \"activation: \" + self.activation_name +  \", weight shape: \" + str(self.weights[0].shape) + \", output shape: \" + str(self.print_shape)\n",
    "        string = string + \", parameters: \" + str(self.weights[0].shape[0]*self.weights[0].shape[1])\n",
    "        string = string + '\\n' + \"-----------------------------------------------------------------\" + '\\n'\n",
    "        return string  "
   ]
  },
  {
   "cell_type": "code",
   "execution_count": 7,
   "metadata": {},
   "outputs": [],
   "source": [
    "class DNN():\n",
    "    \n",
    "    \"\"\"\n",
    "    Deep Neural Network Template for regression and classification tasks\n",
    "    Parameters:\n",
    "        X: numpy array() data matrix\n",
    "        y: numpy array() response variables, must be numeric\n",
    "        output: numpy array() outputs\n",
    "        outlayer = output layer\n",
    "        head = input layer\n",
    "    \n",
    "    Use like sequential model from Keras:\n",
    "        Ex: add a dense layer with 200 neurons and a sigmoid activation function:\n",
    "                dnn.add(\"dense\",\"sigmoid\",200)\n",
    "    \"\"\"\n",
    "    def __init__(self,X,y):\n",
    "            \n",
    "        self.X = X\n",
    "        self.y = y\n",
    "        self.output = 0\n",
    "        self.outlayer = Input(self.X)\n",
    "        self.head = self.outlayer\n",
    "    \n",
    "    def add(self,layertype,activation,neurons):\n",
    "        \n",
    "        if layertype == \"dense\":\n",
    "                layer = Dense(self.outlayer,neurons,activation)\n",
    "                self.outlayer.setNext(layer)\n",
    "                self.outlayer = layer\n",
    "            \n",
    "    def foward(self,inputs=None):\n",
    "        \n",
    "        if np.all(inputs != None):\n",
    "            \n",
    "            self.head.update(inputs)\n",
    "            \n",
    "        layer = self.head\n",
    "        \n",
    "        while np.all(layer.next != None):\n",
    "            \n",
    "            layer.foward()\n",
    "            layer = layer.getNext()\n",
    "        \n",
    "        layer.foward()\n",
    "        return layer.output\n",
    "        \n",
    "    def backward_pass(self,predictions,y,loss=\"MSE\"):\n",
    "        \n",
    "        cache = 0\n",
    "        gradients = []\n",
    "        \n",
    "        if loss == \"MSE\":\n",
    "            \n",
    "            layer = self.outlayer\n",
    "            cache = np.array(np.sum(predictions - y))\n",
    "            w_derivative = layer.getPrev().dot(cache*(layer.deriv),True)\n",
    "            b_derivative = cache*(layer.deriv)\n",
    "            gradients.append([w_derivative,b_derivative])\n",
    "            layer = layer.getPrev()\n",
    "            while np.all(layer.getPrev() != None):\n",
    "                cache = (cache.dot(layer.getNext().getWeights()[0].T))*layer.deriv\n",
    "                w_derivative = layer.getPrev().dot(cache,True)\n",
    "                b_derivative = cache\n",
    "                gradients.append([w_derivative,b_derivative])\n",
    "                layer = layer.getPrev()\n",
    "            \n",
    "            return gradients[::-1]\n",
    "        \n",
    "    def train(self,X,y,optimizer=SGD,lr=0.0001,epochs=100,batch_size=1):\n",
    "        \n",
    "        optimizer(self,X,y,learning_rate=lr,epochs=epochs,batch_size=batch_size)\n",
    "        \n",
    "    def predict(self,X):\n",
    "        \n",
    "        return self.foward(X)\n",
    "        \n",
    "    def __str__(self):\n",
    "        \n",
    "        string = \"----------------------------- Model -----------------------------\" + '\\n'\n",
    "        layer = self.head\n",
    "        \n",
    "        while np.all(layer != None):\n",
    "            string += layer.__str__()\n",
    "            layer = layer.getNext()\n",
    "            \n",
    "        return string"
   ]
  },
  {
   "cell_type": "code",
   "execution_count": 8,
   "metadata": {},
   "outputs": [
    {
     "name": "stdout",
     "output_type": "stream",
     "text": [
      "----------------------------- Model -----------------------------\n",
      "Input: shape: (None, 1)\n",
      "-----------------------------------------------------------------\n",
      "Dense: activation: sigmoid, weight shape: (1, 24), output shape: (None, 24), parameters: 24\n",
      "-----------------------------------------------------------------\n",
      "Dense: activation: sigmoid, weight shape: (24, 48), output shape: (None, 48), parameters: 1152\n",
      "-----------------------------------------------------------------\n",
      "Dense: activation: sigmoid, weight shape: (48, 16), output shape: (None, 16), parameters: 768\n",
      "-----------------------------------------------------------------\n",
      "Dense: activation: linear, weight shape: (16, 1), output shape: (None, 1), parameters: 16\n",
      "-----------------------------------------------------------------\n",
      "\n"
     ]
    }
   ],
   "source": [
    "x = x.reshape(x.shape[0],1)\n",
    "dnn = DNN(x,y)\n",
    "dnn.add(\"dense\",\"sigmoid\",24)\n",
    "dnn.add(\"dense\",\"sigmoid\",48)\n",
    "dnn.add(\"dense\",\"sigmoid\",16)\n",
    "dnn.add(\"dense\",\"linear\",1)\n",
    "print(dnn)"
   ]
  },
  {
   "cell_type": "code",
   "execution_count": 9,
   "metadata": {},
   "outputs": [
    {
     "name": "stderr",
     "output_type": "stream",
     "text": [
      "MSE 2.1577826410476682e-05: 100%|██████████| 1000/1000 [12:18<00:00,  1.35it/s]\n"
     ]
    }
   ],
   "source": [
    "dnn.train(x,y,lr=0.001,epochs=1000)"
   ]
  },
  {
   "cell_type": "code",
   "execution_count": 10,
   "metadata": {},
   "outputs": [],
   "source": [
    "predictions = dnn.predict(x)"
   ]
  },
  {
   "cell_type": "code",
   "execution_count": 11,
   "metadata": {},
   "outputs": [],
   "source": [
    "predictions = predictions.reshape(predictions.shape[0],)"
   ]
  },
  {
   "cell_type": "code",
   "execution_count": 12,
   "metadata": {},
   "outputs": [],
   "source": [
    "newd = pd.DataFrame({'x':df[\"x\"],'y':predictions})"
   ]
  },
  {
   "cell_type": "code",
   "execution_count": 14,
   "metadata": {},
   "outputs": [
    {
     "data": {
      "text/plain": [
       "0     0.708073\n",
       "1     0.706251\n",
       "2     0.704426\n",
       "3     0.702597\n",
       "4     0.700765\n",
       "5     0.698930\n",
       "6     0.697092\n",
       "7     0.695250\n",
       "8     0.693406\n",
       "9     0.691558\n",
       "10    0.689707\n",
       "11    0.687854\n",
       "12    0.685997\n",
       "13    0.684137\n",
       "14    0.682274\n",
       "15    0.680408\n",
       "16    0.678540\n",
       "17    0.676668\n",
       "18    0.674794\n",
       "19    0.672917\n",
       "Name: y, dtype: float64"
      ]
     },
     "execution_count": 14,
     "metadata": {},
     "output_type": "execute_result"
    }
   ],
   "source": [
    "df[\"y\"][:20]"
   ]
  },
  {
   "cell_type": "code",
   "execution_count": 13,
   "metadata": {},
   "outputs": [
    {
     "data": {
      "text/plain": [
       "0     0.695653\n",
       "1     0.693988\n",
       "2     0.692320\n",
       "3     0.690649\n",
       "4     0.688974\n",
       "5     0.687297\n",
       "6     0.685617\n",
       "7     0.683934\n",
       "8     0.682247\n",
       "9     0.680558\n",
       "10    0.678866\n",
       "11    0.677170\n",
       "12    0.675472\n",
       "13    0.673771\n",
       "14    0.672067\n",
       "15    0.670360\n",
       "16    0.668650\n",
       "17    0.666937\n",
       "18    0.665221\n",
       "19    0.663502\n",
       "Name: y, dtype: float64"
      ]
     },
     "execution_count": 13,
     "metadata": {},
     "output_type": "execute_result"
    }
   ],
   "source": [
    "newd[\"y\"][:20]"
   ]
  },
  {
   "cell_type": "markdown",
   "metadata": {},
   "source": [
    "Predicted after 1000 epochs"
   ]
  },
  {
   "cell_type": "code",
   "execution_count": 15,
   "metadata": {},
   "outputs": [
    {
     "data": {
      "text/plain": [
       "<seaborn.axisgrid.FacetGrid at 0x7fd1aafac128>"
      ]
     },
     "execution_count": 15,
     "metadata": {},
     "output_type": "execute_result"
    },
    {
     "data": {
      "image/png": "[encoded data removed]",
      "text/plain": [
       "<Figure size 360x360 with 1 Axes>"
      ]
     },
     "metadata": {},
     "output_type": "display_data"
    }
   ],
   "source": [
    "sns.lmplot(x='x', y='y',data=newd,\n",
    "           fit_reg=False, # No regression line\n",
    "          )  "
   ]
  },
  {
   "cell_type": "markdown",
   "metadata": {},
   "source": [
    "Original sin wave"
   ]
  },
  {
   "cell_type": "code",
   "execution_count": 16,
   "metadata": {
    "scrolled": true
   },
   "outputs": [
    {
     "data": {
      "text/plain": [
       "<seaborn.axisgrid.FacetGrid at 0x7fd1a3fcd9b0>"
      ]
     },
     "execution_count": 16,
     "metadata": {},
     "output_type": "execute_result"
    },
    {
     "data": {
      "image/png": "[encoded data removed]",
      "text/plain": [
       "<Figure size 360x360 with 1 Axes>"
      ]
     },
     "metadata": {},
     "output_type": "display_data"
    }
   ],
   "source": [
    "sns.lmplot(x='x', y='y',data=df,\n",
    "           fit_reg=False, # No regression line\n",
    "          )   "
   ]
  }
 ],
 "metadata": {
  "kernelspec": {
   "display_name": "Python [conda env:py36]",
   "language": "python",
   "name": "conda-env-py36-py"
  },
  "language_info": {
   "codemirror_mode": {
    "name": "ipython",
    "version": 3
   },
   "file_extension": ".py",
   "mimetype": "text/x-python",
   "name": "python",
   "nbconvert_exporter": "python",
   "pygments_lexer": "ipython3",
   "version": "3.6.5"
  }
 },
 "nbformat": 4,
 "nbformat_minor": 2
}
