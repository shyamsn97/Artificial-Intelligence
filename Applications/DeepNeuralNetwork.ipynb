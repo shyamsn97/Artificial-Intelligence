{
 "cells": [
  {
   "cell_type": "code",
   "execution_count": 1,
   "metadata": {},
   "outputs": [],
   "source": [
    "import numpy as np\n",
    "import matplotlib.pyplot as plt\n",
    "from sklearn import datasets\n",
    "import seaborn as sns\n",
    "import pandas as pd\n",
    "import sys\n",
    "from tqdm import tqdm\n",
    "sys.path.append('../Deep_Learning/')\n",
    "from nn_optimization_methods import SGD\n",
    "from layers.Dense import Dense\n",
    "from layers.Input import Input\n",
    "from layers.Softmax import Softmax\n",
    "sys.path.append('../tools/')\n",
    "import tools\n",
    "\n",
    "%matplotlib inline"
   ]
  },
  {
   "cell_type": "markdown",
   "metadata": {},
   "source": [
    "# DeepNeuralNetwork "
   ]
  },
  {
   "cell_type": "markdown",
   "metadata": {},
   "source": [
    "## Regression"
   ]
  },
  {
   "cell_type": "markdown",
   "metadata": {},
   "source": [
    "### approximate sin function from random values."
   ]
  },
  {
   "cell_type": "code",
   "execution_count": 2,
   "metadata": {},
   "outputs": [],
   "source": [
    "x = np.linspace(-1, 1, 1000)"
   ]
  },
  {
   "cell_type": "code",
   "execution_count": 3,
   "metadata": {},
   "outputs": [],
   "source": [
    "y = np.sin(x)**2"
   ]
  },
  {
   "cell_type": "code",
   "execution_count": 4,
   "metadata": {},
   "outputs": [],
   "source": [
    "df = pd.DataFrame({'x':x,'y':y})"
   ]
  },
  {
   "cell_type": "code",
   "execution_count": 5,
   "metadata": {},
   "outputs": [],
   "source": [
    "class DNN():\n",
    "    \"\"\"\n",
    "    Deep Neural Network Template for regression and classification tasks\n",
    "    Parameters:\n",
    "        X: numpy array() data matrix\n",
    "        y: numpy array() response variables, must be numeric\n",
    "        output: numpy array() outputs\n",
    "        outlayer: output layer\n",
    "        head: input layer\n",
    "        loss: loss function str\n",
    "    \n",
    "    Use like sequential model from Keras:\n",
    "        Ex: add a dense layer with 200 neurons and a sigmoid activation function:\n",
    "                dnn.add(\"dense\",\"sigmoid\",200)\n",
    "    \"\"\"\n",
    "    def __init__(self,X,y):\n",
    "            \n",
    "        self.X = X\n",
    "        self.y = y\n",
    "        self.output = 0\n",
    "        self.outlayer = Input(self.X)\n",
    "        self.head = self.outlayer\n",
    "        self.loss = \"MSE\"\n",
    "    \n",
    "    def add(self,layertype,neurons,activation=\"sigmoid\"):\n",
    "        \n",
    "        if layertype == \"dense\":\n",
    "                layer = Dense(self.outlayer,neurons,activation)\n",
    "                self.outlayer.setNext(layer)\n",
    "                self.outlayer = layer\n",
    "        elif layertype == \"softmax\":\n",
    "            layer = Softmax(self.outlayer,neurons)\n",
    "            self.outlayer.setNext(layer)\n",
    "            self.outlayer = layer\n",
    "            \n",
    "    def forward(self,inputs=None):\n",
    "        \n",
    "        if np.all(inputs != None):\n",
    "            \n",
    "            self.head.update(inputs)\n",
    "            \n",
    "        layer = self.head\n",
    "        \n",
    "        while np.all(layer.next != None):\n",
    "            \n",
    "            layer.forward()\n",
    "            layer = layer.getNext()\n",
    "        \n",
    "        layer.forward()\n",
    "        return layer.output\n",
    "        \n",
    "    def backward_pass(self,predictions,y):\n",
    "        \n",
    "        cache = 0\n",
    "        gradients = []\n",
    "                    \n",
    "        layer = self.outlayer\n",
    "        cache = np.array((predictions - y))\n",
    "        w_derivative = layer.getPrev().dot(cache*(layer.deriv),True)\n",
    "        b_derivative = cache*(layer.deriv)\n",
    "        gradients.append([w_derivative,b_derivative])\n",
    "        layer = layer.getPrev()\n",
    "        while np.all(layer.getPrev() != None):\n",
    "            cache = (cache.dot(layer.getNext().getWeights()[0].T))*layer.deriv\n",
    "            w_derivative = layer.getPrev().dot(cache,True)\n",
    "            b_derivative = cache\n",
    "            gradients.append([w_derivative,b_derivative])\n",
    "            layer = layer.getPrev()\n",
    "\n",
    "        return gradients[::-1]\n",
    "        \n",
    "    def train(self,X,y,optimizer=SGD,lr=0.0001,epochs=100,batch_size=1,loss=\"mse\"):\n",
    "        self.loss = loss\n",
    "        optimizer(self,X,y,learning_rate=lr,epochs=epochs,batch_size=batch_size,loss=loss)\n",
    "        \n",
    "    def predict(self,X):\n",
    "        if self.loss == \"cross_entropy\":\n",
    "            return np.argmax(self.forward(X),axis=1)\n",
    "        return self.forward(X)\n",
    "        \n",
    "    def __str__(self):\n",
    "        \n",
    "        string = \"----------------------------- Model -----------------------------\" + '\\n'\n",
    "        layer = self.head\n",
    "        \n",
    "        while np.all(layer != None):\n",
    "            string += layer.__str__()\n",
    "            layer = layer.getNext()\n",
    "            \n",
    "        return string"
   ]
  },
  {
   "cell_type": "code",
   "execution_count": 6,
   "metadata": {
    "scrolled": true
   },
   "outputs": [
    {
     "name": "stdout",
     "output_type": "stream",
     "text": [
      "----------------------------- Model -----------------------------\n",
      "Input: shape: (None, 1)\n",
      "-----------------------------------------------------------------\n",
      "Dense: activation: sigmoid, weight shape: (1, 24), output shape: (None, 24), parameters: 24\n",
      "-----------------------------------------------------------------\n",
      "Dense: activation: sigmoid, weight shape: (24, 48), output shape: (None, 48), parameters: 1152\n",
      "-----------------------------------------------------------------\n",
      "Dense: activation: sigmoid, weight shape: (48, 16), output shape: (None, 16), parameters: 768\n",
      "-----------------------------------------------------------------\n",
      "Dense: activation: linear, weight shape: (16, 1), output shape: (None, 1), parameters: 16\n",
      "-----------------------------------------------------------------\n",
      "\n"
     ]
    }
   ],
   "source": [
    "x = x.reshape(x.shape[0],1)\n",
    "dnn = DNN(x,y)\n",
    "dnn.add(\"dense\",24,\"sigmoid\")\n",
    "dnn.add(\"dense\",48,\"sigmoid\")\n",
    "dnn.add(\"dense\",16,\"sigmoid\")\n",
    "dnn.add(\"dense\",1,\"linear\")\n",
    "print(dnn)"
   ]
  },
  {
   "cell_type": "code",
   "execution_count": 7,
   "metadata": {},
   "outputs": [
    {
     "name": "stderr",
     "output_type": "stream",
     "text": [
      "MSE 99.5158454361394: 100%|██████████| 1000/1000 [12:23<00:00,  1.34it/s] \n"
     ]
    }
   ],
   "source": [
    "dnn.train(x,y,lr=0.001,epochs=1000)"
   ]
  },
  {
   "cell_type": "code",
   "execution_count": 8,
   "metadata": {},
   "outputs": [],
   "source": [
    "predictions = dnn.predict(x)"
   ]
  },
  {
   "cell_type": "code",
   "execution_count": 9,
   "metadata": {},
   "outputs": [],
   "source": [
    "predictions = predictions.reshape(predictions.shape[0],)"
   ]
  },
  {
   "cell_type": "code",
   "execution_count": 10,
   "metadata": {},
   "outputs": [],
   "source": [
    "newd = pd.DataFrame({'x':df[\"x\"],'y':predictions})"
   ]
  },
  {
   "cell_type": "code",
   "execution_count": 11,
   "metadata": {},
   "outputs": [
    {
     "data": {
      "text/plain": [
       "0     0.708073\n",
       "1     0.706251\n",
       "2     0.704426\n",
       "3     0.702597\n",
       "4     0.700765\n",
       "5     0.698930\n",
       "6     0.697092\n",
       "7     0.695250\n",
       "8     0.693406\n",
       "9     0.691558\n",
       "10    0.689707\n",
       "11    0.687854\n",
       "12    0.685997\n",
       "13    0.684137\n",
       "14    0.682274\n",
       "15    0.680408\n",
       "16    0.678540\n",
       "17    0.676668\n",
       "18    0.674794\n",
       "19    0.672917\n",
       "Name: y, dtype: float64"
      ]
     },
     "execution_count": 11,
     "metadata": {},
     "output_type": "execute_result"
    }
   ],
   "source": [
    "df[\"y\"][:20]"
   ]
  },
  {
   "cell_type": "code",
   "execution_count": 12,
   "metadata": {},
   "outputs": [
    {
     "data": {
      "text/plain": [
       "0     0.710144\n",
       "1     0.708197\n",
       "2     0.706249\n",
       "3     0.704300\n",
       "4     0.702349\n",
       "5     0.700398\n",
       "6     0.698445\n",
       "7     0.696492\n",
       "8     0.694537\n",
       "9     0.692581\n",
       "10    0.690624\n",
       "11    0.688666\n",
       "12    0.686707\n",
       "13    0.684747\n",
       "14    0.682786\n",
       "15    0.680824\n",
       "16    0.678861\n",
       "17    0.676897\n",
       "18    0.674932\n",
       "19    0.672966\n",
       "Name: y, dtype: float64"
      ]
     },
     "execution_count": 12,
     "metadata": {},
     "output_type": "execute_result"
    }
   ],
   "source": [
    "newd[\"y\"][:20]"
   ]
  },
  {
   "cell_type": "markdown",
   "metadata": {},
   "source": [
    "Predicted after 1000 epochs"
   ]
  },
  {
   "cell_type": "code",
   "execution_count": 13,
   "metadata": {},
   "outputs": [
    {
     "data": {
      "text/plain": [
       "<seaborn.axisgrid.FacetGrid at 0x7f83a41ca390>"
      ]
     },
     "execution_count": 13,
     "metadata": {},
     "output_type": "execute_result"
    },
    {
     "data": {
      "image/png": "[encoded data removed]",
      "text/plain": [
       "<Figure size 360x360 with 1 Axes>"
      ]
     },
     "metadata": {},
     "output_type": "display_data"
    }
   ],
   "source": [
    "sns.lmplot(x='x', y='y',data=newd,\n",
    "           fit_reg=False, # No regression line\n",
    "          )  "
   ]
  },
  {
   "cell_type": "markdown",
   "metadata": {},
   "source": [
    "Original sin wave"
   ]
  },
  {
   "cell_type": "code",
   "execution_count": 14,
   "metadata": {
    "scrolled": true
   },
   "outputs": [
    {
     "data": {
      "text/plain": [
       "<seaborn.axisgrid.FacetGrid at 0x7f83a41afe48>"
      ]
     },
     "execution_count": 14,
     "metadata": {},
     "output_type": "execute_result"
    },
    {
     "data": {
      "image/png": "[encoded data removed]",
      "text/plain": [
       "<Figure size 360x360 with 1 Axes>"
      ]
     },
     "metadata": {},
     "output_type": "display_data"
    }
   ],
   "source": [
    "sns.lmplot(x='x', y='y',data=df,\n",
    "           fit_reg=False, # No regression line\n",
    "          )   "
   ]
  },
  {
   "cell_type": "markdown",
   "metadata": {},
   "source": [
    "## Classification"
   ]
  },
  {
   "cell_type": "code",
   "execution_count": 15,
   "metadata": {},
   "outputs": [],
   "source": [
    "iris = datasets.load_iris()\n",
    "X = iris.data\n",
    "y = iris.target\n",
    "indices = np.arange(y.shape[0])\n",
    "np.random.shuffle(indices)"
   ]
  },
  {
   "cell_type": "code",
   "execution_count": 16,
   "metadata": {},
   "outputs": [],
   "source": [
    "X = X[indices]\n",
    "y = y[indices]\n",
    "X_train, X_test, y_train, y_test = tools.cross_val_split_set(X,0.1,y)\n",
    "y_train = np.array(pd.get_dummies(y_train))"
   ]
  },
  {
   "cell_type": "code",
   "execution_count": 17,
   "metadata": {},
   "outputs": [
    {
     "name": "stdout",
     "output_type": "stream",
     "text": [
      "----------------------------- Model -----------------------------\n",
      "Input: shape: (None, 4)\n",
      "-----------------------------------------------------------------\n",
      "Dense: activation: sigmoid, weight shape: (4, 24), output shape: (None, 24), parameters: 96\n",
      "-----------------------------------------------------------------\n",
      "Dense: activation: sigmoid, weight shape: (24, 48), output shape: (None, 48), parameters: 1152\n",
      "-----------------------------------------------------------------\n",
      "Dense: activation: sigmoid, weight shape: (48, 16), output shape: (None, 16), parameters: 768\n",
      "-----------------------------------------------------------------\n",
      "Softmax: activation: softmax, weight shape: (16, 3), output shape: (None, 3), parameters: 48\n",
      "-----------------------------------------------------------------\n",
      "\n"
     ]
    }
   ],
   "source": [
    "dnn = DNN(X_train,y_train)\n",
    "dnn.add(\"dense\",24,\"sigmoid\")\n",
    "dnn.add(\"dense\",48,\"sigmoid\")\n",
    "dnn.add(\"dense\",16,\"sigmoid\")\n",
    "dnn.add(\"softmax\",3)\n",
    "print(dnn)"
   ]
  },
  {
   "cell_type": "code",
   "execution_count": 18,
   "metadata": {},
   "outputs": [
    {
     "name": "stderr",
     "output_type": "stream",
     "text": [
      "Cross Entropy 0.17734656291408363: 100%|██████████| 1000/1000 [02:53<00:00,  5.75it/s]\n"
     ]
    }
   ],
   "source": [
    "dnn.train(X_train,y_train,lr=0.001,epochs=1000,loss=\"cross_entropy\")"
   ]
  },
  {
   "cell_type": "markdown",
   "metadata": {},
   "source": [
    "#### Train Acc"
   ]
  },
  {
   "cell_type": "code",
   "execution_count": 19,
   "metadata": {},
   "outputs": [
    {
     "data": {
      "text/plain": [
       "0.9777777777777777"
      ]
     },
     "execution_count": 19,
     "metadata": {},
     "output_type": "execute_result"
    }
   ],
   "source": [
    "tools.calc_accuracy(dnn.predict(X_train),y_train)"
   ]
  },
  {
   "cell_type": "markdown",
   "metadata": {},
   "source": [
    "#### Test Acc"
   ]
  },
  {
   "cell_type": "code",
   "execution_count": 20,
   "metadata": {},
   "outputs": [
    {
     "data": {
      "text/plain": [
       "1.0"
      ]
     },
     "execution_count": 20,
     "metadata": {},
     "output_type": "execute_result"
    }
   ],
   "source": [
    "tools.calc_accuracy(dnn.predict(X_test),y_test)"
   ]
  }
 ],
 "metadata": {
  "kernelspec": {
   "display_name": "Python [conda env:py36]",
   "language": "python",
   "name": "conda-env-py36-py"
  },
  "language_info": {
   "codemirror_mode": {
    "name": "ipython",
    "version": 3
   },
   "file_extension": ".py",
   "mimetype": "text/x-python",
   "name": "python",
   "nbconvert_exporter": "python",
   "pygments_lexer": "ipython3",
   "version": "3.6.5"
  }
 },
 "nbformat": 4,
 "nbformat_minor": 2
}
