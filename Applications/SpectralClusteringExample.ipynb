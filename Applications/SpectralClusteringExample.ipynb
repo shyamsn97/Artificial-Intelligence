{
 "cells": [
  {
   "cell_type": "code",
   "execution_count": 1,
   "metadata": {},
   "outputs": [
    {
     "name": "stderr",
     "output_type": "stream",
     "text": [
      "/home/shyam/anaconda3/envs/py36/lib/python3.6/site-packages/sklearn/cross_validation.py:41: DeprecationWarning: This module was deprecated in version 0.18 in favor of the model_selection module into which all the refactored classes and functions are moved. Also note that the interface of the new CV iterators are different from that of this module. This module will be removed in 0.20.\n",
      "  \"This module will be removed in 0.20.\", DeprecationWarning)\n"
     ]
    }
   ],
   "source": [
    "import numpy as np\n",
    "import pandas as pd\n",
    "import matplotlib.pyplot as plt\n",
    "import seaborn as sns\n",
    "from sklearn import datasets\n",
    "from sklearn.cluster import KMeans\n",
    "from sklearn.linear_model import LogisticRegression\n",
    "from sklearn import cross_validation, metrics\n",
    "import sys\n",
    "sys.path.append('../tools')\n",
    "import tools\n",
    "sys.path.append('../Unsupervised_Learning/')\n",
    "from KMeans_Medians import KMeans_Medians\n",
    "%matplotlib inline"
   ]
  },
  {
   "cell_type": "markdown",
   "metadata": {},
   "source": [
    "# Spectral Clustering"
   ]
  },
  {
   "cell_type": "code",
   "execution_count": 2,
   "metadata": {},
   "outputs": [],
   "source": [
    "iris = datasets.load_iris()"
   ]
  },
  {
   "cell_type": "code",
   "execution_count": 3,
   "metadata": {},
   "outputs": [],
   "source": [
    "def split_set(X,portion,y=None):\n",
    "    X = np.array(X)\n",
    "    y = np.array(y)\n",
    "    size = int(X.shape[0]*portion)\n",
    "    indexlist = np.arange(X.shape[0])\n",
    "    testinds = np.random.choice(indexlist, size, replace=False)\n",
    "    traininds = np.array([x for x in range(X.shape[0]) if x not in testinds])  \n",
    "    if np.all(y == None):\n",
    "        return X[traininds],X[testinds]\n",
    "    else:\n",
    "        return X[traininds],X[testinds],y[traininds],y[testinds]"
   ]
  },
  {
   "cell_type": "code",
   "execution_count": 4,
   "metadata": {},
   "outputs": [],
   "source": [
    "X = iris.data\n",
    "y = iris.target\n",
    "X_train, X_test, y_train, y_test = split_set(X,0.1,y)"
   ]
  },
  {
   "cell_type": "code",
   "execution_count": 5,
   "metadata": {},
   "outputs": [],
   "source": [
    "def l2distance(X,y):\n",
    "    '''\n",
    "\t   gets euclidian distance between vector X and matrix(or vector) y\n",
    "    '''\n",
    "    ones = np.ones(y.shape[0]).reshape(y.shape[0],1)\n",
    "    X = ones.dot(X)\n",
    "    dist = (y - X)**2\n",
    "    dist = np.sqrt(np.sum(dist,axis=1))\n",
    "\n",
    "    return dist"
   ]
  },
  {
   "cell_type": "code",
   "execution_count": 6,
   "metadata": {},
   "outputs": [
    {
     "data": {
      "text/plain": [
       "array([0.53851648, 0.        , 0.33166248, 0.60827625, 1.09087121,\n",
       "       0.50990195, 0.42426407, 0.50990195, 0.17320508, 0.45825757,\n",
       "       0.14142136, 0.678233  , 1.36014705, 1.62788206, 1.05356538,\n",
       "       0.54772256, 1.17473401, 0.76157731, 0.55677644, 0.64807407,\n",
       "       0.2236068 , 0.5       , 0.59160798, 0.5       , 0.34641016,\n",
       "       0.24494897, 0.678233  , 1.14891253, 1.34164079, 0.17320508,\n",
       "       0.78740079, 0.17320508, 0.50990195, 0.52915026, 0.81853528,\n",
       "       0.54772256, 0.678233  , 0.14142136, 0.84852814, 0.36055513,\n",
       "       0.81240384, 0.31622777, 4.09633983, 4.23674403, 2.96984848,\n",
       "       3.39116499, 3.86005181, 2.14709106, 3.78813938, 2.80535203,\n",
       "       2.46170673, 3.24499615, 3.04138127, 3.71214224, 2.55929678,\n",
       "       3.7       , 3.43365694, 2.97153159, 3.69188299, 2.79284801,\n",
       "       3.89358447, 3.07408523, 4.01870626, 3.65650106, 3.44673759,\n",
       "       3.65102725, 4.08044115, 4.29534632, 3.5383612 , 2.41867732,\n",
       "       2.7       , 2.57875939, 2.85482048, 4.11703777, 3.59722115,\n",
       "       3.97869325, 3.55808937, 2.99833287, 2.9291637 , 3.24345495,\n",
       "       3.62215406, 2.95465734, 2.17944947, 3.10322413, 3.07896086,\n",
       "       3.1144823 , 3.36452077, 1.91311265, 3.02985148, 5.33853913,\n",
       "       4.18090899, 5.35723809, 4.70850295, 5.09116882, 6.15954544,\n",
       "       3.47994253, 5.68682688, 5.04083326, 5.74717322, 4.41927596,\n",
       "       4.52106182, 4.90204039, 4.40227214, 4.6808119 , 4.68294779,\n",
       "       6.36945838, 6.53146232, 4.0620192 , 5.19037571, 4.00249922,\n",
       "       4.10609303, 5.04281667, 5.38980519, 3.98120585, 4.85180379,\n",
       "       5.15848815, 5.59195851, 6.15467302, 4.89182992, 4.16893272,\n",
       "       4.5475268 , 5.86003413, 4.95983871, 4.65080638, 3.91535439,\n",
       "       4.86004115, 5.07247474, 4.70212718, 4.18090899, 5.20672642,\n",
       "       4.7       , 4.24970587, 4.49888875, 4.71805044, 4.15331193])"
      ]
     },
     "execution_count": 6,
     "metadata": {},
     "output_type": "execute_result"
    }
   ],
   "source": [
    "l2distance(X_train[1].reshape(1,4),X_train)"
   ]
  },
  {
   "cell_type": "code",
   "execution_count": 7,
   "metadata": {},
   "outputs": [],
   "source": [
    "f = KMeans_Medians(X)"
   ]
  },
  {
   "cell_type": "code",
   "execution_count": 8,
   "metadata": {},
   "outputs": [
    {
     "name": "stderr",
     "output_type": "stream",
     "text": [
      "/home/shyam/anaconda3/envs/py36/lib/python3.6/site-packages/numpy/core/fromnumeric.py:2957: RuntimeWarning: Mean of empty slice.\n",
      "  out=out, **kwargs)\n",
      "/home/shyam/anaconda3/envs/py36/lib/python3.6/site-packages/numpy/core/_methods.py:73: RuntimeWarning: invalid value encountered in true_divide\n",
      "  ret, rcount, out=ret, casting='unsafe', subok=False)\n"
     ]
    },
    {
     "data": {
      "text/plain": [
       "array([1., 1., 1., 1., 1., 1., 1., 1., 1., 1., 1., 1., 1., 1., 1., 1., 1.,\n",
       "       1., 1., 1., 1., 1., 1., 1., 1., 1., 1., 1., 1., 1., 1., 1., 1., 1.,\n",
       "       1., 1., 1., 1., 1., 1., 1., 1., 1., 1., 1., 1., 1., 1., 1., 1., 0.,\n",
       "       0., 0., 0., 0., 0., 0., 1., 0., 0., 0., 0., 0., 0., 0., 0., 0., 0.,\n",
       "       0., 0., 0., 0., 0., 0., 0., 0., 0., 0., 0., 0., 0., 0., 0., 0., 0.,\n",
       "       0., 0., 0., 0., 0., 0., 0., 0., 1., 0., 0., 0., 0., 1., 0., 0., 0.,\n",
       "       0., 0., 0., 0., 0., 0., 0., 0., 0., 0., 0., 0., 0., 0., 0., 0., 0.,\n",
       "       0., 0., 0., 0., 0., 0., 0., 0., 0., 0., 0., 0., 0., 0., 0., 0., 0.,\n",
       "       0., 0., 0., 0., 0., 0., 0., 0., 0., 0., 0., 0., 0., 0.])"
      ]
     },
     "execution_count": 8,
     "metadata": {},
     "output_type": "execute_result"
    }
   ],
   "source": [
    "f.predict(2)"
   ]
  },
  {
   "cell_type": "code",
   "execution_count": 9,
   "metadata": {},
   "outputs": [],
   "source": [
    "def generate_similarity_matrix(X,sim_type='l2'):\n",
    "    \n",
    "    n = X.shape[0]\n",
    "    p = X.shape[1]\n",
    "    \n",
    "    newmatrix = np.zeros((n,n))\n",
    "    if sim_type == 'l2':\n",
    "        for i in range(n):\n",
    "            newmatrix[i] = (l2distance(X[i].reshape(1,p),X)).reshape(1,n)\n",
    "        return newmatrix\n",
    "    else:\n",
    "        print(\"Please provide a distance measure\")    "
   ]
  },
  {
   "cell_type": "code",
   "execution_count": 10,
   "metadata": {},
   "outputs": [
    {
     "data": {
      "text/plain": [
       "array([[0.        , 0.53851648, 0.64807407, ..., 4.45982062, 4.65080638,\n",
       "        4.14004831],\n",
       "       [0.53851648, 0.        , 0.33166248, ..., 4.49888875, 4.71805044,\n",
       "        4.15331193],\n",
       "       [0.64807407, 0.33166248, 0.        , ..., 4.53321078, 4.71911009,\n",
       "        4.14969878],\n",
       "       ...,\n",
       "       [4.45982062, 4.49888875, 4.53321078, ..., 0.        , 0.6164414 ,\n",
       "        0.64031242],\n",
       "       [4.65080638, 4.71805044, 4.71911009, ..., 0.6164414 , 0.        ,\n",
       "        0.76811457],\n",
       "       [4.14004831, 4.15331193, 4.14969878, ..., 0.64031242, 0.76811457,\n",
       "        0.        ]])"
      ]
     },
     "execution_count": 10,
     "metadata": {},
     "output_type": "execute_result"
    }
   ],
   "source": [
    "generate_similarity_matrix(X_train,'l2')"
   ]
  },
  {
   "cell_type": "code",
   "execution_count": 11,
   "metadata": {},
   "outputs": [],
   "source": [
    "class SpectralClustering():\n",
    "    \"\"\"\n",
    "        Clustering algorithm that uses the eigenvectors of the normalized laplacian\n",
    "        Parameters:\n",
    "            X: numpy array() data matrix\n",
    "    \"\"\"\n",
    "    def __init__(self,X):\n",
    "        self.X = X\n",
    "        \n",
    "    def generate_normalized_laplacian(self,distances='l2'):\n",
    "        \n",
    "        X = tools.generate_similarity_matrix(self.X,distances)\n",
    "        distances = np.diag(np.sum(X,axis=1))\n",
    "        l = distances - X\n",
    "        distances_inv = np.diag(1/np.sum(X,axis=1))\n",
    "        laplacian = distances_inv.dot(l)\n",
    "        return laplacian\n",
    "    \n",
    "    def predict(self,k,distances='l2',clustering_algo=KMeans_Medians):\n",
    "        \n",
    "        laplacian = self.generate_normalized_laplacian(distances)\n",
    "        eigenvalues, eigenvectors = np.linalg.eig(laplacian)\n",
    "        indices = eigenvalues.argsort()[:k]\n",
    "        eigenvectors = eigenvectors[:,indices]\n",
    "        clustering = clustering_algo(eigenvectors)\n",
    "        return clustering.predict(k,seed=0)"
   ]
  },
  {
   "cell_type": "code",
   "execution_count": 12,
   "metadata": {},
   "outputs": [],
   "source": [
    "sp = SpectralClustering(X)"
   ]
  },
  {
   "cell_type": "code",
   "execution_count": 13,
   "metadata": {},
   "outputs": [
    {
     "name": "stderr",
     "output_type": "stream",
     "text": [
      "/home/shyam/anaconda3/envs/py36/lib/python3.6/site-packages/numpy/core/fromnumeric.py:2957: RuntimeWarning: Mean of empty slice.\n",
      "  out=out, **kwargs)\n",
      "/home/shyam/anaconda3/envs/py36/lib/python3.6/site-packages/numpy/core/_methods.py:73: RuntimeWarning: invalid value encountered in true_divide\n",
      "  ret, rcount, out=ret, casting='unsafe', subok=False)\n"
     ]
    },
    {
     "data": {
      "text/plain": [
       "array([2., 2., 2., 2., 2., 2., 2., 2., 2., 2., 2., 2., 2., 2., 2., 2., 2.,\n",
       "       2., 2., 2., 2., 2., 2., 2., 2., 2., 2., 2., 2., 2., 2., 2., 2., 2.,\n",
       "       2., 2., 2., 2., 2., 2., 2., 2., 2., 2., 2., 2., 2., 2., 2., 2., 1.,\n",
       "       0., 1., 0., 0., 0., 0., 0., 0., 0., 0., 0., 0., 0., 0., 0., 0., 0.,\n",
       "       0., 0., 0., 0., 0., 0., 0., 0., 0., 1., 0., 0., 0., 0., 0., 0., 0.,\n",
       "       0., 0., 0., 0., 0., 0., 0., 0., 0., 0., 0., 0., 0., 0., 0., 1., 0.,\n",
       "       1., 1., 1., 1., 0., 1., 1., 1., 1., 1., 1., 0., 1., 1., 1., 1., 1.,\n",
       "       0., 1., 0., 1., 0., 1., 1., 0., 0., 1., 1., 1., 1., 1., 0., 1., 1.,\n",
       "       1., 1., 0., 1., 1., 1., 0., 1., 1., 1., 0., 1., 1., 0.])"
      ]
     },
     "execution_count": 13,
     "metadata": {},
     "output_type": "execute_result"
    }
   ],
   "source": [
    "sp.predict(3)"
   ]
  }
 ],
 "metadata": {
  "kernelspec": {
   "display_name": "Python [default]",
   "language": "python",
   "name": "python3"
  },
  "language_info": {
   "codemirror_mode": {
    "name": "ipython",
    "version": 3
   },
   "file_extension": ".py",
   "mimetype": "text/x-python",
   "name": "python",
   "nbconvert_exporter": "python",
   "pygments_lexer": "ipython3",
   "version": "3.6.5"
  }
 },
 "nbformat": 4,
 "nbformat_minor": 2
}
