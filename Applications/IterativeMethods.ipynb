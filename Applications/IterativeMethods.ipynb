{
 "cells": [
  {
   "cell_type": "markdown",
   "metadata": {},
   "source": [
    "# Iterative Methods"
   ]
  },
  {
   "cell_type": "markdown",
   "metadata": {},
   "source": [
    "Here we will observe the performance of many iterative solutions to Ax = b"
   ]
  },
  {
   "cell_type": "markdown",
   "metadata": {},
   "source": [
    "We will assume that our data is Positive Definite, like a Correlation matrix, so we construct it using The basic definition of Diagonalization"
   ]
  },
  {
   "cell_type": "code",
   "execution_count": 2,
   "metadata": {
    "collapsed": true
   },
   "outputs": [],
   "source": [
    "import numpy as np\n",
    "import timeit"
   ]
  },
  {
   "cell_type": "code",
   "execution_count": 26,
   "metadata": {
    "collapsed": true
   },
   "outputs": [],
   "source": [
    "def CnstrPD(n, a):\n",
    "    RM = np.random.randn(n,n) \n",
    "    q,r = np.linalg.qr(RM)\n",
    "    z = (np.random.rand(n)+a)\n",
    "    A = q.dot(np.diag(z)).dot(q.T)\n",
    "    return A"
   ]
  },
  {
   "cell_type": "code",
   "execution_count": 27,
   "metadata": {
    "collapsed": true
   },
   "outputs": [],
   "source": [
    "A = CnstrPD(5000, 0.1) #5000x5000 matrix\n",
    "b = np.random.randn(5000)"
   ]
  },
  {
   "cell_type": "markdown",
   "metadata": {},
   "source": [
    "First we'll look at Gaussian Elimination"
   ]
  },
  {
   "cell_type": "code",
   "execution_count": 28,
   "metadata": {},
   "outputs": [
    {
     "name": "stdout",
     "output_type": "stream",
     "text": [
      "Finished in 13.2977349758 seconds\n",
      "Iterations:  1\n",
      "First 10 entries of solution is [-0.67586446 -6.23750189  4.97926261 -0.91243302 -6.37593958 -0.02318625\n",
      " -2.10047104 -3.19114574 -1.97531455  0.77608185]\n",
      "Mean Squared Error:  2.04806984115e-25\n"
     ]
    }
   ],
   "source": [
    "start = timeit.default_timer()\n",
    "x_g = np.linalg.solve(A, b)\n",
    "end = timeit.default_timer()\n",
    "et = end - start\n",
    "estimate = A.dot(x_g)\n",
    "mse = (sum(b - estimate))**2\n",
    "print \"Finished in\", et, \"seconds\"\n",
    "print \"Iterations: \", 1\n",
    "print \"First 10 entries of solution is\", x_g[:10]\n",
    "print \"Mean Squared Error: \", mse"
   ]
  },
  {
   "cell_type": "markdown",
   "metadata": {},
   "source": [
    "Now we can look at Jacobi iteration"
   ]
  },
  {
   "cell_type": "code",
   "execution_count": 30,
   "metadata": {
    "collapsed": true
   },
   "outputs": [],
   "source": [
    "def Jacobi(A,b,e):\n",
    "    D = np.diag(A) #diagonal entries\n",
    "    x0 = np.zeros(A.shape[0])\n",
    "    check = x0\n",
    "    newcheck = x0 + 2\n",
    "    iterations = 0\n",
    "    while((abs(min(newcheck - check)) > e)==True):\n",
    "        check = newcheck\n",
    "        r = b - A.dot(check)\n",
    "        C = r/D\n",
    "        x = check + C \n",
    "        newcheck = x\n",
    "        iterations += 1\n",
    "    return x,iterations"
   ]
  },
  {
   "cell_type": "code",
   "execution_count": 31,
   "metadata": {},
   "outputs": [
    {
     "name": "stdout",
     "output_type": "stream",
     "text": [
      "Finished in 4.11844110489 seconds\n",
      "Iterations:  113\n",
      "First 10 entries of solution is [-0.67586446 -6.23750189  4.97926261 -0.91243302 -6.37593958 -0.02318625\n",
      " -2.10047104 -3.19114575 -1.97531455  0.77608185]\n",
      "Mean Squared Error:  1.92567269705e-13\n"
     ]
    }
   ],
   "source": [
    "start = timeit.default_timer()\n",
    "x_j, iterations = Jacobi(A,b,10**-8)\n",
    "end = timeit.default_timer()\n",
    "et = end - start\n",
    "estimate = A.dot(x_j)\n",
    "mse = (sum(b - estimate))**2\n",
    "print \"Finished in\", et, \"seconds\"\n",
    "print \"Iterations: \", iterations\n",
    "print \"First 10 entries of solution is\", x_j[:10]\n",
    "print \"Mean Squared Error: \", mse"
   ]
  },
  {
   "cell_type": "markdown",
   "metadata": {},
   "source": [
    "Here is the method of Steepest descent"
   ]
  },
  {
   "cell_type": "code",
   "execution_count": 33,
   "metadata": {
    "collapsed": true
   },
   "outputs": [],
   "source": [
    "def SteepGD(A, b, e):\n",
    "    x0 = np.zeros(A.shape[0])\n",
    "    n = len(x0)\n",
    "    x = x0 #initial vallue\n",
    "    iterations = 0\n",
    "    checkx = x + 2\n",
    "    while((abs(min(checkx - x)) > e)==True):\n",
    "        checkx = x\n",
    "        r = b - np.dot(A,x) #compute residual\n",
    "        t = np.inner(r,r)/np.inner(np.dot(A,r),r) #update step size\n",
    "        x = x + t*r #update rule\n",
    "        iterations += 1\n",
    "    return x, iterations"
   ]
  },
  {
   "cell_type": "code",
   "execution_count": 35,
   "metadata": {},
   "outputs": [
    {
     "name": "stdout",
     "output_type": "stream",
     "text": [
      "Finished in 8.38624596596 seconds\n",
      "Iterations:  99\n",
      "First 10 entries of solution is [-0.67586446 -6.2375019   4.9792626  -0.91243302 -6.37593958 -0.02318627\n",
      " -2.10047104 -3.19114575 -1.97531455  0.77608185]\n",
      "Mean Squared Error:  9.82223512972e-15\n"
     ]
    }
   ],
   "source": [
    "start = timeit.default_timer()\n",
    "x_gd, iterations = SteepGD(A,b,10**-8)\n",
    "end = timeit.default_timer()\n",
    "et = end - start\n",
    "estimate = A.dot(x_gd)\n",
    "mse = (sum(b - estimate))**2\n",
    "print \"Finished in\", et, \"seconds\"\n",
    "print \"Iterations: \", iterations\n",
    "print \"First 10 entries of solution is\", x_gd[:10]\n",
    "print \"Mean Squared Error: \", mse"
   ]
  },
  {
   "cell_type": "markdown",
   "metadata": {},
   "source": [
    "Finally, we'll look at how Conjugate Gradient Descent performs"
   ]
  },
  {
   "cell_type": "code",
   "execution_count": 36,
   "metadata": {
    "collapsed": true
   },
   "outputs": [],
   "source": [
    "def CGD(A, b, e):\n",
    "    x0 = np.zeros(A.shape[0])\n",
    "    n = len(x0)\n",
    "    x = x0 #initial vallue\n",
    "    checkx = x + 2\n",
    "    r = b - np.dot(A,x)  #initial residual\n",
    "    p = np.copy(r) #first direction\n",
    "    iterations = 0\n",
    "    while((abs(min(checkx - x)) > e)==True):\n",
    "        checkx = x \n",
    "        z = np.dot(A,p)  #compute Ap\n",
    "        t = np.inner(p,r)/np.inner(p,z)  #compute stepsize\n",
    "        x = x + t*p #update along direction p\n",
    "        r = r - t*z #update residual\n",
    "        b = -np.inner(r,z)/np.inner(p,z)\n",
    "        p = r + b*p  #pick the next direction\n",
    "        iterations += 1\n",
    "    return x, iterations  #kth row stores kth x"
   ]
  },
  {
   "cell_type": "code",
   "execution_count": 37,
   "metadata": {},
   "outputs": [
    {
     "name": "stdout",
     "output_type": "stream",
     "text": [
      "Finished in 1.69595503807 seconds\n",
      "Iterations:  35\n",
      "First 10 entries of solution is [-0.67586446 -6.23750189  4.97926261 -0.91243302 -6.37593958 -0.02318625\n",
      " -2.10047104 -3.19114574 -1.97531455  0.77608185]\n",
      "Mean Squared Error:  6.78154327187e-16\n"
     ]
    }
   ],
   "source": [
    "start = timeit.default_timer()\n",
    "x_cgd, iterations = CGD(A,b,10**-8)\n",
    "end = timeit.default_timer()\n",
    "et = end - start\n",
    "estimate = A.dot(x_cgd)\n",
    "mse = (sum(b - estimate))**2\n",
    "print \"Finished in\", et, \"seconds\"\n",
    "print \"Iterations: \", iterations\n",
    "print \"First 10 entries of solution is\", x_cgd[:10]\n",
    "print \"Mean Squared Error: \", mse"
   ]
  },
  {
   "cell_type": "markdown",
   "metadata": {},
   "source": [
    "Accuracy measured by Mean Squared Error\n",
    "Conjugate Gradient Descent is the quickest algorithm, with the second best accuracy\n",
    "Jacobi is the second quickest algorithm with the second worst accuracy\n",
    "Steepest Gradient Descent is the 3rd quickest algorithm with the worst accuracy\n",
    "Gaussian elimination is the slowest algorithm with the highest algorithm"
   ]
  }
 ],
 "metadata": {
  "kernelspec": {
   "display_name": "Python 2",
   "language": "python",
   "name": "python2"
  },
  "language_info": {
   "codemirror_mode": {
    "name": "ipython",
    "version": 2
   },
   "file_extension": ".py",
   "mimetype": "text/x-python",
   "name": "python",
   "nbconvert_exporter": "python",
   "pygments_lexer": "ipython2",
   "version": "2.7.14"
  }
 },
 "nbformat": 4,
 "nbformat_minor": 2
}
