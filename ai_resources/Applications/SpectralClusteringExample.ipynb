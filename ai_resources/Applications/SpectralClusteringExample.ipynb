{
 "cells": [
  {
   "cell_type": "code",
   "execution_count": 1,
   "metadata": {},
   "outputs": [
    {
     "name": "stderr",
     "output_type": "stream",
     "text": [
      "/home/shyam/anaconda2/envs/py36/lib/python3.6/site-packages/sklearn/cross_validation.py:41: DeprecationWarning: This module was deprecated in version 0.18 in favor of the model_selection module into which all the refactored classes and functions are moved. Also note that the interface of the new CV iterators are different from that of this module. This module will be removed in 0.20.\n",
      "  \"This module will be removed in 0.20.\", DeprecationWarning)\n"
     ]
    }
   ],
   "source": [
    "import numpy as np\n",
    "import pandas as pd\n",
    "import matplotlib.pyplot as plt\n",
    "import seaborn as sns\n",
    "from sklearn import datasets\n",
    "from sklearn.cluster import KMeans\n",
    "from sklearn.linear_model import LogisticRegression\n",
    "from sklearn import cross_validation, metrics\n",
    "import sys\n",
    "sys.path.append('../tools')\n",
    "import tools\n",
    "sys.path.append('../Unsupervised Learning/')\n",
    "from FuzzyKmeans import FuzzyKmeans\n",
    "%matplotlib inline"
   ]
  },
  {
   "cell_type": "markdown",
   "metadata": {},
   "source": [
    "# Spectral Clustering"
   ]
  },
  {
   "cell_type": "code",
   "execution_count": 2,
   "metadata": {},
   "outputs": [],
   "source": [
    "iris = datasets.load_iris()"
   ]
  },
  {
   "cell_type": "code",
   "execution_count": 3,
   "metadata": {},
   "outputs": [],
   "source": [
    "def split_set(X,portion,y=None):\n",
    "    X = np.array(X)\n",
    "    y = np.array(y)\n",
    "    size = int(X.shape[0]*portion)\n",
    "    indexlist = np.arange(X.shape[0])\n",
    "    testinds = np.random.choice(indexlist, size, replace=False)\n",
    "    traininds = np.array([x for x in range(X.shape[0]) if x not in testinds])  \n",
    "    if np.all(y == None):\n",
    "        return X[traininds],X[testinds]\n",
    "    else:\n",
    "        return X[traininds],X[testinds],y[traininds],y[testinds]"
   ]
  },
  {
   "cell_type": "code",
   "execution_count": 4,
   "metadata": {},
   "outputs": [],
   "source": [
    "X = iris.data\n",
    "y = iris.target\n",
    "X_train, X_test, y_train, y_test = split_set(X,0.1,y)"
   ]
  },
  {
   "cell_type": "code",
   "execution_count": 6,
   "metadata": {},
   "outputs": [],
   "source": [
    "def l2distance(X,y):\n",
    "    '''\n",
    "\t   gets euclidian distance between vector X and matrix(or vector) y\n",
    "    '''\n",
    "    ones = np.ones(y.shape[0]).reshape(y.shape[0],1)\n",
    "    X = ones.dot(X)\n",
    "    dist = (y - X)**2\n",
    "    dist = np.sqrt(np.sum(dist,axis=1))\n",
    "\n",
    "    return dist"
   ]
  },
  {
   "cell_type": "code",
   "execution_count": 7,
   "metadata": {},
   "outputs": [
    {
     "data": {
      "text/plain": [
       "array([0.53851648, 0.        , 0.3       , 0.33166248, 0.60827625,\n",
       "       1.09087121, 0.50990195, 0.42426407, 0.17320508, 0.8660254 ,\n",
       "       0.45825757, 0.14142136, 0.678233  , 1.36014705, 1.62788206,\n",
       "       1.05356538, 1.17473401, 0.83666003, 0.70710678, 0.76157731,\n",
       "       0.78102497, 0.55677644, 0.64807407, 0.2236068 , 0.5       ,\n",
       "       0.59160798, 0.34641016, 0.24494897, 0.678233  , 1.14891253,\n",
       "       1.34164079, 0.17320508, 0.3       , 0.78740079, 0.17320508,\n",
       "       0.50990195, 0.45825757, 0.52915026, 0.81853528, 0.54772256,\n",
       "       0.678233  , 0.98488578, 0.14142136, 0.84852814, 0.36055513,\n",
       "       0.81240384, 4.09633983, 3.68646172, 4.23674403, 2.96984848,\n",
       "       3.86005181, 2.14709106, 3.78813938, 2.80535203, 3.24499615,\n",
       "       3.04138127, 3.71214224, 3.7       , 3.43365694, 2.97153159,\n",
       "       3.69188299, 2.79284801, 3.89358447, 3.07408523, 4.01870626,\n",
       "       3.65650106, 3.44673759, 3.65102725, 4.08044115, 4.29534632,\n",
       "       3.5383612 , 2.41867732, 2.7       , 2.57875939, 2.85482048,\n",
       "       4.11703777, 3.39852909, 3.59722115, 3.97869325, 3.55808937,\n",
       "       2.99833287, 2.9291637 , 3.24345495, 3.62215406, 2.95465734,\n",
       "       2.17944947, 3.10322413, 3.07896086, 3.1144823 , 3.36452077,\n",
       "       3.02985148, 5.33853913, 4.18090899, 5.35723809, 4.70850295,\n",
       "       6.15954544, 3.47994253, 5.04083326, 4.41927596, 4.52106182,\n",
       "       4.90204039, 4.13400532, 4.40227214, 4.6808119 , 4.68294779,\n",
       "       6.53146232, 4.0620192 , 5.19037571, 4.00249922, 6.26178888,\n",
       "       4.10609303, 5.04281667, 5.38980519, 3.98120585, 4.03112887,\n",
       "       4.85180379, 5.15848815, 5.59195851, 6.15467302, 4.89182992,\n",
       "       4.16893272, 4.5475268 , 4.65080638, 3.91535439, 4.86004115,\n",
       "       5.07247474, 4.70212718, 4.18090899, 5.32071424, 5.20672642,\n",
       "       4.7       , 4.24970587, 4.49888875, 4.71805044, 4.15331193])"
      ]
     },
     "execution_count": 7,
     "metadata": {},
     "output_type": "execute_result"
    }
   ],
   "source": [
    "l2distance(X_train[1].reshape(1,4),X_train)"
   ]
  },
  {
   "cell_type": "code",
   "execution_count": 13,
   "metadata": {},
   "outputs": [],
   "source": [
    "f = FuzzyKmeans(X)"
   ]
  },
  {
   "cell_type": "code",
   "execution_count": 15,
   "metadata": {},
   "outputs": [
    {
     "data": {
      "text/plain": [
       "array([1, 1, 1, 1, 1, 1, 1, 1, 1, 1, 1, 1, 1, 1, 1, 1, 1, 1, 1, 1, 1, 1,\n",
       "       1, 1, 1, 1, 1, 1, 1, 1, 1, 1, 1, 1, 1, 1, 1, 1, 1, 1, 1, 1, 1, 1,\n",
       "       1, 1, 1, 1, 1, 1, 0, 0, 0, 0, 0, 0, 0, 1, 0, 0, 0, 0, 0, 0, 0, 0,\n",
       "       0, 0, 0, 0, 0, 0, 0, 0, 0, 0, 0, 0, 0, 0, 0, 0, 0, 0, 0, 0, 0, 0,\n",
       "       0, 0, 0, 0, 0, 1, 0, 0, 0, 0, 1, 0, 0, 0, 0, 0, 0, 0, 0, 0, 0, 0,\n",
       "       0, 0, 0, 0, 0, 0, 0, 0, 0, 0, 0, 0, 0, 0, 0, 0, 0, 0, 0, 0, 0, 0,\n",
       "       0, 0, 0, 0, 0, 0, 0, 0, 0, 0, 0, 0, 0, 0, 0, 0, 0, 0])"
      ]
     },
     "execution_count": 15,
     "metadata": {},
     "output_type": "execute_result"
    }
   ],
   "source": [
    "f.predict(2,argmax=True)"
   ]
  },
  {
   "cell_type": "code",
   "execution_count": 23,
   "metadata": {},
   "outputs": [],
   "source": [
    "def generate_similarity_matrix(X,sim_type='l2'):\n",
    "    \n",
    "    n = X.shape[0]\n",
    "    p = X.shape[1]\n",
    "    \n",
    "    newmatrix = np.zeros((n,n))\n",
    "    if sim_type == 'l2':\n",
    "        for i in range(n):\n",
    "            newmatrix[i] = (l2distance(X[i].reshape(1,p),X)).reshape(1,n)\n",
    "        return newmatrix\n",
    "    else:\n",
    "        print(\"Please provide a distance measure\")    "
   ]
  },
  {
   "cell_type": "code",
   "execution_count": 10,
   "metadata": {},
   "outputs": [
    {
     "data": {
      "text/plain": [
       "array([[0.        , 0.53851648, 0.50990195, ..., 4.45982062, 4.65080638,\n",
       "        4.14004831],\n",
       "       [0.53851648, 0.        , 0.3       , ..., 4.49888875, 4.71805044,\n",
       "        4.15331193],\n",
       "       [0.50990195, 0.3       , 0.        , ..., 4.66154481, 4.84871117,\n",
       "        4.29883705],\n",
       "       ...,\n",
       "       [4.45982062, 4.49888875, 4.66154481, ..., 0.        , 0.6164414 ,\n",
       "        0.64031242],\n",
       "       [4.65080638, 4.71805044, 4.84871117, ..., 0.6164414 , 0.        ,\n",
       "        0.76811457],\n",
       "       [4.14004831, 4.15331193, 4.29883705, ..., 0.64031242, 0.76811457,\n",
       "        0.        ]])"
      ]
     },
     "execution_count": 10,
     "metadata": {},
     "output_type": "execute_result"
    }
   ],
   "source": [
    "generate_similarity_matrix(X_train,'l2')"
   ]
  },
  {
   "cell_type": "code",
   "execution_count": 84,
   "metadata": {},
   "outputs": [],
   "source": [
    "class SpectralClustering():\n",
    "    \n",
    "    def __init__(self,X):\n",
    "        \n",
    "        self.X = X\n",
    "        \n",
    "    def generate_normalized_laplacian(self,distance_measurement='l2'):\n",
    "        \n",
    "        X = self.X\n",
    "        similarity = generate_similarity_matrix(X)\n",
    "        distances_inv = np.diag(1/np.sum(similarity,axis=1))\n",
    "        laplacian = np.identity(X.shape[0]) - distances_inv.dot(similarity)\n",
    "        return laplacian\n",
    "    \n",
    "    def predict(self,k,distance_measure='l2',clustering_algo=FuzzyKmeans):\n",
    "        \n",
    "        laplacian = self.generate_normalized_laplacian(distance_measure)\n",
    "        eigenvalues, eigenvectors = np.linalg.eig(laplacian)\n",
    "        indices = eigenvalues.argsort()[:k]\n",
    "        eigenvectors = eigenvectors[:,indices]\n",
    "        clustering = clustering_algo(eigenvectors)\n",
    "        return clustering.predict(k,argmax=True)\n",
    "    "
   ]
  },
  {
   "cell_type": "code",
   "execution_count": 82,
   "metadata": {},
   "outputs": [],
   "source": [
    "sp = SpectralClustering(X)"
   ]
  },
  {
   "cell_type": "code",
   "execution_count": 83,
   "metadata": {},
   "outputs": [
    {
     "data": {
      "text/plain": [
       "array([2, 2, 2, 2, 2, 2, 2, 2, 2, 1, 2, 2, 2, 2, 2, 2, 2, 2, 2, 2, 2, 2,\n",
       "       2, 2, 2, 2, 2, 2, 2, 2, 2, 2, 2, 2, 2, 2, 2, 1, 2, 2, 2, 2, 2, 2,\n",
       "       2, 2, 2, 2, 2, 2, 2, 2, 2, 2, 2, 2, 2, 2, 2, 2, 2, 2, 2, 2, 2, 2,\n",
       "       2, 2, 2, 2, 2, 2, 2, 2, 2, 2, 2, 2, 2, 2, 2, 2, 2, 2, 2, 2, 2, 2,\n",
       "       2, 2, 2, 2, 2, 2, 2, 2, 2, 2, 2, 2, 2, 1, 2, 2, 2, 2, 2, 2, 2, 2,\n",
       "       2, 2, 2, 2, 2, 2, 2, 2, 2, 2, 2, 2, 2, 2, 2, 2, 2, 2, 2, 2, 2, 2,\n",
       "       2, 2, 2, 2, 2, 2, 2, 2, 2, 2, 0, 2, 2, 2, 2, 2, 2, 2])"
      ]
     },
     "execution_count": 83,
     "metadata": {},
     "output_type": "execute_result"
    }
   ],
   "source": [
    "sp.predict(3)"
   ]
  }
 ],
 "metadata": {
  "kernelspec": {
   "display_name": "Python 3",
   "language": "python",
   "name": "python3"
  },
  "language_info": {
   "codemirror_mode": {
    "name": "ipython",
    "version": 3
   },
   "file_extension": ".py",
   "mimetype": "text/x-python",
   "name": "python",
   "nbconvert_exporter": "python",
   "pygments_lexer": "ipython3",
   "version": "3.6.4"
  }
 },
 "nbformat": 4,
 "nbformat_minor": 2
}
