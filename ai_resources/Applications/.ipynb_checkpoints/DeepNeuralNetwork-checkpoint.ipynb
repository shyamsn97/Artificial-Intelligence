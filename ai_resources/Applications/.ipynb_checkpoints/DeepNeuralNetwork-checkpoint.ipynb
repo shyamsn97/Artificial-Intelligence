{
 "cells": [
  {
   "cell_type": "code",
   "execution_count": 8,
   "metadata": {},
   "outputs": [],
   "source": [
    "import numpy as np\n",
    "import matplotlib.pyplot as plt\n",
    "import seaborn as sns\n",
    "import pandas as pd\n",
    "import sys\n",
    "sys.path.append('../tools/')\n",
    "import tools\n",
    "%matplotlib inline"
   ]
  },
  {
   "cell_type": "markdown",
   "metadata": {},
   "source": [
    "## DNN from scratch"
   ]
  },
  {
   "cell_type": "markdown",
   "metadata": {},
   "source": [
    "approximate sin function from random values."
   ]
  },
  {
   "cell_type": "code",
   "execution_count": 9,
   "metadata": {},
   "outputs": [],
   "source": [
    "x = np.linspace(-2, 2, 1000)"
   ]
  },
  {
   "cell_type": "code",
   "execution_count": 10,
   "metadata": {},
   "outputs": [],
   "source": [
    "y = np.sin(x)**2"
   ]
  },
  {
   "cell_type": "code",
   "execution_count": 11,
   "metadata": {},
   "outputs": [],
   "source": [
    "df = pd.DataFrame({'x':x,'y':y})"
   ]
  },
  {
   "cell_type": "code",
   "execution_count": null,
   "metadata": {},
   "outputs": [],
   "source": [
    "class DeepNeuralNetwork():\n",
    "    \"\"\"\n",
    "    Deep Neural Net built from scratch\n",
    "    capable of regression tasks\n",
    "    TODO: Vanishing/Exploding gradient is an issue right now, very sensitive to initial weight placement.\n",
    "    \"\"\"\n",
    "    def __init__(self,X,y):\n",
    "        self.X = X\n",
    "        self.y = y\n",
    "        self.output = 0\n",
    "        self.layerdims = []\n",
    "        self.layers = []\n",
    "        self.weights = []\n",
    "        self.derivlayers = []\n",
    "        self.gradients = []\n",
    "        self.initialized = False\n",
    "        \n",
    "    def add(self,nodes):\n",
    "        if len(self.layerdims) == 0:\n",
    "        \n",
    "            self.layerdims.append((self.X.shape[1],nodes))\n",
    "        else:\n",
    "            last = self.layerdims[-1]\n",
    "            self.layerdims.append((last[1],nodes))\n",
    "    \n",
    "    def initialize(self,low = -10,high=10,numoutputs=1):\n",
    "        '''\n",
    "        make sure to do this after adding all the layers\n",
    "        '''\n",
    "        #takes two elements, the first entry is lower bound & second is upper. Default is -10 to 10. \n",
    "        #Default number of outputs is 1 output\n",
    "        self.weights = []\n",
    "        for i in range(len(self.layerdims)):\n",
    "            layerdim = self.layerdims[i]\n",
    "            weight = np.random.uniform(low=low,high=high,size=(layerdim[0],layerdim[1]))\n",
    "            self.weights.append(weight)\n",
    "            if (i == (len(self.layerdims)-1)) and self.initialized == False:\n",
    "                self.weights.append( np.random.uniform(low=low,high=high,size=(layerdim[1],numoutputs)))\n",
    "                self.layerdims.append((layerdim[1],numoutputs))\n",
    "        self.initialized = True\n",
    "        \n",
    "    def foward(self,X):\n",
    "        '''\n",
    "        foward pass\n",
    "        '''\n",
    "        self.layers = []\n",
    "        self.derivlayers = []\n",
    "        weights = self.weights\n",
    "        self.layers.append(X)\n",
    "        i = 0\n",
    "        val = 0\n",
    "        while i < len(weights):\n",
    "            if i == 0:\n",
    "                val = tools.sigmoid(X.dot(weights[i]))\n",
    "                derival = tools.sigmoid(X.dot(weights[i]),True)\n",
    "                self.layers.append(val)\n",
    "                self.derivlayers.append(derival)\n",
    "            elif i == (len(weights)-1):\n",
    "                val = val.dot(weights[i])\n",
    "                derival = 1\n",
    "                self.derivlayers.append(derival)\n",
    "            else:\n",
    "                derival = tools.sigmoid(val.dot(weights[i]),True)\n",
    "                val = tools.sigmoid(val.dot(weights[i]))\n",
    "                self.layers.append(val)\n",
    "                self.derivlayers.append(derival)\n",
    "            i += 1\n",
    "        return val\n",
    "    \n",
    "    def calculate_gradients(self):\n",
    "        self.gradients = []\n",
    "        y = self.y\n",
    "        output = self.output\n",
    "        loss = output - y\n",
    "        layers = self.layers\n",
    "        derivlayers = self.derivlayers\n",
    "        i = len(self.weights)-1\n",
    "\n",
    "        while i >= 0:\n",
    "            if(i ==  (len(self.weights)-1)):\n",
    "                chain = loss\n",
    "                self.gradients.append(self.layers[i].T.dot(loss))\n",
    "            else:\n",
    "                chain = (chain.dot(self.weights[i+1].T))*derivlayers[i]\n",
    "                self.gradients.append(layers[i].T.dot(chain))\n",
    "            i-=1\n",
    " \n",
    "        self.gradients = self.gradients[::-1]\n",
    "            \n",
    "    def train(self,epochs=1000,learning_rate=0.001):\n",
    "        '''\n",
    "        Trains the neural network\n",
    "        epochs- number of times the network uses the full data set to train\n",
    "        learning_rate- how much influence the gradient has on the weights, for grad descent\n",
    "        '''\n",
    "        if self.initialized == False:\n",
    "            self.initialize()\n",
    "        self.output = self.foward(self.X)\n",
    "        for i in range(epochs):\n",
    "            MSE = np.sum((self.y - self.output)**2)\n",
    "            print(\"MSE at epoch \" + str(i) + \": \" + str(MSE))\n",
    "            self.calculate_gradients()\n",
    "            for i in range(len(self.weights)):\n",
    "                #print(\"START\")\n",
    "                #print(self.weights[i])\n",
    "                self.weights[i] = self.weights[i] - learning_rate*self.gradients[i]\n",
    "                #print(\"AFTER\")\n",
    "                #print(self.weights[i])\n",
    "            self.output = self.foward(self.X)\n",
    "    \n",
    "    def predict(self,Xtest):\n",
    "        weights = self.weights\n",
    "        i = 0\n",
    "        val = 0\n",
    "        while i < len(weights):\n",
    "            if i == 0:\n",
    "                val = tools.sigmoid(Xtest.dot(weights[i]))\n",
    "            elif i == (len(weights)-1):\n",
    "                val = val.dot(weights[i])\n",
    "            else:\n",
    "                val = tools.sigmoid(val.dot(weights[i]))\n",
    "            i += 1\n",
    "        return val\n",
    "    \n",
    "        "
   ]
  },
  {
   "cell_type": "code",
   "execution_count": 55,
   "metadata": {},
   "outputs": [
    {
     "name": "stdout",
     "output_type": "stream",
     "text": [
      "MSE at epoch 0: 71033.95966954652\n",
      "MSE at epoch 1: 360321.5062950081\n",
      "MSE at epoch 2: 491983.5130864872\n",
      "MSE at epoch 3: 220185.5209444279\n",
      "MSE at epoch 4: 50175.760283077325\n",
      "MSE at epoch 5: 10060.516742608288\n",
      "MSE at epoch 6: 3142.744661184295\n",
      "MSE at epoch 7: 1401.4289936474884\n",
      "MSE at epoch 8: 908.7014890573305\n",
      "MSE at epoch 9: 736.5082428056771\n",
      "MSE at epoch 10: 649.2993400514654\n",
      "MSE at epoch 11: 586.5549656561573\n",
      "MSE at epoch 12: 532.4728366995114\n",
      "MSE at epoch 13: 482.7530431751285\n",
      "MSE at epoch 14: 436.121380728831\n",
      "MSE at epoch 15: 392.17035442369615\n",
      "MSE at epoch 16: 350.81382945963617\n",
      "MSE at epoch 17: 312.14867996346646\n",
      "MSE at epoch 18: 276.4072806146484\n",
      "MSE at epoch 19: 243.91186495141935\n",
      "MSE at epoch 20: 215.00502142044195\n",
      "MSE at epoch 21: 189.95883910913994\n",
      "MSE at epoch 22: 168.88634680417468\n",
      "MSE at epoch 23: 151.6883962137964\n",
      "MSE at epoch 24: 138.05781705310937\n",
      "MSE at epoch 25: 127.53578759820773\n",
      "MSE at epoch 26: 119.59279854567967\n",
      "MSE at epoch 27: 113.70333411704284\n",
      "MSE at epoch 28: 109.39622337475222\n",
      "MSE at epoch 29: 106.27817069703502\n",
      "MSE at epoch 30: 104.03714704526666\n",
      "MSE at epoch 31: 102.43434810137832\n",
      "MSE at epoch 32: 101.29157674888302\n",
      "MSE at epoch 33: 100.47818671970026\n",
      "MSE at epoch 34: 99.89955548149081\n",
      "MSE at epoch 35: 99.48772241406311\n",
      "MSE at epoch 36: 99.1941533738532\n",
      "MSE at epoch 37: 98.98432044878318\n",
      "MSE at epoch 38: 98.83372280377023\n",
      "MSE at epoch 39: 98.72500409061408\n",
      "MSE at epoch 40: 98.6458825656236\n",
      "MSE at epoch 41: 98.58767344788296\n",
      "MSE at epoch 42: 98.5442381313334\n",
      "MSE at epoch 43: 98.51123883245384\n",
      "MSE at epoch 44: 98.48561075700057\n",
      "MSE at epoch 45: 98.46518869514514\n",
      "MSE at epoch 46: 98.44844303388169\n",
      "MSE at epoch 47: 98.4342931962052\n",
      "MSE at epoch 48: 98.42197582645957\n",
      "MSE at epoch 49: 98.41095166687946\n",
      "MSE at epoch 50: 98.40083977145432\n",
      "MSE at epoch 51: 98.3913710324434\n",
      "MSE at epoch 52: 98.38235534972296\n",
      "MSE at epoch 53: 98.3736584376199\n",
      "MSE at epoch 54: 98.36518543990789\n",
      "MSE at epoch 55: 98.35686935438267\n",
      "MSE at epoch 56: 98.34866285521932\n",
      "MSE at epoch 57: 98.34053251578266\n",
      "MSE at epoch 58: 98.3324547273242\n",
      "MSE at epoch 59: 98.32441281580527\n",
      "MSE at epoch 60: 98.31639500517969\n",
      "MSE at epoch 61: 98.30839297868013\n",
      "MSE at epoch 62: 98.30040086257101\n",
      "MSE at epoch 63: 98.29241450834797\n",
      "MSE at epoch 64: 98.2844309857642\n",
      "MSE at epoch 65: 98.27644822478123\n",
      "MSE at epoch 66: 98.26846476271248\n",
      "MSE at epoch 67: 98.26047956566514\n",
      "MSE at epoch 68: 98.25249190245722\n",
      "MSE at epoch 69: 98.24450125559397\n",
      "MSE at epoch 70: 98.23650725841492\n",
      "MSE at epoch 71: 98.22850965072087\n",
      "MSE at epoch 72: 98.22050824744986\n",
      "MSE at epoch 73: 98.2125029165658\n",
      "MSE at epoch 74: 98.20449356345145\n",
      "MSE at epoch 75: 98.19648011989315\n",
      "MSE at epoch 76: 98.18846253630662\n",
      "MSE at epoch 77: 98.18044077625073\n",
      "MSE at epoch 78: 98.17241481255599\n",
      "MSE at epoch 79: 98.16438462459253\n",
      "MSE at epoch 80: 98.15635019634281\n",
      "MSE at epoch 81: 98.14831151504104\n",
      "MSE at epoch 82: 98.14026857021409\n",
      "MSE at epoch 83: 98.13222135300386\n",
      "MSE at epoch 84: 98.12416985569007\n",
      "MSE at epoch 85: 98.1161140713528\n",
      "MSE at epoch 86: 98.10805399363497\n",
      "MSE at epoch 87: 98.09998961657452\n",
      "MSE at epoch 88: 98.09192093448578\n",
      "MSE at epoch 89: 98.08384794187614\n",
      "MSE at epoch 90: 98.07577063338692\n",
      "MSE at epoch 91: 98.06768900375178\n",
      "MSE at epoch 92: 98.05960304776738\n",
      "MSE at epoch 93: 98.05151276027236\n",
      "MSE at epoch 94: 98.04341813613303\n",
      "MSE at epoch 95: 98.03531917023264\n",
      "MSE at epoch 96: 98.02721585746421\n",
      "MSE at epoch 97: 98.01910819272538\n",
      "MSE at epoch 98: 98.01099617091441\n",
      "MSE at epoch 99: 98.00287978692805\n"
     ]
    }
   ],
   "source": [
    "m = DeepNeuralNetwork(x.reshape(x.shape[0],1),y)\n",
    "m.y = y.reshape(y.shape[0],1)\n",
    "m.add(20)\n",
    "m.add(5)\n",
    "\n",
    "\n",
    "#m.calculate_gradients()\n",
    "m.train(100,0.001)"
   ]
  },
  {
   "cell_type": "code",
   "execution_count": 17,
   "metadata": {
    "collapsed": true
   },
   "outputs": [],
   "source": [
    "newd = pd.DataFrame({'x':x,'y':m.output.reshape(m.output.shape[0],)})"
   ]
  },
  {
   "cell_type": "markdown",
   "metadata": {},
   "source": [
    "Predicted after 10000 epochs"
   ]
  },
  {
   "cell_type": "code",
   "execution_count": 18,
   "metadata": {},
   "outputs": [
    {
     "data": {
      "text/plain": [
       "<seaborn.axisgrid.FacetGrid at 0x7f96a59d8668>"
      ]
     },
     "execution_count": 18,
     "metadata": {},
     "output_type": "execute_result"
    },
    {
     "data": {
      "image/png": "[encoded data removed]",
      "text/plain": [
       "<matplotlib.figure.Figure at 0x7f96a7ab01d0>"
      ]
     },
     "metadata": {},
     "output_type": "display_data"
    }
   ],
   "source": [
    "sns.lmplot(x='x', y='y',data=newd,\n",
    "           fit_reg=False, # No regression line\n",
    "          )  "
   ]
  },
  {
   "cell_type": "markdown",
   "metadata": {},
   "source": [
    "Original sin wave"
   ]
  },
  {
   "cell_type": "code",
   "execution_count": 19,
   "metadata": {},
   "outputs": [
    {
     "data": {
      "text/plain": [
       "<seaborn.axisgrid.FacetGrid at 0x7f96a599f710>"
      ]
     },
     "execution_count": 19,
     "metadata": {},
     "output_type": "execute_result"
    },
    {
     "data": {
      "image/png": "[encoded data removed]",
      "text/plain": [
       "<matplotlib.figure.Figure at 0x7f96a599f358>"
      ]
     },
     "metadata": {},
     "output_type": "display_data"
    }
   ],
   "source": [
    "sns.lmplot(x='x', y='y',data=df,\n",
    "           fit_reg=False, # No regression line\n",
    "          )   "
   ]
  }
 ],
 "metadata": {
  "kernelspec": {
   "display_name": "Python 3",
   "language": "python",
   "name": "python3"
  },
  "language_info": {
   "codemirror_mode": {
    "name": "ipython",
    "version": 3
   },
   "file_extension": ".py",
   "mimetype": "text/x-python",
   "name": "python",
   "nbconvert_exporter": "python",
   "pygments_lexer": "ipython3",
   "version": "3.6.4"
  }
 },
 "nbformat": 4,
 "nbformat_minor": 2
}
