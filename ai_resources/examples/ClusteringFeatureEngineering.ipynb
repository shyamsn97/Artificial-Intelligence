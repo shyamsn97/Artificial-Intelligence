{
 "cells": [
  {
   "cell_type": "code",
   "execution_count": 1,
   "metadata": {},
   "outputs": [
    {
     "name": "stderr",
     "output_type": "stream",
     "text": [
      "/home/shyam/anaconda2/envs/py36/lib/python3.6/site-packages/sklearn/cross_validation.py:41: DeprecationWarning: This module was deprecated in version 0.18 in favor of the model_selection module into which all the refactored classes and functions are moved. Also note that the interface of the new CV iterators are different from that of this module. This module will be removed in 0.20.\n",
      "  \"This module will be removed in 0.20.\", DeprecationWarning)\n"
     ]
    }
   ],
   "source": [
    "import numpy as np\n",
    "import pandas as pd\n",
    "import matplotlib.pyplot as plt\n",
    "import seaborn as sns\n",
    "from sklearn import datasets\n",
    "from sklearn.linear_model import LogisticRegression\n",
    "from sklearn import cross_validation, metrics\n",
    "%matplotlib inline"
   ]
  },
  {
   "cell_type": "markdown",
   "metadata": {},
   "source": [
    "# Feature Engineering Using Clustering Methods"
   ]
  },
  {
   "cell_type": "code",
   "execution_count": 2,
   "metadata": {},
   "outputs": [],
   "source": [
    "iris = datasets.load_iris()"
   ]
  },
  {
   "cell_type": "code",
   "execution_count": 3,
   "metadata": {},
   "outputs": [
    {
     "data": {
      "text/plain": [
       "['sepal length (cm)',\n",
       " 'sepal width (cm)',\n",
       " 'petal length (cm)',\n",
       " 'petal width (cm)']"
      ]
     },
     "execution_count": 3,
     "metadata": {},
     "output_type": "execute_result"
    }
   ],
   "source": [
    "iris.feature_names"
   ]
  },
  {
   "cell_type": "code",
   "execution_count": 4,
   "metadata": {},
   "outputs": [
    {
     "data": {
      "text/plain": [
       "array(['setosa', 'versicolor', 'virginica'], dtype='<U10')"
      ]
     },
     "execution_count": 4,
     "metadata": {},
     "output_type": "execute_result"
    }
   ],
   "source": [
    "iris.target_names"
   ]
  },
  {
   "cell_type": "markdown",
   "metadata": {},
   "source": [
    "Putting the data into a nice dataframe"
   ]
  },
  {
   "cell_type": "code",
   "execution_count": 5,
   "metadata": {},
   "outputs": [],
   "source": [
    "df = pd.DataFrame({\"SepalLength\":iris.data[:,0],\"SepalWidth\":iris.data[:,1],\"PetalLength\":iris.data[:,2],\"PetalWidth\":iris.data[:,3],\"FlowerClass\":iris.target})"
   ]
  },
  {
   "cell_type": "code",
   "execution_count": 6,
   "metadata": {},
   "outputs": [
    {
     "data": {
      "text/html": [
       "<div>\n",
       "<style scoped>\n",
       "    .dataframe tbody tr th:only-of-type {\n",
       "        vertical-align: middle;\n",
       "    }\n",
       "\n",
       "    .dataframe tbody tr th {\n",
       "        vertical-align: top;\n",
       "    }\n",
       "\n",
       "    .dataframe thead th {\n",
       "        text-align: right;\n",
       "    }\n",
       "</style>\n",
       "<table border=\"1\" class=\"dataframe\">\n",
       "  <thead>\n",
       "    <tr style=\"text-align: right;\">\n",
       "      <th></th>\n",
       "      <th>FlowerClass</th>\n",
       "      <th>PetalLength</th>\n",
       "      <th>PetalWidth</th>\n",
       "      <th>SepalLength</th>\n",
       "      <th>SepalWidth</th>\n",
       "    </tr>\n",
       "  </thead>\n",
       "  <tbody>\n",
       "    <tr>\n",
       "      <th>0</th>\n",
       "      <td>0</td>\n",
       "      <td>1.4</td>\n",
       "      <td>0.2</td>\n",
       "      <td>5.1</td>\n",
       "      <td>3.5</td>\n",
       "    </tr>\n",
       "    <tr>\n",
       "      <th>1</th>\n",
       "      <td>0</td>\n",
       "      <td>1.4</td>\n",
       "      <td>0.2</td>\n",
       "      <td>4.9</td>\n",
       "      <td>3.0</td>\n",
       "    </tr>\n",
       "    <tr>\n",
       "      <th>2</th>\n",
       "      <td>0</td>\n",
       "      <td>1.3</td>\n",
       "      <td>0.2</td>\n",
       "      <td>4.7</td>\n",
       "      <td>3.2</td>\n",
       "    </tr>\n",
       "    <tr>\n",
       "      <th>3</th>\n",
       "      <td>0</td>\n",
       "      <td>1.5</td>\n",
       "      <td>0.2</td>\n",
       "      <td>4.6</td>\n",
       "      <td>3.1</td>\n",
       "    </tr>\n",
       "    <tr>\n",
       "      <th>4</th>\n",
       "      <td>0</td>\n",
       "      <td>1.4</td>\n",
       "      <td>0.2</td>\n",
       "      <td>5.0</td>\n",
       "      <td>3.6</td>\n",
       "    </tr>\n",
       "  </tbody>\n",
       "</table>\n",
       "</div>"
      ],
      "text/plain": [
       "   FlowerClass  PetalLength  PetalWidth  SepalLength  SepalWidth\n",
       "0            0          1.4         0.2          5.1         3.5\n",
       "1            0          1.4         0.2          4.9         3.0\n",
       "2            0          1.3         0.2          4.7         3.2\n",
       "3            0          1.5         0.2          4.6         3.1\n",
       "4            0          1.4         0.2          5.0         3.6"
      ]
     },
     "execution_count": 6,
     "metadata": {},
     "output_type": "execute_result"
    }
   ],
   "source": [
    "df.head(5)"
   ]
  },
  {
   "cell_type": "code",
   "execution_count": 7,
   "metadata": {},
   "outputs": [],
   "source": [
    "X = df[[\"PetalLength\",\"PetalWidth\",\"SepalLength\",\"SepalWidth\"]]"
   ]
  },
  {
   "cell_type": "markdown",
   "metadata": {},
   "source": [
    "First thing: pairwise scatter plot"
   ]
  },
  {
   "cell_type": "markdown",
   "metadata": {},
   "source": [
    "Seems like the features are very linear related."
   ]
  },
  {
   "cell_type": "code",
   "execution_count": 8,
   "metadata": {},
   "outputs": [
    {
     "data": {
      "text/plain": [
       "<seaborn.axisgrid.PairGrid at 0x7f485c48bf28>"
      ]
     },
     "execution_count": 8,
     "metadata": {},
     "output_type": "execute_result"
    },
    {
     "data": {
      "image/png": "[encoded data removed]",
      "text/plain": [
       "<matplotlib.figure.Figure at 0x7f4827e3ea58>"
      ]
     },
     "metadata": {},
     "output_type": "display_data"
    }
   ],
   "source": [
    "sns.pairplot(X)"
   ]
  },
  {
   "cell_type": "code",
   "execution_count": 9,
   "metadata": {},
   "outputs": [
    {
     "data": {
      "text/plain": [
       "<matplotlib.axes._subplots.AxesSubplot at 0x7f482420fe80>"
      ]
     },
     "execution_count": 9,
     "metadata": {},
     "output_type": "execute_result"
    },
    {
     "data": {
      "text/plain": [
       "<matplotlib.figure.Figure at 0x7f4825509208>"
      ]
     },
     "metadata": {},
     "output_type": "display_data"
    },
    {
     "data": {
      "image/png": "[encoded data removed]",
      "text/plain": [
       "<matplotlib.figure.Figure at 0x7f4825509128>"
      ]
     },
     "metadata": {},
     "output_type": "display_data"
    }
   ],
   "source": [
    "sert = df[df[\"FlowerClass\"] == 0]\n",
    "veris = df[df[\"FlowerClass\"] == 1]\n",
    "virg = df[df[\"FlowerClass\"] == 2]\n",
    "fig = plt.figure()\n",
    "plt.figure(figsize=[15,15])\n",
    "ax = plt.subplot(331)\n",
    "ax.set_title(\"PetalLength\")\n",
    "sns.distplot(sert['PetalLength'].dropna().values,kde=False, color=\"blue\")\n",
    "sns.distplot(veris['PetalLength'].dropna().values,kde=False, color=\"red\")\n",
    "sns.distplot(virg['PetalLength'].dropna().values,kde=False, color=\"orange\")\n",
    "ax = plt.subplot(332)\n",
    "ax.set_title(\"PetalWidth\")\n",
    "sns.distplot(sert['PetalWidth'].dropna().values,kde=False, color=\"blue\")\n",
    "sns.distplot(veris['PetalWidth'].dropna().values,kde=False, color=\"red\")\n",
    "sns.distplot(virg['PetalWidth'].dropna().values,kde=False, color=\"orange\")\n",
    "ax = plt.subplot(333)\n",
    "ax.set_title(\"SepalLength\")\n",
    "sns.distplot(sert['SepalLength'].dropna().values,kde=False, color=\"blue\")\n",
    "sns.distplot(veris['SepalLength'].dropna().values,kde=False, color=\"red\")\n",
    "sns.distplot(virg['SepalLength'].dropna().values,kde=False, color=\"orange\")\n",
    "ax = plt.subplot(334)\n",
    "ax.set_title(\"SepalWidth\")\n",
    "sns.distplot(sert['SepalWidth'].dropna().values,kde=False, color=\"blue\")\n",
    "sns.distplot(veris['SepalWidth'].dropna().values,kde=False, color=\"red\")\n",
    "sns.distplot(virg['SepalWidth'].dropna().values,kde=False, color=\"orange\")\n",
    "\n",
    "# sns.distplot(sert['PetalLength'].dropna().values, bins=range(0, 81, 1), kde=False, color=nosurv_col,\n",
    "#             axlabel='Age')"
   ]
  },
  {
   "cell_type": "code",
   "execution_count": 10,
   "metadata": {},
   "outputs": [],
   "source": [
    "X = iris.data"
   ]
  },
  {
   "cell_type": "code",
   "execution_count": 11,
   "metadata": {},
   "outputs": [],
   "source": [
    "X = X[:,2:]"
   ]
  },
  {
   "cell_type": "markdown",
   "metadata": {},
   "source": [
    "SepalWidth and SepalLength seem to overlap for all the classes, so they arent great features for us to cluster.. The PetalLength and PetalWidth for each class seem to have clear different ranges in values."
   ]
  },
  {
   "cell_type": "markdown",
   "metadata": {},
   "source": [
    "## Fuzzy Kmeans to cluster based on Sepal Width/Length"
   ]
  },
  {
   "cell_type": "markdown",
   "metadata": {},
   "source": [
    "I thought it'd be pretty fun to make this from scratch. \n",
    "Referenced https://home.deib.polimi.it/matteucc/Clustering/tutorial_html/cmeans.html"
   ]
  },
  {
   "cell_type": "code",
   "execution_count": 12,
   "metadata": {},
   "outputs": [],
   "source": [
    "class FuzzyKmeans():\n",
    "    \n",
    "    def __init__(self,X):\n",
    "        self.X = X\n",
    "        \n",
    "    def calculate_centers(self,U,m):\n",
    "        X = self.X\n",
    "        ones = np.ones(X.shape[0]).reshape((X.shape[0],1))\n",
    "        denom = (1/(U**m).dot(ones)).reshape(U.shape[0],)\n",
    "        diagonal = np.diag(denom)\n",
    "        centers = diagonal.dot((U**m).dot(X))\n",
    "        return centers\n",
    "        \n",
    "    def calculate_fuzzy(self,centers,m):\n",
    "        m = 2/(m-1)\n",
    "        X = self.X\n",
    "        us = np.ones(shape=(centers.shape[0],1))\n",
    "        ones = np.ones(shape=(1,centers.shape[0]))\n",
    "        for i in range(X.shape[0]):\n",
    "            row = X[i].reshape(X.shape[1],1)\n",
    "            row = row.dot(ones).T - centers\n",
    "            norms = np.linalg.norm(row,2,axis=1).reshape(centers.shape[0],1)\n",
    "            norms = (norms.dot(1/norms.T))**m\n",
    "            sums = 1/np.sum(norms,axis=1).reshape(norms.shape[0],1)\n",
    "            us = np.column_stack((us,sums))\n",
    "\n",
    "        return us[:,1:]\n",
    "        \n",
    "    def cluster(self,m,k,exit,seed,argmax=False): \n",
    "        \"\"\"\n",
    "        Main clustering function\n",
    "        m is the degree of uncertainty, (fuzziness of cluster)\n",
    "        k is the number of clusters\n",
    "        exit is the exit criteria \n",
    "        set argmax = True for normal K-means\n",
    "        \"\"\"\n",
    "        np.random.seed(seed)\n",
    "        U = np.random.uniform(0,1,size=(k,X.shape[0])) #initialize cluster probabilities\n",
    "        centers = self.calculate_centers(U,m)\n",
    "        newcenters = 2*centers\n",
    "        while np.linalg.norm((centers - newcenters),2) >= exit:\n",
    "            newcenters = centers\n",
    "            U = self.calculate_fuzzy(centers,m)\n",
    "            centers = self.calculate_centers(U,m)\n",
    "        if argmax:\n",
    "            return np.argmax(U,axis=0).T\n",
    "        return U.T"
   ]
  },
  {
   "cell_type": "code",
   "execution_count": 13,
   "metadata": {},
   "outputs": [],
   "source": [
    "fuzzy = FuzzyKmeans(X)"
   ]
  },
  {
   "cell_type": "markdown",
   "metadata": {},
   "source": [
    "We'll use three clusters for 3 classes, and use either the fuzzy probs or the maximum values(equivalent to just k-means)"
   ]
  },
  {
   "cell_type": "markdown",
   "metadata": {},
   "source": [
    "Fuzzy probs:"
   ]
  },
  {
   "cell_type": "code",
   "execution_count": 14,
   "metadata": {},
   "outputs": [],
   "source": [
    "fuzzy_clusters = fuzzy.cluster(2,3,0.02,1)"
   ]
  },
  {
   "cell_type": "code",
   "execution_count": 15,
   "metadata": {},
   "outputs": [
    {
     "data": {
      "text/plain": [
       "array([[3.56225843e-04, 7.73647474e-04, 9.98870127e-01],\n",
       "       [3.56225843e-04, 7.73647474e-04, 9.98870127e-01],\n",
       "       [1.43706995e-03, 3.06188483e-03, 9.95501045e-01],\n",
       "       [1.45021945e-04, 3.21307792e-04, 9.99533670e-01],\n",
       "       [3.56225843e-04, 7.73647474e-04, 9.98870127e-01],\n",
       "       [3.99244091e-03, 9.37215541e-03, 9.86635404e-01],\n",
       "       [3.81455947e-04, 8.33191366e-04, 9.98785353e-01],\n",
       "       [1.45021945e-04, 3.21307792e-04, 9.99533670e-01],\n",
       "       [3.56225843e-04, 7.73647474e-04, 9.98870127e-01],\n",
       "       [1.06694872e-03, 2.34668661e-03, 9.96586365e-01]])"
      ]
     },
     "execution_count": 15,
     "metadata": {},
     "output_type": "execute_result"
    }
   ],
   "source": [
    "fuzzy_clusters[:10,:]"
   ]
  },
  {
   "cell_type": "markdown",
   "metadata": {},
   "source": [
    "Kmeans clusters:"
   ]
  },
  {
   "cell_type": "code",
   "execution_count": 16,
   "metadata": {},
   "outputs": [],
   "source": [
    "kmeans_clusters = fuzzy.cluster(2,3,0.02,1,True).reshape(X.shape[0],1)"
   ]
  },
  {
   "cell_type": "code",
   "execution_count": 17,
   "metadata": {},
   "outputs": [
    {
     "data": {
      "text/plain": [
       "array([[2],\n",
       "       [2],\n",
       "       [2],\n",
       "       [2],\n",
       "       [2],\n",
       "       [2],\n",
       "       [2],\n",
       "       [2],\n",
       "       [2],\n",
       "       [2]])"
      ]
     },
     "execution_count": 17,
     "metadata": {},
     "output_type": "execute_result"
    }
   ],
   "source": [
    "kmeans_clusters[:10]"
   ]
  },
  {
   "cell_type": "markdown",
   "metadata": {},
   "source": [
    "## Logistic Regression to predict the classes"
   ]
  },
  {
   "cell_type": "markdown",
   "metadata": {},
   "source": [
    "Here we'll compare the predictive power of models that use all the features, just the fuzzy probabilities, and substituting petal length/width with the kmeans clusters"
   ]
  },
  {
   "cell_type": "code",
   "execution_count": 18,
   "metadata": {},
   "outputs": [],
   "source": [
    "lr = LogisticRegression()"
   ]
  },
  {
   "cell_type": "code",
   "execution_count": 19,
   "metadata": {},
   "outputs": [],
   "source": [
    "newd = np.array(df)"
   ]
  },
  {
   "cell_type": "code",
   "execution_count": 20,
   "metadata": {},
   "outputs": [],
   "source": [
    "newd = newd[:,1:]"
   ]
  },
  {
   "cell_type": "code",
   "execution_count": 21,
   "metadata": {},
   "outputs": [
    {
     "data": {
      "text/plain": [
       "array([[1.4, 0.2, 5.1, 3.5],\n",
       "       [1.4, 0.2, 4.9, 3. ],\n",
       "       [1.3, 0.2, 4.7, 3.2],\n",
       "       [1.5, 0.2, 4.6, 3.1],\n",
       "       [1.4, 0.2, 5. , 3.6],\n",
       "       [1.7, 0.4, 5.4, 3.9],\n",
       "       [1.4, 0.3, 4.6, 3.4],\n",
       "       [1.5, 0.2, 5. , 3.4],\n",
       "       [1.4, 0.2, 4.4, 2.9],\n",
       "       [1.5, 0.1, 4.9, 3.1]])"
      ]
     },
     "execution_count": 21,
     "metadata": {},
     "output_type": "execute_result"
    }
   ],
   "source": [
    "newd[:10,:]"
   ]
  },
  {
   "cell_type": "code",
   "execution_count": 22,
   "metadata": {},
   "outputs": [],
   "source": [
    "y = iris.target"
   ]
  },
  {
   "cell_type": "markdown",
   "metadata": {},
   "source": [
    "Model with original features"
   ]
  },
  {
   "cell_type": "code",
   "execution_count": 23,
   "metadata": {},
   "outputs": [
    {
     "data": {
      "text/plain": [
       "0.9533333333333334"
      ]
     },
     "execution_count": 23,
     "metadata": {},
     "output_type": "execute_result"
    }
   ],
   "source": [
    "predicted = cross_validation.cross_val_predict(LogisticRegression(),newd,y,cv=10)\n",
    "metrics.accuracy_score(iris.target,predicted)"
   ]
  },
  {
   "cell_type": "markdown",
   "metadata": {},
   "source": [
    "A simple logistic regression model can achieve 95% accuracy"
   ]
  },
  {
   "cell_type": "markdown",
   "metadata": {},
   "source": [
    "Model with just Petal Length/Width"
   ]
  },
  {
   "cell_type": "code",
   "execution_count": 24,
   "metadata": {},
   "outputs": [
    {
     "data": {
      "text/plain": [
       "0.86"
      ]
     },
     "execution_count": 24,
     "metadata": {},
     "output_type": "execute_result"
    }
   ],
   "source": [
    "predicted = cross_validation.cross_val_predict(LogisticRegression(),newd[:,:2],y,cv=10)\n",
    "metrics.accuracy_score(iris.target,predicted)"
   ]
  },
  {
   "cell_type": "markdown",
   "metadata": {},
   "source": [
    "Seems like just Petal Length/Width are not enough to predict the type of flower"
   ]
  },
  {
   "cell_type": "markdown",
   "metadata": {},
   "source": [
    "Model with just fuzzy probs"
   ]
  },
  {
   "cell_type": "code",
   "execution_count": 25,
   "metadata": {},
   "outputs": [
    {
     "data": {
      "text/plain": [
       "0.96"
      ]
     },
     "execution_count": 25,
     "metadata": {},
     "output_type": "execute_result"
    }
   ],
   "source": [
    "predicted = cross_validation.cross_val_predict(LogisticRegression(),fuzzy_clusters,y,cv=10)\n",
    "metrics.accuracy_score(iris.target,predicted)"
   ]
  },
  {
   "cell_type": "markdown",
   "metadata": {},
   "source": [
    "This is probably due to the fact that the 3 classes clearly have different value ranges for petal length & width so the cluster probs work very well in predicting flower class. Still pretty cool."
   ]
  },
  {
   "cell_type": "markdown",
   "metadata": {},
   "source": [
    "Model with just kmeans cluster values"
   ]
  },
  {
   "cell_type": "code",
   "execution_count": 26,
   "metadata": {},
   "outputs": [
    {
     "data": {
      "text/plain": [
       "0.94"
      ]
     },
     "execution_count": 26,
     "metadata": {},
     "output_type": "execute_result"
    }
   ],
   "source": [
    "predicted = cross_validation.cross_val_predict(LogisticRegression(),kmeans_clusters,y,cv=10)\n",
    "metrics.accuracy_score(iris.target,predicted)"
   ]
  },
  {
   "cell_type": "markdown",
   "metadata": {},
   "source": [
    "This is pretty cool. By just using the clusters we've reduced the rank of our data to 1 and still managed to achieve 94% accuracy "
   ]
  },
  {
   "cell_type": "markdown",
   "metadata": {},
   "source": [
    "Model with kmeans clusters in replacement of Petal Width/Length"
   ]
  },
  {
   "cell_type": "code",
   "execution_count": 27,
   "metadata": {},
   "outputs": [
    {
     "data": {
      "text/plain": [
       "0.94"
      ]
     },
     "execution_count": 27,
     "metadata": {},
     "output_type": "execute_result"
    }
   ],
   "source": [
    "newx = np.column_stack((kmeans_clusters,newd[:,2:]))\n",
    "predicted = cross_validation.cross_val_predict(LogisticRegression(),newx,y,cv=10)\n",
    "metrics.accuracy_score(iris.target,predicted)"
   ]
  },
  {
   "cell_type": "markdown",
   "metadata": {},
   "source": [
    "adding sepal width/length doesn't seem to improve the accuracy"
   ]
  },
  {
   "cell_type": "markdown",
   "metadata": {},
   "source": [
    "Model with fuzzy probs in addition to original variables"
   ]
  },
  {
   "cell_type": "code",
   "execution_count": 28,
   "metadata": {},
   "outputs": [
    {
     "data": {
      "text/plain": [
       "0.9533333333333334"
      ]
     },
     "execution_count": 28,
     "metadata": {},
     "output_type": "execute_result"
    }
   ],
   "source": [
    "newx = np.column_stack((fuzzy_clusters,newd))\n",
    "predicted = cross_validation.cross_val_predict(LogisticRegression(),newx,y,cv=10)\n",
    "metrics.accuracy_score(iris.target,predicted)"
   ]
  },
  {
   "cell_type": "markdown",
   "metadata": {},
   "source": [
    "Seems we can't improve our accuracy by just adding the cluster probabilities "
   ]
  },
  {
   "cell_type": "markdown",
   "metadata": {},
   "source": [
    "Model with kmeans cluster vals in addition to original variables"
   ]
  },
  {
   "cell_type": "code",
   "execution_count": 29,
   "metadata": {},
   "outputs": [
    {
     "data": {
      "text/plain": [
       "0.94"
      ]
     },
     "execution_count": 29,
     "metadata": {},
     "output_type": "execute_result"
    }
   ],
   "source": [
    "newx = np.column_stack((kmeans_clusters,newd))\n",
    "predicted = cross_validation.cross_val_predict(LogisticRegression(),newx,y,cv=10)\n",
    "metrics.accuracy_score(iris.target,predicted)"
   ]
  },
  {
   "cell_type": "markdown",
   "metadata": {},
   "source": [
    "Seems like adding features to the Kmeans model doesn't improve its accuracy"
   ]
  },
  {
   "cell_type": "markdown",
   "metadata": {},
   "source": [
    "### From our results we can see that interestingly enough, the model with just the fuzzy cluster probabilities generated from performing fuzzy kmeans on Petal Length and Petal Width resulted in the best predictive model. This is pretty cool because this means that even though we reduced our data matrix to 3 dimensions we were able to capture enough of the trend to give accurate predictions. This is probably due to the fact that Petal Length/Width have very clearly separated ranges of values for each class, making it easy to cluster the classes together using them. That being said, the results were pretty unexpected and cool."
   ]
  }
 ],
 "metadata": {
  "kernelspec": {
   "display_name": "Python 2",
   "language": "python",
   "name": "python2"
  },
  "language_info": {
   "codemirror_mode": {
    "name": "ipython",
    "version": 3
   },
   "file_extension": ".py",
   "mimetype": "text/x-python",
   "name": "python",
   "nbconvert_exporter": "python",
   "pygments_lexer": "ipython3",
   "version": "3.6.4"
  }
 },
 "nbformat": 4,
 "nbformat_minor": 2
}
