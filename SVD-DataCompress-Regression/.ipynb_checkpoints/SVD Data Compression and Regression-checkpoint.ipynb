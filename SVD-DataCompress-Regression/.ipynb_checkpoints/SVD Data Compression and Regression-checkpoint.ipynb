{
 "cells": [
  {
   "cell_type": "markdown",
   "metadata": {},
   "source": [
    "# Data Compression and Regression with Singular Value Decomposition"
   ]
  },
  {
   "cell_type": "markdown",
   "metadata": {},
   "source": [
    "## Line fitting revisit\n",
    "We'll compare The simple Least Squares model and SVD's performance in regression"
   ]
  },
  {
   "cell_type": "code",
   "execution_count": 494,
   "metadata": {
    "collapsed": true
   },
   "outputs": [],
   "source": [
    "Points = np.loadtxt('Points.csv', delimiter=',')"
   ]
  },
  {
   "cell_type": "markdown",
   "metadata": {},
   "source": [
    "We'll define our least squares equation"
   ]
  },
  {
   "cell_type": "code",
   "execution_count": 604,
   "metadata": {},
   "outputs": [
    {
     "name": "stdout",
     "output_type": "stream",
     "text": [
      "[ 1.48025058  1.94055053]\n",
      "a:\n",
      "1.48025058307\n",
      "b:\n",
      "1.94055053035\n"
     ]
    }
   ],
   "source": [
    "%matplotlib inline\n",
    "import os\n",
    "import pandas as pd\n",
    "import matplotlib.pyplot as plt\n",
    "import numpy as np\n",
    "import statsmodels.api as sm\n",
    "import statsmodels.formula.api as smf\n",
    "from scipy.stats import t as tdist\n",
    "import scipy.stats as stats\n",
    "import pylab\n",
    "from statsmodels.stats.outliers_influence import outlier_test\n",
    "from statsmodels.sandbox.regression.predstd import wls_prediction_std as pi\n",
    "\n",
    "def least_squares(data):\n",
    "    x = data[:,0]\n",
    "    n = x.shape[0]\n",
    "    ones = np.repeat(1,n)\n",
    "    newx = np.column_stack((ones,x))\n",
    "    xtx = np.linalg.inv((np.dot(newx.T,newx)))\n",
    "    y = data[:,1]\n",
    "    newy = np.dot(newx.T,y)\n",
    "    A = np.dot(xtx,newy)\n",
    "    return A\n",
    "\n",
    "x = Points[:,0]\n",
    "y = Points[:,1]\n",
    "n = x.shape[0]\n",
    "ones = np.repeat(1,n)\n",
    "Amat = np.column_stack((ones,x))\n",
    "\n",
    "\n",
    "A = least_squares(Points)\n",
    "print A\n",
    "print \"a:\"\n",
    "print A[0]\n",
    "print \"b:\"\n",
    "print A[1]\n"
   ]
  },
  {
   "cell_type": "markdown",
   "metadata": {},
   "source": [
    "This is the predicted line"
   ]
  },
  {
   "cell_type": "code",
   "execution_count": 605,
   "metadata": {},
   "outputs": [
    {
     "data": {
      "image/png": "[encoded data removed]",
      "text/plain": [
       "<matplotlib.figure.Figure at 0x7f7b57b84210>"
      ]
     },
     "metadata": {},
     "output_type": "display_data"
    }
   ],
   "source": [
    "plt.plot(x,A[0] + A[1]*x)\n",
    "plt.scatter(x,y,color='r')\n",
    "axes = plt.gca()\n",
    "axes.set_xlim([-3,3])\n",
    "plt.show()\n"
   ]
  },
  {
   "cell_type": "markdown",
   "metadata": {},
   "source": [
    "Now we'll try interpolating using SVD, approximating to one rank. First we must center the points about 0"
   ]
  },
  {
   "cell_type": "markdown",
   "metadata": {},
   "source": [
    "We subtract each point from the average to center about 0"
   ]
  },
  {
   "cell_type": "code",
   "execution_count": 606,
   "metadata": {
    "collapsed": true
   },
   "outputs": [],
   "source": [
    "xavg = np.mean(x)\n",
    "yavg = np.mean(y)\n",
    "avg = np.column_stack((xavg,yavg))\n",
    "CP = Points - avg \n"
   ]
  },
  {
   "cell_type": "markdown",
   "metadata": {},
   "source": [
    "We'll use np.linalg.svd to decompose the data matrix"
   ]
  },
  {
   "cell_type": "code",
   "execution_count": 607,
   "metadata": {
    "scrolled": true
   },
   "outputs": [
    {
     "name": "stdout",
     "output_type": "stream",
     "text": [
      "[[-0.50379919 -0.99461092]\n",
      " [ 0.1784621   0.35232361]\n",
      " [-0.74428356 -1.46938022]\n",
      " [-1.17646888 -2.32260953]\n",
      " [-0.9564613  -1.88826597]\n",
      " [-1.88082975 -3.71317354]\n",
      " [-0.1734871  -0.34250187]\n",
      " [-1.24895109 -2.46570543]\n",
      " [-0.56260792 -1.11071235]\n",
      " [-0.3956784  -0.7811566 ]\n",
      " [ 0.42324299  0.83557519]\n",
      " [ 0.70034756  1.38264084]\n",
      " [ 1.55998282  3.07975079]\n",
      " [ 0.27313804  0.53923485]\n",
      " [ 1.43213394  2.82734887]\n",
      " [-1.34515357 -2.65563038]\n",
      " [-0.12483179 -0.24644553]\n",
      " [-0.00605212 -0.01194822]\n",
      " [-1.82418803 -3.60135027]\n",
      " [-0.67664885 -1.33585435]\n",
      " [ 0.72074433  1.42290858]\n",
      " [ 1.35484068  2.67475489]\n",
      " [ 1.46422151  2.89069682]\n",
      " [ 0.58148689  1.14798361]\n",
      " [ 0.11094459  0.21902913]\n",
      " [ 0.90892051  1.79440993]\n",
      " [ 2.20952835  4.36209721]\n",
      " [ 0.80893603  1.59701848]\n",
      " [-0.22326365 -0.44077177]\n",
      " [-0.88422515 -1.74565584]]\n"
     ]
    }
   ],
   "source": [
    "\n",
    "def svdtransform(data,rank):\n",
    "    U, s, V = np.linalg.svd(data,full_matrices=True)\n",
    "    Sred = np.diag(s)[:rank,:rank]\n",
    "    newU = U[:,:rank]\n",
    "    newV = V[:rank,:]\n",
    "    end = np.dot(newU,np.dot(Sred,newV))\n",
    "    return [end,[newU,Sred,newV]]\n",
    "\n",
    "CP1 = svdtransform(CP,1)[0]\n",
    "print CP1"
   ]
  },
  {
   "cell_type": "markdown",
   "metadata": {},
   "source": [
    "CP1 has rank-1 and approximates CP. This means all rows of CP **approximately** lie on the line spanned by rows of CP1. If we shift this line back to the centroid of CP, that is the best fitting line obtained from SVD.\n",
    "\n",
    "We'll plot the least squares line in black and the SVD one in blue"
   ]
  },
  {
   "cell_type": "code",
   "execution_count": 608,
   "metadata": {},
   "outputs": [
    {
     "name": "stdout",
     "output_type": "stream",
     "text": [
      "(30, 2)\n",
      "[ 1.48415788  1.97422097]\n",
      "slope:\n",
      "1.97422097254\n"
     ]
    },
    {
     "data": {
      "image/png": "[encoded data removed]",
      "text/plain": [
       "<matplotlib.figure.Figure at 0x7f7b58159c90>"
      ]
     },
     "metadata": {},
     "output_type": "display_data"
    }
   ],
   "source": [
    "SVDnew = CP1 + avg\n",
    "newSVD = least_squares(SVDnew)\n",
    "print SVDnew.shape\n",
    "print newSVD\n",
    "print \"slope:\"\n",
    "print newSVD[1]\n",
    "plt.plot(x,A[0] + A[1]*x, color='black')\n",
    "plt.plot(x,newSVD[0] + newSVD[1]*x, color='blue')\n",
    "plt.scatter(x,y, color='r')\n",
    "axes = plt.gca()\n",
    "axes.set_xlim([-3,3])\n",
    "plt.show()"
   ]
  },
  {
   "cell_type": "markdown",
   "metadata": {},
   "source": [
    "## Data compression. Follow Section 5.2 of notes.\n",
    "We want to feed data to a clustering algorithm that outputs a fixed number of cluster centers. Because d is large, however, the algorithm takes too long or is unstable, so we want to reduce the number of variables using SVD."
   ]
  },
  {
   "cell_type": "markdown",
   "metadata": {},
   "source": [
    "(6) Data.csv stores certain information of 1000 people. Each row is a person. First load this to a numpy array, call it Data"
   ]
  },
  {
   "cell_type": "code",
   "execution_count": 609,
   "metadata": {
    "collapsed": true
   },
   "outputs": [],
   "source": [
    "df = pd.read_csv('Data.csv')\n",
    "Data = df.values"
   ]
  },
  {
   "cell_type": "markdown",
   "metadata": {},
   "source": [
    "We center the data the generate the matrix E."
   ]
  },
  {
   "cell_type": "code",
   "execution_count": 610,
   "metadata": {
    "collapsed": true
   },
   "outputs": [],
   "source": [
    "c = np.zeros((1, Data.shape[1]))\n",
    "for i in range(Data.shape[1]):\n",
    "    c[:,i] = np.mean(Data[:,i])\n",
    "E = Data - c"
   ]
  },
  {
   "cell_type": "markdown",
   "metadata": {},
   "source": [
    "(8) Compute SVD of E. Print out the singular values. r is the number of significant singular values"
   ]
  },
  {
   "cell_type": "code",
   "execution_count": 611,
   "metadata": {},
   "outputs": [
    {
     "name": "stdout",
     "output_type": "stream",
     "text": [
      "[  7.67491272e+02   5.73349608e+02   5.11434691e+02   4.69839893e+02\n",
      "   3.83176630e-01   3.74915887e-01   3.68655942e-01   3.62932457e-01\n",
      "   3.60040997e-01   3.58066061e-01   3.56793628e-01   3.53086607e-01\n",
      "   3.51340665e-01   3.45397303e-01   3.42425155e-01   3.41950776e-01\n",
      "   3.38452473e-01   3.37458764e-01   3.31685056e-01   3.29391513e-01\n",
      "   3.26053416e-01   3.24026731e-01   3.22288346e-01   3.19546693e-01\n",
      "   3.18178747e-01   3.15201749e-01   3.14752887e-01   3.09648003e-01\n",
      "   3.08098744e-01   3.07654379e-01   3.05365231e-01   3.02703294e-01\n",
      "   3.01128010e-01   2.97851875e-01   2.93824122e-01   2.91302485e-01\n",
      "   2.90285186e-01   2.87647517e-01   2.84485176e-01   2.82220539e-01\n",
      "   2.79129065e-01   2.78253774e-01   2.73850603e-01   2.70496843e-01\n",
      "   2.69182527e-01   2.67998040e-01   2.62406410e-01   2.56155668e-01\n",
      "   2.54085077e-01   2.48958819e-01]\n",
      "r:\n",
      "4\n"
     ]
    }
   ],
   "source": [
    "SVDe = U, s, V = np.linalg.svd(E,full_matrices=True)\n",
    "print SVDe[1]\n",
    "#to pick r, I choose the numbers that are multiplied by e^2, bigger than 1.5\n",
    "r = 4\n",
    "print \"r:\"\n",
    "print r"
   ]
  },
  {
   "cell_type": "markdown",
   "metadata": {},
   "source": [
    "(9) Generate matrices $Y, \\hat V (\\text{name it HatV})$ and the center $c$."
   ]
  },
  {
   "cell_type": "code",
   "execution_count": 612,
   "metadata": {},
   "outputs": [
    {
     "name": "stdout",
     "output_type": "stream",
     "text": [
      "(1, 50)\n",
      "(999, 4)\n"
     ]
    }
   ],
   "source": [
    "c = c\n",
    "print c.shape\n",
    "V = SVDe[2].T\n",
    "HatV = V[:,:4]\n",
    "Y = np.dot(E,HatV)\n",
    "print Y.shape"
   ]
  },
  {
   "cell_type": "markdown",
   "metadata": {},
   "source": [
    "(10) If everything goes smoothly, you can use the following command to Store $Y, \\hat V, c$ to \"compressedData.csv\". This file should be uploaded to github. "
   ]
  },
  {
   "cell_type": "code",
   "execution_count": 613,
   "metadata": {
    "collapsed": true
   },
   "outputs": [],
   "source": [
    "import csv\n",
    "arr = [Y,HatV,c]\n",
    "b = open('compressedData.csv', 'w')\n",
    "a = csv.writer(b)\n",
    "a.writerows(arr)\n",
    "b.close()"
   ]
  },
  {
   "cell_type": "markdown",
   "metadata": {},
   "source": [
    "(11) You can see that this file size is smaller than \"Data.csv\". What is the compression rate?"
   ]
  },
  {
   "cell_type": "code",
   "execution_count": 614,
   "metadata": {},
   "outputs": [
    {
     "name": "stdout",
     "output_type": "stream",
     "text": [
      "compression rate:\n",
      "21.9957152851\n"
     ]
    }
   ],
   "source": [
    "Datasize = os.path.getsize('Data.csv')\n",
    "CompressedSize = os.path.getsize('compressedData.csv')\n",
    "compression_rate = float(Datasize)/CompressedSize\n",
    "print \"compression rate:\"\n",
    "print compression_rate"
   ]
  },
  {
   "cell_type": "markdown",
   "metadata": {},
   "source": [
    "(12) Use $Y, \\hat V, c$ to get the approximate Data matrix. Call the approximate Dapprox. Print the first row of Data and Dapprox to compare."
   ]
  },
  {
   "cell_type": "code",
   "execution_count": 615,
   "metadata": {},
   "outputs": [
    {
     "name": "stdout",
     "output_type": "stream",
     "text": [
      "[ 13.88920846   7.55184427   1.56570207  18.08927187  15.41027038\n",
      "   5.60654445  -4.10417655   1.98813367   2.12650423   8.25412217\n",
      "   4.47277933  13.80831555  22.02737968  10.38722891  12.8439584\n",
      "  25.72864753   7.52728216   6.56139309   0.60914358   8.28345557\n",
      "   6.50856691  13.22217789   3.49596768  12.02356645   5.08554232\n",
      "   2.71997881  12.09083102  12.43785814   0.19101442  14.23913008\n",
      "  20.63549584   9.65833754  14.66303288  13.38296868  12.7456401\n",
      "  16.23909504  19.61275957  11.52332124  11.55575261  10.10942748\n",
      "   9.3927293   15.12374609  12.55939865  23.80683406   1.92264404\n",
      "  16.13945283   2.28958474   6.96162151   7.61053357   9.11203015]\n",
      "[ 13.89699576   7.54422916   1.55660721  18.09519279  15.42697701\n",
      "   5.61861897  -4.08078901   1.97562859   2.12505678   8.27530745\n",
      "   4.46614872  13.80734028  22.03308647  10.41052338  12.86090856\n",
      "  25.71511414   7.51933456   6.5447508    0.62729312   8.27713096\n",
      "   6.5099164   13.21622887   3.48444408  12.03546668   5.0820517\n",
      "   2.72326855  12.08074674  12.43940599   0.19117734  14.23539686\n",
      "  20.6414309    9.67123657  14.66445868  13.37288417  12.75739981\n",
      "  16.26572528  19.61587816  11.50581048  11.54385467  10.10544123\n",
      "   9.38558713  15.1322506   12.56005835  23.81425675   1.92766202\n",
      "  16.14977998   2.30629361   6.95812353   7.62183352   9.1315864 ]\n"
     ]
    }
   ],
   "source": [
    "Dapprox = np.dot(Y,HatV.T) + c\n",
    "print Dapprox[0,:]\n",
    "print Data[0,:]"
   ]
  },
  {
   "cell_type": "markdown",
   "metadata": {},
   "source": [
    "**Finally, we probably will do more projects on SVD using this one.**"
   ]
  },
  {
   "cell_type": "markdown",
   "metadata": {},
   "source": [
    "## Bonus question: Find the maximum value of a function on an interval [a,b] using python. \n",
    "\n",
    "You can use $f(x)=\\frac{1}{1+X^2}$ on [-0.5,1] as an example"
   ]
  },
  {
   "cell_type": "code",
   "execution_count": 616,
   "metadata": {},
   "outputs": [
    {
     "name": "stdout",
     "output_type": "stream",
     "text": [
      "max value and corresponding x value:\n",
      "[0.9999999517081842, 0.00021975399451279175]\n"
     ]
    },
    {
     "data": {
      "image/png": "[encoded data removed]",
      "text/plain": [
       "<matplotlib.figure.Figure at 0x7f7b57b29790>"
      ]
     },
     "metadata": {},
     "output_type": "display_data"
    }
   ],
   "source": [
    "import random\n",
    "def f(x):\n",
    "    return 1/(1 + x**2)\n",
    "\n",
    "def deriv(x):\n",
    "    return -(2*x/((x**2 + 1)**2))\n",
    "\n",
    "def grad_ascent(func,deriv,ran,alpha):\n",
    "    prevx = random.uniform(ran[0], ran[1])\n",
    "    x = random.uniform(ran[0], ran[1])/2\n",
    "    l = []\n",
    "    m = []\n",
    "    while abs(func(x) - func(prevx)) > 0.000000001:\n",
    "        prevx = x\n",
    "        x = x + alpha*deriv(x)\n",
    "        l.append(func(x))\n",
    "        m.append(x)\n",
    "    return [x,l,m,func(x)]\n",
    "\n",
    "nx = np.linspace(-0.5, 1, num=10)\n",
    "grad = grad_ascent(f,deriv,[-0.5,1],0.005)\n",
    "print \"max value and corresponding x value:\"\n",
    "print [grad[3],grad[0]]\n",
    "plt.plot(nx,f(nx), color='black')\n",
    "plt.scatter(grad[0],grad[3],color='r')\n",
    "plt.show()"
   ]
  }
 ],
 "metadata": {
  "kernelspec": {
   "display_name": "Python 2",
   "language": "python",
   "name": "python2"
  },
  "language_info": {
   "codemirror_mode": {
    "name": "ipython",
    "version": 2
   },
   "file_extension": ".py",
   "mimetype": "text/x-python",
   "name": "python",
   "nbconvert_exporter": "python",
   "pygments_lexer": "ipython2",
   "version": "2.7.14"
  }
 },
 "nbformat": 4,
 "nbformat_minor": 2
}
