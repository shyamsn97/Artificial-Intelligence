{
 "cells": [
  {
   "cell_type": "code",
   "execution_count": 1,
   "metadata": {},
   "outputs": [
    {
     "name": "stderr",
     "output_type": "stream",
     "text": [
      "/home/shyam/anaconda3/envs/py39/lib/python3.9/site-packages/scipy/__init__.py:146: UserWarning: A NumPy version >=1.16.5 and <1.23.0 is required for this version of SciPy (detected version 1.23.3\n",
      "  warnings.warn(f\"A NumPy version >={np_minversion} and <{np_maxversion}\"\n",
      "2023-02-19 16:39:46.060457: I tensorflow/core/platform/cpu_feature_guard.cc:193] This TensorFlow binary is optimized with oneAPI Deep Neural Network Library (oneDNN) to use the following CPU instructions in performance-critical operations:  AVX2 FMA\n",
      "To enable them in other operations, rebuild TensorFlow with the appropriate compiler flags.\n",
      "2023-02-19 16:39:46.681602: W tensorflow/compiler/xla/stream_executor/platform/default/dso_loader.cc:64] Could not load dynamic library 'libnvinfer.so.7'; dlerror: libnvinfer.so.7: cannot open shared object file: No such file or directory; LD_LIBRARY_PATH: :/home/shyam/.mujoco/mujoco210/bin:/usr/lib/nvidia:/home/shyam/.mujoco/mujoco210/bin:/usr/lib/nvidia\n",
      "2023-02-19 16:39:46.681654: W tensorflow/compiler/xla/stream_executor/platform/default/dso_loader.cc:64] Could not load dynamic library 'libnvinfer_plugin.so.7'; dlerror: libnvinfer_plugin.so.7: cannot open shared object file: No such file or directory; LD_LIBRARY_PATH: :/home/shyam/.mujoco/mujoco210/bin:/usr/lib/nvidia:/home/shyam/.mujoco/mujoco210/bin:/usr/lib/nvidia\n",
      "2023-02-19 16:39:46.681659: W tensorflow/compiler/tf2tensorrt/utils/py_utils.cc:38] TF-TRT Warning: Cannot dlopen some TensorRT libraries. If you would like to use Nvidia GPU with TensorRT, please make sure the missing libraries mentioned above are installed properly.\n"
     ]
    }
   ],
   "source": [
    "import numpy as np\n",
    "import matplotlib.pyplot as plt\n",
    "from sklearn import datasets\n",
    "from keras.datasets import mnist\n",
    "import seaborn as sns\n",
    "import pandas as pd\n",
    "import sys\n",
    "from tqdm import tqdm\n",
    "\n",
    "from barebones_ai.supervised.nn import DNN\n",
    "from barebones_ai.supervised.nn import SGD\n",
    "from barebones_ai.supervised.nn import Dense\n",
    "from barebones_ai.supervised.nn import Input\n",
    "from barebones_ai.supervised.nn import Softmax\n",
    "from barebones_ai import utils\n",
    "\n",
    "import copy\n",
    "\n",
    "%matplotlib inline"
   ]
  },
  {
   "cell_type": "markdown",
   "metadata": {},
   "source": [
    "# AutoEncoder Example using DNN"
   ]
  },
  {
   "cell_type": "markdown",
   "metadata": {},
   "source": [
    "## Demonstrated using mnist data"
   ]
  },
  {
   "cell_type": "code",
   "execution_count": 2,
   "metadata": {},
   "outputs": [],
   "source": [
    "(X_train_digits, y_train), (X_test_digits, y_test) = mnist.load_data()"
   ]
  },
  {
   "cell_type": "code",
   "execution_count": 3,
   "metadata": {},
   "outputs": [],
   "source": [
    "X_train = np.array(list(map(lambda x: x.flatten()/255,X_train_digits)))\n",
    "X_test = np.array(list(map(lambda x: x.flatten()/255,X_test_digits)))"
   ]
  },
  {
   "cell_type": "code",
   "execution_count": 4,
   "metadata": {},
   "outputs": [],
   "source": [
    "class AutoEncoder():\n",
    "    \"\"\"\n",
    "    An auto encoder is a semi supervised learning algorithm that attempts to reconstruct input using a smaller feature space\n",
    "    Parameters:\n",
    "        X: numpy array(): data matrix\n",
    "        encoder: DNN to reduce dimensions of matrix\n",
    "        decoder: DNN to recreate the original data from the encoded data\n",
    "        full_model: DNN that combines both the encoder and decoder objects, used to train both\n",
    "    \"\"\"\n",
    "    def __init__(self,X):\n",
    "        \n",
    "        self.X = X\n",
    "        self.encoder = None\n",
    "        self.decoder = None\n",
    "        self.full_model = DNN()\n",
    "        self.full_model.add(Input(X))\n",
    "        self.count = 0\n",
    "        \n",
    "    def create_encoder(self,layers=[Dense(32),Dense(512)],encoded_dims=2):\n",
    "        \n",
    "        self.count = 0\n",
    "        for layer in layers:\n",
    "            self.full_model.add(layer)\n",
    "            self.count += 1\n",
    "            \n",
    "        self.full_model.add(Dense(encoded_dims))\n",
    "        \n",
    "    def create_decoder(self,layers=[Dense(32)]):\n",
    "        \n",
    "        if len(layers) > 0:\n",
    "            for layer in layers:\n",
    "                self.full_model.add(layer)\n",
    "            \n",
    "        self.full_model.add(Dense(self.X.shape[-1]))\n",
    "    \n",
    "    def finalize_encoder_decoder(self):\n",
    "        \n",
    "        count = 0\n",
    "        layer = self.full_model.head.getNext()\n",
    "        self.encoder = DNN()\n",
    "        self.decoder = DNN()\n",
    "        self.encoder.add(Input(self.X))\n",
    "        \n",
    "        while layer != None:\n",
    "            print(layer)\n",
    "            newlay = copy.deepcopy(layer)\n",
    "            if count <= self.count:\n",
    "                self.encoder.add(newlay)\n",
    "                self.encoder.outlayer.update(newlay.getWeights())\n",
    "                if count == a.count:\n",
    "                    self.encoder.outlayer.next = None\n",
    "                    self.decoder.add(Input(self.encoder.outlayer.output))\n",
    "\n",
    "            else:\n",
    "                self.decoder.add(newlay)\n",
    "                self.decoder.outlayer.update(newlay.getWeights())\n",
    "            layer = layer.getNext()\n",
    "            count += 1\n",
    "            \n",
    "    def train(self,learning_rate=0.0001,epochs=100,loss=\"mse\"):\n",
    "        \n",
    "        self.full_model.fit(self.X,self.X,lr=learning_rate,epochs=epochs,loss=loss)\n",
    "        self.finalize_encoder_decoder()\n",
    "    \n",
    "    def predict(self,X):\n",
    "        \n",
    "        encoded = self.encoder.predict(X)\n",
    "        decoded = self.decoder.predict(encoded)\n",
    "        return encoded,decoded, self.full_model.predict(X)\n"
   ]
  },
  {
   "cell_type": "code",
   "execution_count": 5,
   "metadata": {},
   "outputs": [],
   "source": [
    "a = AutoEncoder(X_train[:200])\n",
    "a.create_encoder()\n",
    "a.create_decoder()"
   ]
  },
  {
   "cell_type": "code",
   "execution_count": 6,
   "metadata": {
    "scrolled": true
   },
   "outputs": [
    {
     "data": {
      "text/plain": [
       "<matplotlib.image.AxesImage at 0x7f7baacbfca0>"
      ]
     },
     "execution_count": 6,
     "metadata": {},
     "output_type": "execute_result"
    },
    {
     "data": {
      "image/png": "[encoded data removed]",
      "text/plain": [
       "<Figure size 432x288 with 1 Axes>"
      ]
     },
     "metadata": {
      "needs_background": "light"
     },
     "output_type": "display_data"
    }
   ],
   "source": [
    "prediction = a.full_model.predict(X_train[0].reshape(1,784)).reshape(28,28)\n",
    "plt.imshow(prediction)"
   ]
  },
  {
   "cell_type": "code",
   "execution_count": 7,
   "metadata": {},
   "outputs": [
    {
     "name": "stderr",
     "output_type": "stream",
     "text": [
      "MSE 0.06429422548351559: 100%|█████████████████████████████████████████| 500/500 [01:53<00:00,  4.40it/s]"
     ]
    },
    {
     "name": "stdout",
     "output_type": "stream",
     "text": [
      "Dense: activation: sigmoid, weight shape: (784, 32), output shape: (None, 32), parameters: 25088\n",
      "-----------------------------------------------------------------\n",
      "\n",
      "Dense: activation: sigmoid, weight shape: (32, 512), output shape: (None, 512), parameters: 16384\n",
      "-----------------------------------------------------------------\n",
      "\n",
      "Dense: activation: sigmoid, weight shape: (512, 2), output shape: (None, 2), parameters: 1024\n",
      "-----------------------------------------------------------------\n",
      "\n",
      "Dense: activation: sigmoid, weight shape: (2, 32), output shape: (None, 32), parameters: 64\n",
      "-----------------------------------------------------------------\n",
      "\n",
      "Dense: activation: sigmoid, weight shape: (32, 784), output shape: (None, 784), parameters: 25088\n",
      "-----------------------------------------------------------------\n",
      "\n"
     ]
    },
    {
     "name": "stderr",
     "output_type": "stream",
     "text": [
      "\n"
     ]
    }
   ],
   "source": [
    "a.train(epochs=500,learning_rate=0.004,loss=\"mse\")"
   ]
  },
  {
   "cell_type": "code",
   "execution_count": 8,
   "metadata": {},
   "outputs": [
    {
     "data": {
      "text/plain": [
       "<matplotlib.image.AxesImage at 0x7f7ba744a970>"
      ]
     },
     "execution_count": 8,
     "metadata": {},
     "output_type": "execute_result"
    },
    {
     "data": {
      "image/png": "[encoded data removed]",
      "text/plain": [
       "<Figure size 432x288 with 1 Axes>"
      ]
     },
     "metadata": {
      "needs_background": "light"
     },
     "output_type": "display_data"
    }
   ],
   "source": [
    "plt.imshow(a.predict(X_train[0])[2].reshape(28,28))"
   ]
  },
  {
   "cell_type": "code",
   "execution_count": 9,
   "metadata": {},
   "outputs": [
    {
     "data": {
      "text/plain": [
       "<matplotlib.image.AxesImage at 0x7f7ba73b5fd0>"
      ]
     },
     "execution_count": 9,
     "metadata": {},
     "output_type": "execute_result"
    },
    {
     "data": {
      "image/png": "[encoded data removed]",
      "text/plain": [
       "<Figure size 432x288 with 1 Axes>"
      ]
     },
     "metadata": {
      "needs_background": "light"
     },
     "output_type": "display_data"
    }
   ],
   "source": [
    "plt.imshow(X_train[0].reshape(28,28))"
   ]
  }
 ],
 "metadata": {
  "kernelspec": {
   "display_name": "Python [conda env:py39] *",
   "language": "python",
   "name": "conda-env-py39-py"
  },
  "language_info": {
   "codemirror_mode": {
    "name": "ipython",
    "version": 3
   },
   "file_extension": ".py",
   "mimetype": "text/x-python",
   "name": "python",
   "nbconvert_exporter": "python",
   "pygments_lexer": "ipython3",
   "version": "3.9.0"
  }
 },
 "nbformat": 4,
 "nbformat_minor": 4
}
