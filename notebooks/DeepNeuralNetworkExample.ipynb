{
 "cells": [
  {
   "cell_type": "code",
   "execution_count": 22,
   "metadata": {},
   "outputs": [],
   "source": [
    "import numpy as np\n",
    "import matplotlib.pyplot as plt\n",
    "from sklearn import datasets\n",
    "import seaborn as sns\n",
    "import pandas as pd\n",
    "import sys\n",
    "from tqdm import tqdm\n",
    "\n",
    "from barebones_ai.supervised.nn import SGD\n",
    "from barebones_ai.supervised.nn import Dense\n",
    "from barebones_ai.supervised.nn import Input\n",
    "from barebones_ai.supervised.nn import Softmax\n",
    "from barebones_ai.supervised.nn import DNN\n",
    "from barebones_ai import utils\n",
    "\n",
    "\n",
    "%matplotlib inline"
   ]
  },
  {
   "cell_type": "markdown",
   "metadata": {},
   "source": [
    "# DeepNeuralNetwork "
   ]
  },
  {
   "cell_type": "markdown",
   "metadata": {},
   "source": [
    "## Regression"
   ]
  },
  {
   "cell_type": "markdown",
   "metadata": {},
   "source": [
    "### approximate sin function from random values."
   ]
  },
  {
   "cell_type": "code",
   "execution_count": 6,
   "metadata": {},
   "outputs": [],
   "source": [
    "x = np.linspace(-1, 1, 1000)"
   ]
  },
  {
   "cell_type": "code",
   "execution_count": 7,
   "metadata": {},
   "outputs": [],
   "source": [
    "y = np.sin(x)**2"
   ]
  },
  {
   "cell_type": "code",
   "execution_count": 8,
   "metadata": {},
   "outputs": [],
   "source": [
    "df = pd.DataFrame({'x':x,'y':y})"
   ]
  },
  {
   "cell_type": "code",
   "execution_count": 9,
   "metadata": {
    "scrolled": true
   },
   "outputs": [
    {
     "name": "stdout",
     "output_type": "stream",
     "text": [
      "----------------------------- Model -----------------------------\n",
      "Input: shape: (None, 1)\n",
      "-----------------------------------------------------------------\n",
      "Dense: activation: sigmoid, weight shape: (1, 24), output shape: (None, 24), parameters: 24\n",
      "-----------------------------------------------------------------\n",
      "Dense: activation: relu, weight shape: (24, 48), output shape: (None, 48), parameters: 1152\n",
      "-----------------------------------------------------------------\n",
      "Dense: activation: sigmoid, weight shape: (48, 24), output shape: (None, 24), parameters: 1152\n",
      "-----------------------------------------------------------------\n",
      "Dense: activation: relu, weight shape: (24, 12), output shape: (None, 12), parameters: 288\n",
      "-----------------------------------------------------------------\n",
      "Dense: activation: linear, weight shape: (12, 1), output shape: (None, 1), parameters: 12\n",
      "-----------------------------------------------------------------\n",
      "\n"
     ]
    }
   ],
   "source": [
    "x = x.reshape(x.shape[0],1)\n",
    "dnn = DNN()\n",
    "dnn.add(Input(x))\n",
    "dnn.add(Dense(24,activation=\"sigmoid\"))\n",
    "dnn.add(Dense(48,activation=\"relu\"))\n",
    "dnn.add(Dense(24,activation=\"sigmoid\"))\n",
    "dnn.add(Dense(12,activation=\"relu\"))\n",
    "dnn.add(Dense(1,activation=\"linear\"))\n",
    "print(dnn)"
   ]
  },
  {
   "cell_type": "code",
   "execution_count": 12,
   "metadata": {},
   "outputs": [
    {
     "name": "stderr",
     "output_type": "stream",
     "text": [
      "MSE 0.09951565869810051: 100%|█████████████████████████████████████████| 250/250 [01:04<00:00,  3.86it/s]\n"
     ]
    }
   ],
   "source": [
    "dnn.fit(x,y,lr=0.001,epochs=250)"
   ]
  },
  {
   "cell_type": "code",
   "execution_count": 13,
   "metadata": {},
   "outputs": [],
   "source": [
    "predictions = dnn.predict(x)"
   ]
  },
  {
   "cell_type": "code",
   "execution_count": 14,
   "metadata": {},
   "outputs": [],
   "source": [
    "predictions = predictions.reshape(predictions.shape[0],)"
   ]
  },
  {
   "cell_type": "code",
   "execution_count": 15,
   "metadata": {},
   "outputs": [],
   "source": [
    "newd = pd.DataFrame({'x':df[\"x\"],'y':predictions})"
   ]
  },
  {
   "cell_type": "code",
   "execution_count": 16,
   "metadata": {},
   "outputs": [
    {
     "data": {
      "text/plain": [
       "0     0.708073\n",
       "1     0.706251\n",
       "2     0.704426\n",
       "3     0.702597\n",
       "4     0.700765\n",
       "5     0.698930\n",
       "6     0.697092\n",
       "7     0.695250\n",
       "8     0.693406\n",
       "9     0.691558\n",
       "10    0.689707\n",
       "11    0.687854\n",
       "12    0.685997\n",
       "13    0.684137\n",
       "14    0.682274\n",
       "15    0.680408\n",
       "16    0.678540\n",
       "17    0.676668\n",
       "18    0.674794\n",
       "19    0.672917\n",
       "Name: y, dtype: float64"
      ]
     },
     "execution_count": 16,
     "metadata": {},
     "output_type": "execute_result"
    }
   ],
   "source": [
    "df[\"y\"][:20]"
   ]
  },
  {
   "cell_type": "code",
   "execution_count": 17,
   "metadata": {},
   "outputs": [
    {
     "data": {
      "text/plain": [
       "0     0.694623\n",
       "1     0.692909\n",
       "2     0.691193\n",
       "3     0.689476\n",
       "4     0.687757\n",
       "5     0.686037\n",
       "6     0.684316\n",
       "7     0.682593\n",
       "8     0.680868\n",
       "9     0.679142\n",
       "10    0.677415\n",
       "11    0.675686\n",
       "12    0.673956\n",
       "13    0.672224\n",
       "14    0.670491\n",
       "15    0.668756\n",
       "16    0.667020\n",
       "17    0.665283\n",
       "18    0.663544\n",
       "19    0.661804\n",
       "Name: y, dtype: float64"
      ]
     },
     "execution_count": 17,
     "metadata": {},
     "output_type": "execute_result"
    }
   ],
   "source": [
    "newd[\"y\"][:20]"
   ]
  },
  {
   "cell_type": "markdown",
   "metadata": {},
   "source": [
    "Predicted after 1000 epochs"
   ]
  },
  {
   "cell_type": "code",
   "execution_count": 18,
   "metadata": {},
   "outputs": [
    {
     "data": {
      "text/plain": [
       "<seaborn.axisgrid.FacetGrid at 0x7f26ac551970>"
      ]
     },
     "execution_count": 18,
     "metadata": {},
     "output_type": "execute_result"
    },
    {
     "data": {
      "image/png": "[encoded data removed]",
      "text/plain": [
       "<Figure size 360x360 with 1 Axes>"
      ]
     },
     "metadata": {
      "needs_background": "light"
     },
     "output_type": "display_data"
    }
   ],
   "source": [
    "sns.lmplot(x='x', y='y',data=newd,\n",
    "           fit_reg=False, # No regression line\n",
    "          )  "
   ]
  },
  {
   "cell_type": "markdown",
   "metadata": {},
   "source": [
    "Original sin wave"
   ]
  },
  {
   "cell_type": "code",
   "execution_count": 19,
   "metadata": {
    "scrolled": true
   },
   "outputs": [
    {
     "data": {
      "text/plain": [
       "<seaborn.axisgrid.FacetGrid at 0x7f26ac4b7cd0>"
      ]
     },
     "execution_count": 19,
     "metadata": {},
     "output_type": "execute_result"
    },
    {
     "data": {
      "image/png": "[encoded data removed]",
      "text/plain": [
       "<Figure size 360x360 with 1 Axes>"
      ]
     },
     "metadata": {
      "needs_background": "light"
     },
     "output_type": "display_data"
    }
   ],
   "source": [
    "sns.lmplot(x='x', y='y',data=df,\n",
    "           fit_reg=False, # No regression line\n",
    "          )   "
   ]
  },
  {
   "cell_type": "markdown",
   "metadata": {},
   "source": [
    "## Classification"
   ]
  },
  {
   "cell_type": "markdown",
   "metadata": {},
   "source": [
    "## Iris"
   ]
  },
  {
   "cell_type": "code",
   "execution_count": 20,
   "metadata": {},
   "outputs": [],
   "source": [
    "iris = datasets.load_iris()\n",
    "X = iris.data\n",
    "y = iris.target\n",
    "indices = np.arange(y.shape[0])\n",
    "np.random.shuffle(indices)"
   ]
  },
  {
   "cell_type": "code",
   "execution_count": 23,
   "metadata": {},
   "outputs": [],
   "source": [
    "X = X[indices]\n",
    "y = y[indices]\n",
    "X_train, X_test, y_train, y_test = utils.cross_val_split_set(X,0.1,y)\n",
    "y_train = np.array(pd.get_dummies(y_train))"
   ]
  },
  {
   "cell_type": "code",
   "execution_count": 25,
   "metadata": {},
   "outputs": [
    {
     "name": "stdout",
     "output_type": "stream",
     "text": [
      "----------------------------- Model -----------------------------\n",
      "Input: shape: (None, 4)\n",
      "-----------------------------------------------------------------\n",
      "Dense: activation: relu, weight shape: (4, 24), output shape: (None, 24), parameters: 96\n",
      "-----------------------------------------------------------------\n",
      "Dense: activation: relu, weight shape: (24, 48), output shape: (None, 48), parameters: 1152\n",
      "-----------------------------------------------------------------\n",
      "Dense: activation: sigmoid, weight shape: (48, 16), output shape: (None, 16), parameters: 768\n",
      "-----------------------------------------------------------------\n",
      "Dense: activation: softmax, weight shape: (16, 3), output shape: (None, 3), parameters: 48\n",
      "-----------------------------------------------------------------\n",
      "\n"
     ]
    }
   ],
   "source": [
    "dnn = DNN()\n",
    "dnn.add(Input(X_train))\n",
    "dnn.add(Dense(24,activation=\"relu\"))\n",
    "dnn.add(Dense(48,activation=\"relu\"))\n",
    "dnn.add(Dense(16,activation=\"sigmoid\"))\n",
    "dnn.add(Dense(3,activation=\"softmax\"))\n",
    "print(dnn)"
   ]
  },
  {
   "cell_type": "code",
   "execution_count": 27,
   "metadata": {
    "scrolled": true
   },
   "outputs": [
    {
     "name": "stderr",
     "output_type": "stream",
     "text": [
      "Cross Entropy 0.19095771952700238: 100%|███████████████████████████████| 250/250 [00:07<00:00, 35.61it/s]\n"
     ]
    }
   ],
   "source": [
    "dnn.fit(X_train,y_train,lr=0.001,epochs=250,loss=\"cross_entropy\")"
   ]
  },
  {
   "cell_type": "markdown",
   "metadata": {},
   "source": [
    "### Train Acc"
   ]
  },
  {
   "cell_type": "code",
   "execution_count": 29,
   "metadata": {},
   "outputs": [
    {
     "data": {
      "text/plain": [
       "0.9777777777777777"
      ]
     },
     "execution_count": 29,
     "metadata": {},
     "output_type": "execute_result"
    }
   ],
   "source": [
    "utils.calc_accuracy(dnn.predict(X_train),y_train)"
   ]
  },
  {
   "cell_type": "markdown",
   "metadata": {},
   "source": [
    "### Test Acc"
   ]
  },
  {
   "cell_type": "code",
   "execution_count": 30,
   "metadata": {},
   "outputs": [
    {
     "data": {
      "text/plain": [
       "1.0"
      ]
     },
     "execution_count": 30,
     "metadata": {},
     "output_type": "execute_result"
    }
   ],
   "source": [
    "utils.calc_accuracy(dnn.predict(X_test),y_test)"
   ]
  },
  {
   "cell_type": "markdown",
   "metadata": {},
   "source": [
    "## MNIST"
   ]
  },
  {
   "cell_type": "code",
   "execution_count": 31,
   "metadata": {},
   "outputs": [],
   "source": [
    "mnist = datasets.load_digits()"
   ]
  },
  {
   "cell_type": "code",
   "execution_count": 33,
   "metadata": {},
   "outputs": [],
   "source": [
    "X = mnist.data\n",
    "y = mnist.target\n",
    "indices = np.arange(y.shape[0])\n",
    "np.random.shuffle(indices)\n",
    "X = X[indices]\n",
    "y = y[indices]\n",
    "X_train, X_test, y_train, y_test = utils.cross_val_split_set(X,0.1,y)\n",
    "y_train = np.array(pd.get_dummies(y_train))"
   ]
  },
  {
   "cell_type": "code",
   "execution_count": 34,
   "metadata": {},
   "outputs": [
    {
     "name": "stdout",
     "output_type": "stream",
     "text": [
      "----------------------------- Model -----------------------------\n",
      "Input: shape: (None, 64)\n",
      "-----------------------------------------------------------------\n",
      "Dense: activation: relu, weight shape: (64, 24), output shape: (None, 24), parameters: 1536\n",
      "-----------------------------------------------------------------\n",
      "Dense: activation: relu, weight shape: (24, 48), output shape: (None, 48), parameters: 1152\n",
      "-----------------------------------------------------------------\n",
      "Dense: activation: sigmoid, weight shape: (48, 16), output shape: (None, 16), parameters: 768\n",
      "-----------------------------------------------------------------\n",
      "Softmax: activation: softmax, weight shape: (16, 10), output shape: (None, 10), parameters: 160\n",
      "-----------------------------------------------------------------\n",
      "\n"
     ]
    }
   ],
   "source": [
    "dnn = DNN()\n",
    "dnn.add(Input(X_train))\n",
    "dnn.add(Dense(24,activation=\"relu\"))\n",
    "dnn.add(Dense(48,activation=\"relu\"))\n",
    "dnn.add(Dense(16,activation=\"sigmoid\"))\n",
    "dnn.add(Softmax(10))\n",
    "print(dnn)"
   ]
  },
  {
   "cell_type": "code",
   "execution_count": 36,
   "metadata": {},
   "outputs": [
    {
     "name": "stderr",
     "output_type": "stream",
     "text": [
      "  0%|                                                                            | 0/250 [00:00<?, ?it/s]/home/shyam/anaconda3/envs/py39/lib/python3.9/site-packages/barebones_ai-0.1.2-py3.9.egg/barebones_ai/activations.py:12: RuntimeWarning: overflow encountered in power\n",
      "/home/shyam/anaconda3/envs/py39/lib/python3.9/site-packages/barebones_ai-0.1.2-py3.9.egg/barebones_ai/activations.py:10: RuntimeWarning: overflow encountered in power\n",
      "Cross Entropy 0.13068474037466743: 100%|███████████████████████████████| 250/250 [01:29<00:00,  2.81it/s]\n"
     ]
    }
   ],
   "source": [
    "dnn.fit(X_train,y_train,lr=0.001,epochs=250,loss=\"cross_entropy\")"
   ]
  },
  {
   "cell_type": "markdown",
   "metadata": {},
   "source": [
    "### Train Acc"
   ]
  },
  {
   "cell_type": "code",
   "execution_count": 38,
   "metadata": {},
   "outputs": [
    {
     "data": {
      "text/plain": [
       "0.9857849196538937"
      ]
     },
     "execution_count": 38,
     "metadata": {},
     "output_type": "execute_result"
    }
   ],
   "source": [
    "utils.calc_accuracy(dnn.predict(X_train),y_train)"
   ]
  },
  {
   "cell_type": "markdown",
   "metadata": {},
   "source": [
    "### Test Acc"
   ]
  },
  {
   "cell_type": "code",
   "execution_count": 39,
   "metadata": {},
   "outputs": [
    {
     "data": {
      "text/plain": [
       "0.9162011173184358"
      ]
     },
     "execution_count": 39,
     "metadata": {},
     "output_type": "execute_result"
    }
   ],
   "source": [
    "utils.calc_accuracy(dnn.predict(X_test),y_test)"
   ]
  }
 ],
 "metadata": {
  "kernelspec": {
   "display_name": "Python [conda env:py39] *",
   "language": "python",
   "name": "conda-env-py39-py"
  },
  "language_info": {
   "codemirror_mode": {
    "name": "ipython",
    "version": 3
   },
   "file_extension": ".py",
   "mimetype": "text/x-python",
   "name": "python",
   "nbconvert_exporter": "python",
   "pygments_lexer": "ipython3",
   "version": "3.9.0"
  }
 },
 "nbformat": 4,
 "nbformat_minor": 4
}
