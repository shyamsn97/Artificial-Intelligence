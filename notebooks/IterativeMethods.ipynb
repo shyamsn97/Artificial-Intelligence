{
 "cells": [
  {
   "cell_type": "markdown",
   "metadata": {},
   "source": [
    "# Iterative Methods"
   ]
  },
  {
   "cell_type": "markdown",
   "metadata": {},
   "source": [
    "Here we will observe the performance of many iterative solutions to Ax = b"
   ]
  },
  {
   "cell_type": "markdown",
   "metadata": {},
   "source": [
    "We will assume that our data is Positive Definite, like a Correlation matrix, so we construct it using The basic definition of Diagonalization"
   ]
  },
  {
   "cell_type": "code",
   "execution_count": 1,
   "metadata": {},
   "outputs": [],
   "source": [
    "import numpy as np\n",
    "import timeit"
   ]
  },
  {
   "cell_type": "code",
   "execution_count": 2,
   "metadata": {},
   "outputs": [],
   "source": [
    "def CnstrPD(n, a):\n",
    "    RM = np.random.randn(n,n) \n",
    "    q,r = np.linalg.qr(RM)\n",
    "    z = (np.random.rand(n)+a)\n",
    "    A = q.dot(np.diag(z)).dot(q.T)\n",
    "    return A"
   ]
  },
  {
   "cell_type": "code",
   "execution_count": 3,
   "metadata": {},
   "outputs": [],
   "source": [
    "A = CnstrPD(5000, 0.1) #5000x5000 matrix\n",
    "b = np.random.randn(5000)"
   ]
  },
  {
   "cell_type": "markdown",
   "metadata": {},
   "source": [
    "First we'll look at Gaussian Elimination"
   ]
  },
  {
   "cell_type": "code",
   "execution_count": 4,
   "metadata": {},
   "outputs": [
    {
     "name": "stdout",
     "output_type": "stream",
     "text": [
      "Finished in 0.9393647590004548 seconds\n",
      "Iterations:  1\n",
      "First 10 entries of solution is [ 3.28778025 -2.29893082  2.48304618 -3.92837579 -3.16670268  2.18229749\n",
      "  3.5422595   1.52987373  1.10275514 -4.49396229]\n",
      "Mean Squared Error:  2.1180840187146223e-26\n"
     ]
    }
   ],
   "source": [
    "start = timeit.default_timer()\n",
    "x_g = np.linalg.solve(A, b)\n",
    "end = timeit.default_timer()\n",
    "et = end - start\n",
    "estimate = A.dot(x_g)\n",
    "mse = (sum(b - estimate))**2\n",
    "print(\"Finished in\", et, \"seconds\")\n",
    "print(\"Iterations: \", 1)\n",
    "print(\"First 10 entries of solution is\", x_g[:10])\n",
    "print(\"Mean Squared Error: \", mse)"
   ]
  },
  {
   "cell_type": "markdown",
   "metadata": {},
   "source": [
    "Now we can look at Jacobi iteration"
   ]
  },
  {
   "cell_type": "code",
   "execution_count": 5,
   "metadata": {},
   "outputs": [],
   "source": [
    "def Jacobi(A,b,e):\n",
    "    D = np.diag(A) #diagonal entries\n",
    "    x0 = np.zeros(A.shape[0])\n",
    "    check = x0\n",
    "    newcheck = x0 + 2\n",
    "    iterations = 0\n",
    "    while((abs(min(newcheck - check)) > e)==True):\n",
    "        check = newcheck\n",
    "        r = b - A.dot(check)\n",
    "        C = r/D\n",
    "        x = check + C \n",
    "        newcheck = x\n",
    "        iterations += 1\n",
    "    return x,iterations"
   ]
  },
  {
   "cell_type": "code",
   "execution_count": 6,
   "metadata": {},
   "outputs": [
    {
     "name": "stdout",
     "output_type": "stream",
     "text": [
      "Finished in 1.3663058789989009 seconds\n",
      "Iterations:  98\n",
      "First 10 entries of solution is [ 3.28778025 -2.29893082  2.48304618 -3.92837579 -3.16670268  2.18229748\n",
      "  3.5422595   1.52987374  1.10275514 -4.49396227]\n",
      "Mean Squared Error:  2.7212035350028494e-13\n"
     ]
    }
   ],
   "source": [
    "start = timeit.default_timer()\n",
    "x_j, iterations = Jacobi(A,b,10**-8)\n",
    "end = timeit.default_timer()\n",
    "et = end - start\n",
    "estimate = A.dot(x_j)\n",
    "mse = (sum(b - estimate))**2\n",
    "print(\"Finished in\", et, \"seconds\")\n",
    "print(\"Iterations: \", iterations)\n",
    "print(\"First 10 entries of solution is\", x_j[:10])\n",
    "print(\"Mean Squared Error: \", mse)"
   ]
  },
  {
   "cell_type": "markdown",
   "metadata": {},
   "source": [
    "Here is the method of Steepest descent"
   ]
  },
  {
   "cell_type": "code",
   "execution_count": 7,
   "metadata": {},
   "outputs": [],
   "source": [
    "def SteepGD(A, b, e):\n",
    "    x0 = np.zeros(A.shape[0])\n",
    "    n = len(x0)\n",
    "    x = x0 #initial vallue\n",
    "    iterations = 0\n",
    "    checkx = x + 2\n",
    "    while((abs(min(checkx - x)) > e)==True):\n",
    "        checkx = x\n",
    "        r = b - np.dot(A,x) #compute residual\n",
    "        t = np.inner(r,r)/np.inner(np.dot(A,r),r) #update step size\n",
    "        x = x + t*r #update rule\n",
    "        iterations += 1\n",
    "    return x, iterations"
   ]
  },
  {
   "cell_type": "code",
   "execution_count": 8,
   "metadata": {},
   "outputs": [
    {
     "name": "stdout",
     "output_type": "stream",
     "text": [
      "Finished in 2.492261901999882 seconds\n",
      "Iterations:  98\n",
      "First 10 entries of solution is [ 3.28778025 -2.29893082  2.48304618 -3.92837579 -3.16670268  2.18229749\n",
      "  3.5422595   1.52987374  1.10275514 -4.49396227]\n",
      "Mean Squared Error:  5.3389585033927576e-18\n"
     ]
    }
   ],
   "source": [
    "start = timeit.default_timer()\n",
    "x_gd, iterations = SteepGD(A,b,10**-8)\n",
    "end = timeit.default_timer()\n",
    "et = end - start\n",
    "estimate = A.dot(x_gd)\n",
    "mse = (sum(b - estimate))**2\n",
    "print(\"Finished in\", et, \"seconds\")\n",
    "print(\"Iterations: \", iterations)\n",
    "print(\"First 10 entries of solution is\", x_gd[:10])\n",
    "print(\"Mean Squared Error: \", mse)"
   ]
  },
  {
   "cell_type": "markdown",
   "metadata": {},
   "source": [
    "Finally, we'll look at how Conjugate Gradient Descent performs"
   ]
  },
  {
   "cell_type": "code",
   "execution_count": 9,
   "metadata": {},
   "outputs": [],
   "source": [
    "def CGD(A, b, e):\n",
    "    x0 = np.zeros(A.shape[0])\n",
    "    n = len(x0)\n",
    "    x = x0 #initial vallue\n",
    "    checkx = x + 2\n",
    "    r = b - np.dot(A,x)  #initial residual\n",
    "    p = np.copy(r) #first direction\n",
    "    iterations = 0\n",
    "    while((abs(min(checkx - x)) > e)==True):\n",
    "        checkx = x \n",
    "        z = np.dot(A,p)  #compute Ap\n",
    "        t = np.inner(p,r)/np.inner(p,z)  #compute stepsize\n",
    "        x = x + t*p #update along direction p\n",
    "        r = r - t*z #update residual\n",
    "        b = -np.inner(r,z)/np.inner(p,z)\n",
    "        p = r + b*p  #pick the next direction\n",
    "        iterations += 1\n",
    "    return x, iterations  #kth row stores kth x"
   ]
  },
  {
   "cell_type": "code",
   "execution_count": 10,
   "metadata": {},
   "outputs": [
    {
     "name": "stdout",
     "output_type": "stream",
     "text": [
      "Finished in 0.5405143339994538 seconds\n",
      "Iterations:  35\n",
      "First 10 entries of solution is [ 3.28778025 -2.29893081  2.48304618 -3.92837579 -3.16670268  2.18229749\n",
      "  3.5422595   1.52987374  1.10275514 -4.49396229]\n",
      "Mean Squared Error:  4.492398717692577e-16\n"
     ]
    }
   ],
   "source": [
    "start = timeit.default_timer()\n",
    "x_cgd, iterations = CGD(A,b,10**-8)\n",
    "end = timeit.default_timer()\n",
    "et = end - start\n",
    "estimate = A.dot(x_cgd)\n",
    "mse = (sum(b - estimate))**2\n",
    "print(\"Finished in\", et, \"seconds\")\n",
    "print(\"Iterations: \", iterations)\n",
    "print(\"First 10 entries of solution is\", x_cgd[:10])\n",
    "print(\"Mean Squared Error: \", mse)"
   ]
  },
  {
   "cell_type": "markdown",
   "metadata": {},
   "source": [
    "Accuracy measured by Mean Squared Error\n",
    "Conjugate Gradient Descent is the quickest algorithm, with the second best accuracy\n",
    "Jacobi is the second quickest algorithm with the second worst accuracy\n",
    "Steepest Gradient Descent is the 3rd quickest algorithm with the worst accuracy\n",
    "Gaussian elimination is the slowest algorithm with the highest algorithm"
   ]
  }
 ],
 "metadata": {
  "kernelspec": {
   "display_name": "Python [conda env:py39] *",
   "language": "python",
   "name": "conda-env-py39-py"
  },
  "language_info": {
   "codemirror_mode": {
    "name": "ipython",
    "version": 3
   },
   "file_extension": ".py",
   "mimetype": "text/x-python",
   "name": "python",
   "nbconvert_exporter": "python",
   "pygments_lexer": "ipython3",
   "version": "3.9.0"
  }
 },
 "nbformat": 4,
 "nbformat_minor": 4
}
