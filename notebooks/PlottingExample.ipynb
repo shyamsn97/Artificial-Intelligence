{
 "cells": [
  {
   "cell_type": "code",
   "execution_count": 1,
   "metadata": {},
   "outputs": [
    {
     "name": "stderr",
     "output_type": "stream",
     "text": [
      "/home/shyam/anaconda3/envs/py39/lib/python3.9/site-packages/scipy/__init__.py:146: UserWarning: A NumPy version >=1.16.5 and <1.23.0 is required for this version of SciPy (detected version 1.23.3\n",
      "  warnings.warn(f\"A NumPy version >={np_minversion} and <{np_maxversion}\"\n"
     ]
    }
   ],
   "source": [
    "import numpy as np\n",
    "import pandas as pd\n",
    "import matplotlib as mpl\n",
    "import matplotlib.pyplot as plt\n",
    "import sys\n",
    "from barebones_ai.unsupervised.pca import PCA\n",
    "from sklearn import datasets"
   ]
  },
  {
   "cell_type": "markdown",
   "metadata": {},
   "source": [
    "# Plotting Example"
   ]
  },
  {
   "cell_type": "code",
   "execution_count": 2,
   "metadata": {},
   "outputs": [],
   "source": [
    "iris = datasets.load_iris()\n",
    "X = iris.data\n",
    "y = iris.target\n",
    "pca = PCA(X[:,:2])"
   ]
  },
  {
   "cell_type": "code",
   "execution_count": 3,
   "metadata": {},
   "outputs": [
    {
     "data": {
      "text/plain": [
       "array([[4.78530847, 3.91928856],\n",
       "       [4.62836596, 3.40414873],\n",
       "       [4.41214863, 3.58649473],\n",
       "       [4.32097563, 3.47838607],\n",
       "       [4.67719981, 4.01046156],\n",
       "       [5.05035965, 4.34325539],\n",
       "       [4.29557213, 3.77730857],\n",
       "       [4.69413547, 3.81117989],\n",
       "       [4.13862962, 3.26216874],\n",
       "       [4.61989813, 3.50378956]])"
      ]
     },
     "execution_count": 3,
     "metadata": {},
     "output_type": "execute_result"
    }
   ],
   "source": [
    "pca.project(2)[:10]"
   ]
  },
  {
   "cell_type": "code",
   "execution_count": 4,
   "metadata": {},
   "outputs": [],
   "source": [
    "def plot2D(X,y=None,classes=False,title=\"Plotted Vals\"):\n",
    "    \n",
    "    fig, ax = plt.subplots()\n",
    "    if len(X.shape) >= 2:\n",
    "        pca = PCA(X)\n",
    "        if classes:\n",
    "            X = pca.project(2)\n",
    "            for class_val in np.unique(y):\n",
    "                i = np.where(y == class_val)[0]\n",
    "                ax.scatter(x=X[i,0],y=X[i,1], label=class_val)\n",
    "                plt.ylabel(\"PC 2\")\n",
    "                plt.xlabel(\"PC 1\")\n",
    "        else:\n",
    "            X = pca.project(1)\n",
    "            ax.scatter(X,y)\n",
    "            plt.ylabel(\"Y\")\n",
    "            plt.xlabel(\"X\")\n",
    "    else:\n",
    "        if classes:\n",
    "            for class_val in np.unique(y):\n",
    "                i = np.where(y == class_val)[0]\n",
    "                ax.scatter(x=X,y=y, label=class_val)\n",
    "                plt.ylabel(\"PC 2\")\n",
    "                plt.xlabel(\"PC 1\")\n",
    "        else:\n",
    "            ax.scatter(x=X,y=y)\n",
    "            plt.ylabel(\"Y\")\n",
    "            plt.xlabel(\"X\")\n",
    "            \n",
    "    ax.legend()\n",
    "    plt.title(title)\n",
    "    plt.figure(figsize=(20,20))\n",
    "    plt.show()  "
   ]
  },
  {
   "cell_type": "code",
   "execution_count": 5,
   "metadata": {},
   "outputs": [
    {
     "data": {
      "image/png": "[encoded data removed]",
      "text/plain": [
       "<Figure size 432x288 with 1 Axes>"
      ]
     },
     "metadata": {
      "needs_background": "light"
     },
     "output_type": "display_data"
    },
    {
     "data": {
      "text/plain": [
       "<Figure size 1440x1440 with 0 Axes>"
      ]
     },
     "metadata": {},
     "output_type": "display_data"
    }
   ],
   "source": [
    "plot2D(X,y=y,classes=True)"
   ]
  },
  {
   "cell_type": "code",
   "execution_count": 6,
   "metadata": {},
   "outputs": [
    {
     "name": "stderr",
     "output_type": "stream",
     "text": [
      "No artists with labels found to put in legend.  Note that artists whose label start with an underscore are ignored when legend() is called with no argument.\n"
     ]
    },
    {
     "data": {
      "image/png": "[encoded data removed]",
      "text/plain": [
       "<Figure size 432x288 with 1 Axes>"
      ]
     },
     "metadata": {
      "needs_background": "light"
     },
     "output_type": "display_data"
    }
   ],
   "source": [
    "fig, ax = plt.subplots()\n",
    "ax.scatter(X[:,0],y)\n",
    "ax.legend()\n",
    "plt.show()"
   ]
  }
 ],
 "metadata": {
  "kernelspec": {
   "display_name": "Python [conda env:py39] *",
   "language": "python",
   "name": "conda-env-py39-py"
  },
  "language_info": {
   "codemirror_mode": {
    "name": "ipython",
    "version": 3
   },
   "file_extension": ".py",
   "mimetype": "text/x-python",
   "name": "python",
   "nbconvert_exporter": "python",
   "pygments_lexer": "ipython3",
   "version": "3.9.0"
  }
 },
 "nbformat": 4,
 "nbformat_minor": 4
}
