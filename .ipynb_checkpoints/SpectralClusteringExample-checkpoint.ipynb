{
 "cells": [
  {
   "cell_type": "code",
   "execution_count": 15,
   "metadata": {},
   "outputs": [],
   "source": [
    "import numpy as np\n",
    "import pandas as pd\n",
    "import matplotlib.pyplot as plt\n",
    "import seaborn as sns\n",
    "from sklearn import datasets\n",
    "from sklearn.cluster import KMeans\n",
    "from sklearn.linear_model import LogisticRegression\n",
    "from sklearn import cross_validation, metrics\n",
    "import sys\n",
    "%matplotlib inline"
   ]
  },
  {
   "cell_type": "markdown",
   "metadata": {},
   "source": [
    "# Spectral Clustering"
   ]
  },
  {
   "cell_type": "code",
   "execution_count": 18,
   "metadata": {},
   "outputs": [],
   "source": [
    "iris = datasets.load_iris()"
   ]
  },
  {
   "cell_type": "code",
   "execution_count": 19,
   "metadata": {},
   "outputs": [],
   "source": [
    "def split_set(X,portion,y=None):\n",
    "    X = np.array(X)\n",
    "    y = np.array(y)\n",
    "    size = int(X.shape[0]*portion)\n",
    "    indexlist = np.arange(X.shape[0])\n",
    "    testinds = np.random.choice(indexlist, size, replace=False)\n",
    "    traininds = np.array([x for x in range(X.shape[0]) if x not in testinds])  \n",
    "    if np.all(y == None):\n",
    "        return X[traininds],X[testinds]\n",
    "    else:\n",
    "        return X[traininds],X[testinds],y[traininds],y[testinds]"
   ]
  },
  {
   "cell_type": "code",
   "execution_count": 20,
   "metadata": {},
   "outputs": [],
   "source": [
    "X = iris.data\n",
    "y = iris.target\n",
    "X_train, X_test, y_train, y_test = split_set(X,0.1,y)"
   ]
  },
  {
   "cell_type": "code",
   "execution_count": 21,
   "metadata": {},
   "outputs": [],
   "source": [
    "class FuzzyKmeans():\n",
    "    \"\"\"\n",
    "    Fuzzy Kmeans calculates cluster probabilities in regards to euclidian distance\n",
    "    Equivalent to vanilla Kmeans if we assign a given point to the cluster with the highest probability\n",
    "    \"\"\"\n",
    "    def __init__(self,X):\n",
    "        self.X = X\n",
    "        \n",
    "    def calculate_centers(self,U,m):\n",
    "        X = self.X\n",
    "        ones = np.ones(X.shape[0]).reshape((X.shape[0],1))\n",
    "        denom = (1/(U**m).dot(ones)).reshape(U.shape[0],)\n",
    "        diagonal = np.diag(denom)\n",
    "        centers = diagonal.dot((U**m).dot(X))\n",
    "        return centers\n",
    "        \n",
    "    def calculate_fuzzy(self,centers,m):\n",
    "        m = 2/(m-1)\n",
    "        X = self.X\n",
    "        us = np.ones(shape=(centers.shape[0],1))\n",
    "        ones = np.ones(shape=(1,centers.shape[0]))\n",
    "        for i in range(X.shape[0]):\n",
    "            row = X[i].reshape(X.shape[1],1)\n",
    "            row = row.dot(ones).T - centers\n",
    "            norms = np.linalg.norm(row,2,axis=1).reshape(centers.shape[0],1)\n",
    "            norms = (norms.dot(1/norms.T))**m\n",
    "            sums = 1/np.sum(norms,axis=1).reshape(norms.shape[0],1)\n",
    "            us = np.column_stack((us,sums))\n",
    "\n",
    "        return us[:,1:]\n",
    "        \n",
    "    def predict(self,m,k,exit,seed,argmax=False): \n",
    "        \"\"\"\n",
    "        Main clustering function\n",
    "        m is the degree of uncertainty, (fuzziness of cluster)\n",
    "        k is the number of clusters\n",
    "        exit is the exit criteria \n",
    "        set argmax = True for normal K-means\n",
    "        \"\"\"\n",
    "        np.random.seed(seed)\n",
    "        U = np.random.uniform(0,1,size=(k,X.shape[0])) #initialize cluster probabilities\n",
    "        centers = self.calculate_centers(U,m)\n",
    "        newcenters = 2*centers\n",
    "        while np.linalg.norm((centers - newcenters),2) >= exit:\n",
    "            newcenters = centers\n",
    "            U = self.calculate_fuzzy(centers,m)\n",
    "            centers = self.calculate_centers(U,m)\n",
    "        if argmax:\n",
    "            return np.argmax(U,axis=0).T\n",
    "        return U.T"
   ]
  },
  {
   "cell_type": "code",
   "execution_count": 24,
   "metadata": {},
   "outputs": [],
   "source": [
    "def l2distance(X,y):\n",
    "    '''\n",
    "\t   gets euclidian distance between vector X and matrix(or vector) y\n",
    "    '''\n",
    "    ones = np.ones(y.shape[0]).reshape(y.shape[0],1)\n",
    "    X = ones.dot(X)\n",
    "    dist = (y - X)**2\n",
    "    dist = np.sqrt(np.sum(dist,axis=1))\n",
    "\n",
    "    return dist"
   ]
  },
  {
   "cell_type": "code",
   "execution_count": 29,
   "metadata": {},
   "outputs": [
    {
     "data": {
      "text/plain": [
       "array([0.53851648, 0.        , 0.3       , 0.33166248, 0.60827625,\n",
       "       1.09087121, 0.50990195, 0.17320508, 0.8660254 , 0.45825757,\n",
       "       0.14142136, 0.678233  , 1.36014705, 1.62788206, 1.05356538,\n",
       "       0.54772256, 1.17473401, 0.83666003, 0.70710678, 0.76157731,\n",
       "       0.78102497, 0.55677644, 0.64807407, 0.2236068 , 0.5       ,\n",
       "       0.59160798, 0.5       , 0.34641016, 0.24494897, 0.678233  ,\n",
       "       1.14891253, 1.34164079, 0.17320508, 0.17320508, 0.50990195,\n",
       "       0.45825757, 0.52915026, 0.81853528, 0.54772256, 0.98488578,\n",
       "       0.84852814, 0.36055513, 0.81240384, 4.09633983, 4.23674403,\n",
       "       2.96984848, 3.81182371, 3.39116499, 3.86005181, 2.14709106,\n",
       "       3.78813938, 2.80535203, 2.46170673, 3.24499615, 3.04138127,\n",
       "       3.71214224, 2.55929678, 3.7       , 3.43365694, 2.97153159,\n",
       "       3.69188299, 2.79284801, 3.89358447, 4.01870626, 3.65650106,\n",
       "       3.65102725, 4.08044115, 4.29534632, 3.5383612 , 2.41867732,\n",
       "       2.7       , 2.57875939, 2.85482048, 4.11703777, 3.39852909,\n",
       "       3.59722115, 3.55808937, 2.99833287, 2.9291637 , 3.24345495,\n",
       "       3.62215406, 2.95465734, 2.17944947, 3.10322413, 3.07896086,\n",
       "       3.1144823 , 3.36452077, 1.91311265, 3.02985148, 5.33853913,\n",
       "       4.18090899, 5.35723809, 4.70850295, 6.15954544, 3.47994253,\n",
       "       5.68682688, 5.04083326, 5.74717322, 4.41927596, 4.52106182,\n",
       "       4.90204039, 4.13400532, 4.6808119 , 4.68294779, 6.36945838,\n",
       "       6.53146232, 4.0620192 , 5.19037571, 4.00249922, 6.26178888,\n",
       "       4.10609303, 5.38980519, 3.98120585, 4.03112887, 4.85180379,\n",
       "       5.15848815, 5.59195851, 6.15467302, 4.89182992, 4.16893272,\n",
       "       4.5475268 , 5.86003413, 4.95983871, 3.91535439, 4.86004115,\n",
       "       5.07247474, 4.70212718, 4.18090899, 5.32071424, 5.20672642,\n",
       "       4.7       , 4.24970587, 4.49888875, 4.71805044, 4.15331193])"
      ]
     },
     "execution_count": 29,
     "metadata": {},
     "output_type": "execute_result"
    }
   ],
   "source": [
    "l2distance(X_train[1].reshape(1,4),X_train)"
   ]
  },
  {
   "cell_type": "code",
   "execution_count": 31,
   "metadata": {},
   "outputs": [],
   "source": [
    "X_train[0] = np.ones(4)"
   ]
  },
  {
   "cell_type": "code",
   "execution_count": 48,
   "metadata": {},
   "outputs": [],
   "source": [
    "def generate_similarity_matrix(X,sim_type):\n",
    "    \n",
    "    n = X.shape[0]\n",
    "    p = X.shape[1]\n",
    "    \n",
    "    newmatrix = np.zeros((n,n))\n",
    "    if sim_type == 'l2':\n",
    "        for i in range(n):\n",
    "            newmatrix[i] = (l2distance(X[i].reshape(1,p),X)).reshape(1,n)\n",
    "        return newmatrix\n",
    "    else:\n",
    "        print(\"Please provide a distance measure\")    "
   ]
  },
  {
   "cell_type": "code",
   "execution_count": 51,
   "metadata": {},
   "outputs": [
    {
     "data": {
      "text/plain": [
       "array([[0.        , 4.47325385, 4.38862165, ..., 7.27255113, 7.33825592,\n",
       "        6.74240313],\n",
       "       [4.47325385, 0.        , 0.3       , ..., 4.49888875, 4.71805044,\n",
       "        4.15331193],\n",
       "       [4.38862165, 0.3       , 0.        , ..., 4.66154481, 4.84871117,\n",
       "        4.29883705],\n",
       "       ...,\n",
       "       [7.27255113, 4.49888875, 4.66154481, ..., 0.        , 0.6164414 ,\n",
       "        0.64031242],\n",
       "       [7.33825592, 4.71805044, 4.84871117, ..., 0.6164414 , 0.        ,\n",
       "        0.76811457],\n",
       "       [6.74240313, 4.15331193, 4.29883705, ..., 0.64031242, 0.76811457,\n",
       "        0.        ]])"
      ]
     },
     "execution_count": 51,
     "metadata": {},
     "output_type": "execute_result"
    }
   ],
   "source": [
    "generate_similarity_matrix(X_train,'l2')"
   ]
  },
  {
   "cell_type": "code",
   "execution_count": null,
   "metadata": {},
   "outputs": [],
   "source": [
    "class SpectralClustering():\n",
    "    \n",
    "    def __init__(self,X):\n",
    "        \n",
    "        self.X = X\n",
    "        \n",
    "    def generate_normalized_laplacian(self,distance_measurement):\n",
    "        \n",
    "        X = self.X\n",
    "        similarity = generate_similarity_matrix(X)\n",
    "        distances_inv = np.diag(1/np.sum(similarity,axis=1))\n",
    "        laplacian = np.identity(n) - distances_inv.dot(similarity)\n",
    "        return laplacian\n",
    "    \n",
    "    def predict(self,)\n",
    "    \n",
    "    "
   ]
  },
  {
   "cell_type": "code",
   "execution_count": 55,
   "metadata": {},
   "outputs": [
    {
     "data": {
      "text/plain": [
       "array([[1., 0., 0.],\n",
       "       [0., 1., 0.],\n",
       "       [0., 0., 1.]])"
      ]
     },
     "execution_count": 55,
     "metadata": {},
     "output_type": "execute_result"
    }
   ],
   "source": [
    "np.identity(3)"
   ]
  },
  {
   "cell_type": "code",
   "execution_count": null,
   "metadata": {},
   "outputs": [],
   "source": []
  }
 ],
 "metadata": {
  "kernelspec": {
   "display_name": "Python 3",
   "language": "python",
   "name": "python3"
  },
  "language_info": {
   "codemirror_mode": {
    "name": "ipython",
    "version": 3
   },
   "file_extension": ".py",
   "mimetype": "text/x-python",
   "name": "python",
   "nbconvert_exporter": "python",
   "pygments_lexer": "ipython3",
   "version": "3.6.4"
  }
 },
 "nbformat": 4,
 "nbformat_minor": 2
}
